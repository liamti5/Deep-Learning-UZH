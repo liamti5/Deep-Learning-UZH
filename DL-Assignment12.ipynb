{
  "cells": [
    {
      "cell_type": "markdown",
      "metadata": {},
      "source": [
        "# Zero Shot Learning and Auto-Labelling Pipeline"
      ]
    },
    {
      "cell_type": "markdown",
      "metadata": {},
      "source": [
        "## CLIP Zero-shot Classification\n",
        "\n",
        "In the first part of the assignment, we will be doing zero-shot classification -- i.e. classifying images into classes without training on them -- using the CLIP model on the intel-image dataset containing the following classes: buildings, forests, glaciers, mountains, seas, and streets.\n",
        "\n",
        "### Note for Windows Users:\n",
        "\n",
        "Several parts of the code use the Linux command `wget` to download files. \n",
        "You need to replace these by `curl` instructions."
      ]
    },
    {
      "cell_type": "markdown",
      "metadata": {},
      "source": [
        "### Dataset\n",
        "\n",
        "For this exercise we use the  [Intel Image Classification](https://www.kaggle.com/datasets/puneet6060/intel-image-classification) dataset that can be downloaded from the official website [here]({https://www.kaggle.com/datasets/puneet6060/intel-image-classification}).\n",
        "The dataset contains $25000$ color images of pixels size $150\\times 150$ in $6$ classes: buildings, forests, glaciers, mountains, seas, and streets. \n",
        "Here, we will use only the test set which contains $3000$ images."
      ]
    },
    {
      "cell_type": "markdown",
      "metadata": {},
      "source": [
        "### Download the dataset by running the code below"
      ]
    },
    {
      "cell_type": "code",
      "execution_count": null,
      "metadata": {},
      "outputs": [],
      "source": [
        "# Library for downloading datasets from Kaggle\n",
        "! pip install opendatasets --upgrade --quiet\n",
        "# Library including Huggingface Transformer models\n",
        "! pip install transformers"
      ]
    },
    {
      "cell_type": "code",
      "execution_count": null,
      "metadata": {},
      "outputs": [],
      "source": [
        "import os\n",
        "import json\n",
        "\n",
        "# Write the kaggle.json file\n",
        "with open('kaggle.json', 'w') as file:\n",
        "    json.dump({'username': '', 'key': ''}, file)\n",
        "\n",
        "import opendatasets as od\n",
        "od.download('https://www.kaggle.com/puneet6060/intel-image-classification')"
      ]
    },
    {
      "cell_type": "markdown",
      "metadata": {},
      "source": [
        "### Task 1: Data Transformation\n",
        "\n",
        "Since we will be using the pre-trained VIT model for image embedding, we need to apply the following transforms on our data:\n",
        "\n",
        "1. We need to resize the image to $224\\times224$.\n",
        "2. We need to convert the image into a tensor (including pixel values scaling).\n",
        "3. We need to normalize the pixel values with mean $(0.485, 0.456, 0.406)$ and standard deviation $(0.229, 0.224, 0.225)$."
      ]
    },
    {
      "cell_type": "code",
      "execution_count": null,
      "metadata": {},
      "outputs": [],
      "source": [
        "import torch\n",
        "import torchvision\n",
        "\n",
        "imagenet_transform = ..."
      ]
    },
    {
      "cell_type": "markdown",
      "metadata": {},
      "source": [
        "### Task 2: Dataset Loading and Transforms\n",
        "\n",
        "We here use the [ImageFolder](https://pytorch.org/vision/main/generated/torchvision.datasets.ImageFolder.html) class from pytorch to load our training and test set respectively.\n",
        "\n",
        "This task consists of two parts:\n",
        "\n",
        "1. Create one dataset for the test set. Use the transform defined above.\n",
        "2. Create a dataloader with a batch size of 32 for the test set."
      ]
    },
    {
      "cell_type": "code",
      "execution_count": null,
      "metadata": {},
      "outputs": [],
      "source": [
        "# To create datasets from folders\n",
        "from torchvision.datasets import ImageFolder\n",
        "\n",
        "# Path to your test data\n",
        "test_dir = './intel-image-classification/seg_test/seg_test/'\n",
        "# Use ImageFolder function to create your dataset as done in Assignment 7\n",
        "dataset_test = ...\n",
        "\n",
        "# Instantiate data loader\n",
        "batch_size = 32\n",
        "testloader = ..."
      ]
    },
    {
      "cell_type": "markdown",
      "metadata": {},
      "source": [
        "### Test 1: Data Size and Types\n",
        "\n",
        "We check that all input images are `torch.tensors` of size $3\\times224\\times224$ and of type `torch.float` and that all labels are of type `int`.\n",
        "\n",
        "Note: the sanity check is only performed on the test set."
      ]
    },
    {
      "cell_type": "code",
      "execution_count": null,
      "metadata": {},
      "outputs": [],
      "source": [
        "for x, t in dataset_test:\n",
        "    assert isinstance(x, torch.Tensor)\n",
        "    assert isinstance(t, int)\n",
        "    assert x.dtype==torch.float\n",
        "    assert x.shape==(3,224,224)\n",
        "    assert x.max() < 3.0\n",
        "    assert x.min() > -3.0"
      ]
    },
    {
      "cell_type": "markdown",
      "metadata": {},
      "source": [
        "### Task 3: Create Text Prompts for CLIP Model. \n",
        "\n",
        "For each class in your dataset, you need to create a text prompt. \n",
        "You can make different prompts for different classes that might help improve the model performance. \n",
        "Here is an easy example: `\"This is an image of {class}\"`. \n",
        "Keep in mind the index of your list should be related to the class for which you are writing the prompt. \n",
        "\n",
        "For reference:\n",
        "\n",
        "1. index 0 - Buildings\n",
        "2. index 1 - Forest\n",
        "3. index 2 - Glacier\n",
        "4. index 3 - Mountain\n",
        "5. index 4 - Sea\n",
        "6. index 5 - Street"
      ]
    },
    {
      "cell_type": "code",
      "execution_count": null,
      "metadata": {},
      "outputs": [],
      "source": [
        "# Write one text prompt for each of the 6 classes above\n",
        "text_prompts = [...]"
      ]
    },
    {
      "cell_type": "markdown",
      "metadata": {},
      "source": [
        "### Task 4: Initialize CLIP Model and Encode your Text Prompts\n",
        "\n",
        "The text prompts need to be embedded by the CLIP model. This is what we do here.\n",
        "\n",
        "1. Example of initialization can be found here: https://huggingface.co/docs/transformers/en/model_doc/clip\n",
        "2. Documentation of CLIPProcessor: https://huggingface.co/docs/transformers/v4.41.1/en/model_doc/clip#transformers.CLIPProcessor\n",
        "3. Documentation of CLIPModel: https://huggingface.co/docs/transformers/v4.41.1/en/model_doc/clip#transformers.CLIPModel\n",
        "4. Documentation for other methods of CLIP: https://huggingface.co/transformers/v4.8.0/model_doc/clip.html"
      ]
    },
    {
      "cell_type": "code",
      "execution_count": null,
      "metadata": {},
      "outputs": [],
      "source": [
        "from transformers import CLIPProcessor, CLIPModel\n",
        "\n",
        "model_id = \"openai/clip-vit-base-patch32\"\n",
        "\n",
        "# Set your device here\n",
        "device = ...\n",
        "\n",
        "# Initializing the processor and CLIP model.\n",
        "processor = ...\n",
        "model = ..."
      ]
    },
    {
      "cell_type": "code",
      "execution_count": null,
      "metadata": {},
      "outputs": [],
      "source": [
        "# Create your label tokens - This will contain your input_ids of the tokens and the attention masks.\n",
        "label_tokens = processor(\n",
        "    text=..., # Set it to your text prompt list\n",
        "    padding=False, # Set it to True in case the text prompts are of different lengths\n",
        "    images=None, # Since here we are only interested in textual embeddings for the labels\n",
        "    return_tensors='pt' # Get PyTorch tensors\n",
        ").to(device)"
      ]
    },
    {
      "cell_type": "markdown",
      "metadata": {},
      "source": [
        "To get the embeddings, call the model with the method `get_text_features`. \n",
        "Reference: https://huggingface.co/transformers/v4.8.0/_modules/transformers/models/clip/modeling_clip.html#CLIPModel.get_text_features"
      ]
    },
    {
      "cell_type": "code",
      "execution_count": null,
      "metadata": {},
      "outputs": [],
      "source": [
        "# Encode your label tokens to get text embeddings of shape (n_labels, 512)\n",
        "label_emb = ...\n",
        "\n",
        "# Detach your \"label_emb\" from gpu (if it was on it)\n",
        "label_emb = ...\n",
        "\n",
        "# Normalize your embeddings by dividing by the norm (make sure you use the right axis)\n",
        "label_emb = ..."
      ]
    },
    {
      "cell_type": "markdown",
      "metadata": {},
      "source": [
        "### Task 5: Get Image Embeddings and Estimate the Labels\n",
        "\n",
        "To classify the images via CLIP, you need to do the following steps:\n",
        "\n",
        "1. Get image embeddings using `get_image_features` function (the only input argument will be your image tensors). Reference: https://huggingface.co/transformers/v4.8.0/model_doc/clip.html#transformers.FlaxCLIPModel.get_image_features\n",
        "2. Calculate the dot product between your image embeddings and your label embeddings.\n",
        "3. The label with the highest similarity will be the predicted class."
      ]
    },
    {
      "cell_type": "code",
      "execution_count": null,
      "metadata": {},
      "outputs": [],
      "source": [
        "# To store the predicted labels and the true labels\n",
        "y_pred = []\n",
        "y_true = []\n",
        "\n",
        "# Loop through your testloader here\n",
        "\n",
        "for imgs, labels in ...:\n",
        "    # Put your imgs to device, No need to put the labels to device\n",
        "    imgs = ...\n",
        "\n",
        "    # Extend your list \"y_true\" with the labels. Make sure to detach and convert to cpu\n",
        "    ...\n",
        "\n",
        "    # Get image embeddings of your batch\n",
        "    img_embd = ...\n",
        "\n",
        "    # Detach your img_embd from gpu. Your img_embd shape should be (batch_size, 512)\n",
        "    img_embd = ...\n",
        "\n",
        "    # Calculate the scores between img_embd and label_emb\n",
        "    scores = ...\n",
        "\n",
        "    # Get your final prediction by taking the argmax of the scores (Make sure you use the correct axis here)\n",
        "    pred = ...\n",
        "\n",
        "    # Extend your \"y_pred\" list with pred\n",
        "    ..."
      ]
    },
    {
      "cell_type": "markdown",
      "metadata": {},
      "source": [
        "### Task 6: Evaluation and Comparison\n",
        "\n",
        "Calculate the confusion matrix from the predicted and true labels. \n",
        "Plot the confusion matrix and compare it to the results of Assignment 7 (ResNet50 with frozen layers). \n",
        "The confusion matrix has been provided below from the Assignment 7. "
      ]
    },
    {
      "cell_type": "markdown",
      "metadata": {},
      "source": [
        "![image.png](data:image/png;base64,iVBORw0KGgoAAAANSUhEUgAAArwAAAJ1CAYAAAA7XSM/AAAAAXNSR0IArs4c6QAAAARnQU1BAACxjwv8YQUAAAAJcEhZcwAADsMAAA7DAcdvqGQAAP+lSURBVHhe7J0HgFXF2f6f7b0Xlt47KCqI2LBj7xo1xpYeY2J6r+ZLNCZ+iSZ+iSb/2GPs3djFjoKCFOkdlt1le293/+c3ew9c1gV24QK7d98fjnfvvXPPmTNnyjPveWcmqs1DhmEYhmEYhhGhRAdfDcMwDMMwDCMiMcFrGIZhGIZhRDQmeA3DMAzDMIyIxgSvYRiGYRiGEdGY4DUMwzAMwzAiGhO8hmEYhmEYRkRjgtcwDMMwDMOIaEzwGoZhGIZhGBGNCV7DMAzDMAwjojHBaxiGYRiGYUQ0trWw0WtpamrS1q1b9fbbb2vz5s2qqalRv379dNxxx2nYsGGKjY0Nxgwvzc3NKi4u1oMPPqhJkybp4IMPVkFBQfBbY0+pq6vTM888o/r6epenU6ZMCX4TPmjuWlpaNG/ePC1dulRFRUUKBALuPh5xxBHKy8sLxjQMI5IJbcdHjx6tQw45RIMHDw5+a0QiMb/0CP5tGJ8CgdDQ0KD169dr+fLlTiQsW7ZMq1at0qZNm1RVVeXiJCcnKyoqKvir/QNi5cUXX9S//vUvJ2CWLFniRO+ECROcAN1XgrexsVErV67Uddddp8TERI0aNarHCN4tW7Zo0aJFWrBggVavXq20tDSlpKR86t7Q2HP/3nzzTXdfEZkJCQlKSkoKxugeiMjKykp3TM4VFxen6OjuPUDi9zfeeKPeeecdl5/7QvCSTq73nnvu0fPPP+/yibJMHo0dO1bZ2dnBmPseytF7772nxYsXuzpFujqGiooK9e/ff7/XrZ4EA1uEybvvvuvKLXUuPj4++K3RkdByRRtJ+5yZmRn8tp1w5mk46v6BILQdb21tde24Cd7IxlwajJ2C5au2tlaffPKJEwg//elP9eUvf1lXXnmlrrnmGn3729/W//7v/zrRWVZW5uLvT2isbrvtNq1du1YnnHCCvvWtb7l0jRw5cp+JXfAbdayBCMp9ea7uQkfHfTr77LN14YUXOkFLw94R7tdTTz3l4p111ln685//7O7znoJ1duHChbr77rud4Gbg0V3oJOmYs7Ky9lh47w6E/aOPPqoXXnhBqampuvrqq/W9731PZ5555n637iJmv/Od7+jiiy/WZz7zGV1++eWfCn/4wx+cIOnLD+Kqq6vdIOiyyy5z5YvBt7Fz/HJ1wQUX6Bvf+IaefPLJT7XN4czTcNR9w9gfmOA1dgqiCGGAiPznP//pRvLnnHOOEwiMig899FDXwP3pT3/S//3f/+3Xho60lJaWas2aNTrxxBOduDv33HN15JFHKjc3VzExMcGY4QdryMSJE93j9+uvv15jxowJftMzQJAjHhG6H3/8sdatWxf8ZjsMFj766CMn3MNhPWRg5Hd6vPK+u2RkZOi3v/2t/vrXv+r0008PfhpesGxh1UVYn3baabriiis0a9Ys59KAAD4QDBw40JXfG2644VPhc5/7XNjukdH34Inc7NmzXVu5rwwS4aj7hrE/MMFrdAqN1vvvv+/ELNYALGE/+9nP9KUvfclZpC699FJnPfjFL37hBDGWzv3ZKeNmgcDmUVROTo4TSzyWRozuS7ELXCeP/3j8xSPwnvZ4lfRhIR0/frx7XE/oCIKXz3EbQFDtLVggEZOUFV6707lyD7Fict+wsuLOsK/EJ+nC75trRvRyHvKKexjOx7BcE4OyruQDFu1p06bpvPPO+1SYMWPGLusV+ca5jN6LX3fCLUipS7SH1POnn37aPd3YF+xN3T8QkF6/fhp9C5u0ZnQKlsF7773XWXZ57IWoxQrWUdzRiJaUlDgR4X9PkcKigCUNP0T8fBETCFOsoViGERl+R464/ve//+1cA/Cj4ru5c+c6CzN+pXw2efJkDR8+3MXHqsxENXww//vf/7rJRgg3fB0ReaeccoqzamDZPOigg9z3oeAC8eGHH7rXL37xi06sA4/m+A3f4d+GhRQRlp6e7ibBHXbYYc56jMjY1aQ1/ObwJ8Yvs7y83F17fn6+swqPGzfOHc/HTwuWagYSvCfPyE/yg/OSfq6tK4LsiSeecNb2+fPn6/zzz3dpwPL9la98Zdu9I19xRSH/mOB3xx13OAvjF77wBWch5/5x7fgAIoy5Hu4R94vr5zrIZ98vkLzAreX+++/X66+/7o6JHzXXSb4cffTR7r6/8cYb7jopB9wv3C8KCwvdYIX75FvNQyetMbDhmOQJxyB9oflHOWVgRjyugfR15mLCY17KDW4clDXu69SpU125QvRecskl7h4BEyDxCecxL2lBNAwYMMDFZXKLP0AILQd8jsDAl5E85/Xkk0925cMvXx0hX3Ep4fi4ClHPOsOfzMc1cB4GWdQPygiDLq4DNx7O+cEHH7g85m+/zpFu/JP9fPOPR1nn784IvW9cL+KA9PJUgDLKYJN8Js8oC9w/6ip0zBeORRtAeaIckQ7yhd90xWeatoQyQB5RX7F6U752BZZNygz3knOTfs5LW0I5C/XVpK5QB7lO6gwD5448++yzrqzye8o3UE/wW/XrCeehXJEn1HPKL3nit3PcF/KdAQ55RttAOiljtIlMmiIux6JcU08RZtRb7iP3mIGRn887wy9XXDPXhACl/cBtadCgQe6+7S5PSdOKFStcnSEPaQ+oJyNGjHD5xyvsru5Pnz7diWDyl7JwzDHHbGuHuHa/nae+085xbeQreUBd5VhcM/Wa66C8UjdJG78jLu0Q+U0571ieKIOUVfKONFF+qTe8Jz71hKeWPFHy2z8f2hXuA/fk2GOPdf1PZ22L0XuwSWtGp9B4PfbYY66hwyeUDqozv0oaVAQLDapvWWXiFL6jNIKvvvqqazRoOOkYEBE0UDRM/vFo+HGToPGjIaYj5nc0bHPmzHEdBQ0NjRrno/HE1QIfNBosGkEa5Y0bN7rJcwiAf/zjHy79dBQdBS8dHGIe4YM/MoKERplG9KGHHnKikYYRn1a/46Szo/FlFQjyhAa546Q1GmSu5aWXXnJ+onQEPOLj2skDGlri0+mQVzSkflqYeDd06FB3TQhDGlvEC8KZxp5OtCtWT78TIR004OQf+UyH4gseBiKvvPKKuw4aewYNCCI6XYQA18F9ePjhh10+k9+kn2vhlQEO10F6uQ7uN9fKddPpcz+4F+QnVh/yZ8iQIbrrrrtcB0S+0pFzbK4TIcf1ce6Ok9Z8wUv+cI/JO45F3pGORx55xPmX0/Eef/zx7hr9chgKnSMCm7zmXnJczktZI6101JRjxNxzzz2nBx54wOWdf+/8wQvp4j5QDkPLASKD9JFXpJ9XyiudZGcCCvyBHunlWhFB5Isf6MyBPCVfuE+ch0Becw7ikR/cY+4p10fd4x77aSdvqHMILe6bf14GhcSjzPiBgeTLL7/s8oU6j7AhfVgJOSdlgnz0yzW/4bq5f+QfgiU0X7hHlA/qE+kizdxz6gLxKRu+INwZiC/uC2KRQSdleXf+1pQLRCp1iGskH3il/SFfyTPygnNzzffdd5/Lj1NPPdW1B/7gkrpAGb7ppptc+mm3/PaENJEntBdvvfWWOwdtHOWbe+SLPsoKcO0/+clPXHtCeSQ9/I745B+DKsoZecy1kr9+G8QEVNo6LP6ke1f495e2kLzivpN28o70UFZ2lqfkDQMW7hGCk7pAO8x1cc/5DfcXNxzqAde5q7pPneb+46ZEnaNt9tsxBtx33nmnOwf3gQEW10Y87gV55Q8eyHfyjLpFfadNID/9Ms595b4RL7S+/fjHP3b1hvaMPOS4XA/9Ce0X99kfmPntH30BeU6Z4LrIT8QxaemsbTF6DyZ4jU9Bo0cjQUNGx3Dttde6RrMr0AHTkN1+++2uY2SETyeCoEIwIHLoDOlMaTRpcPwGmk6QBpUR+UknneRG1RyPBooOmGMhYGnI/Q6PBo+4WEfxyaRBpdGjQaQR9C0HoXAO/5i4aNBQIgroIP/nf/7HiXf8OvENxgqFWKBT5/ykuaOFF7FCR0JHQAd28803u3RhCcFiRBzSgpD1r4P85Nr9tCB8iUNDTMNLx8Z1IvzpSBB6NMq7g4YawctvfvjDH7p7QEdJuv3f05HRedHgIxIR+aENPnlOp8W9Ij2IwZkzZ7qOB7GIQNiwYYOz1pB3dOgEOjs6cybBMWGG+47FBCGHuHnttddcx0keIOS5V5zft1AShw6Yzpg8JXBcfk9+kk90opQLOh46IwY13A8mLBJ/Z9Yv4nN88gGhQRk544wznGWLjpZ7hbhB6DIRkg6S70kfZY4yS50gPaSV32NB88sBr3T+3DOun/tHeugkd5Ymv9yT39wLBjZ06n4gHygjpIt8Ic9JB9+R91iQ6YgRSuQP95vvKe885cA6i9jgt75IoT6TF5Q/6sZRRx3l8pPjca9IC+WFtDCRj3JHOsgXnhxQrqhn5AtinjpLfSdNlA8GhKH5Qj6SL+QBx+NeYxVFiHIejkUZ25Xo3RPBi1hhQENeUH75HenyB5EIefKc+8nn1G/EEPnANfiikrJFXaGO0C7gZkId4Tf/7//9PzeoJ49pKyjv5DnXSzvAPSGffAHNwB1xTBmmnlIe+R1x+J1f/ijT1EfaDsomf5NO8pi2rjPDQyh+uSJfOT7Hpi5TBijnXN/O8pT7z/2hHaTtofzyhIj6z3mpO7Qv/E27RnnfVd3HSED9YTAG9APkH5AXfltF/nAexCr5SRtDHl511VWu/lN+uHc///nP3UCUdpkyTrq5Xuomv6MdJr/88kQ+MGignNKmUWco71wz95M8CRW85A3x/vjHP7r2ivL61a9+1X1nYrf3Y/Z541P41i8a++4+xqHjYKkbOueLLrpI3//+913niYim48HqQSOLEKPz9Rs/oJPkUdzXvvY115HTCNJg8/gdqxMCnI6KDp7HYjTYpM1/zOhbo2h8uwuNPJ0QDTiThWhkadRJN50AeeFbSHcGQh3LMh0es+65Dhp7jkGHgZDC0kJnjEWbDs+H60BIff3rX3eNONdOI40ooJMhbYiDrkKDT/rJRzoKxCKP7ehUsYwAjXhnkBZcKej0OA6djS+86GS4Du4xnehnP/tZ16HTkZFnvkBl1Qx/QMNnfmdBR4tYpBNBPJCnxOGcdHwd4fx0gqxYQF7QEdKJcb8RIXRyCFPOtzNhCeQF+YuQ+dvf/ubiIkjJU/8aKWNcF/cF/3Tyi3Nz77lv2AYQOIhE8icU6gv3nMGhL8Yoo12pO9xbJutRzkNBNHPdiDBAKPHY+/Of/7wbkHFs8g5BhjghDaycgtWeukW55W8GA6Sf+3L44Ye7a+U43E/KJnCNCAM6e+4n+cKjZK6B+4z4oK5SN6hvfM7vuQ++lQ6RQx6HCgMGueQL95u6APz+73//uxOACB4GgLu6d3sClj3SR30mPVwnggoXLZ6+ICq5j5QL2g3qwj333OPykWvw3XVoCxFr5C3XitBC7DJwoz1CYCHK+I5yzjkRVFhpmcSFaKIcEQ+4J1i9KV/kC2KU9BEofwx6GTgguHyLIsfkd7z66eoqft1EfJIWBCnibmfQdvIkhnuD4MYgQPtNOSP/ELnkE08SqL+0xbuq+5RR0s69962slGvuB3/79ZKBGuWbeNRpvqOM+e4RDJKp+1iOmT/CkznOC6SD8kMZJw6DHPLOh3uH0OcpCb/x6yVlnjbFh/xlMITrB4NpzkEfRhqMyMAmrRmfgkaekS8NFo+f/NFyV6DzprGkkWSkzyiaRpdGi8aGRpTj0mEgikNBCNEw0akQn3PTcGKJoWGkM6CzoROggaPhAhpahAxx/M+6C2niuBwfIU0jTWdJGhBAXM+ujk3jiUBFfDBIwIJA2vk9108nhsjgbxpl8jcU0o+YRAxwPuJxTkQZnQONdsff7A7uGx05x6YhJ3280nlgydiZ4OV35CXnJ3ANHIPPee/7AXKvyS/yjntAAPKJ+OQfr+SrD8egk0Sk0ilxbOLtKm85PmUCSxgdPj7Hv/vd75wFDVFGOSO9uyqnfEf6iOffa87Juf3PKJNYsBGziDeEK/cBaygdOZ9hTcKSxeAsFIQLgwvyhmsicHyOuzvIByx3+FmHBsRqqDjhGuh8EcCUEcQ4afcHa4gFhDACjnSTV4hULKtcJyKCss1xqD/8ls/JF6yHWHARqJRD6ilxiMsAifJH2fQtxIgDoDxgBeMxMKKFwV4olHvyxa8LBD+fyEvSTl0LN6SLMk47wjVyHZRF8oN8oh5QZ4HvuS7ylkfm/r2l3jFAw/JL28T1k37qIXWY+kRdp2xyn7kOfsO1Uh54z5Mb8tSHeJQnyi15w33i/OS1P4AhX6ij3BfusX8vSUNXylMoxKf9RLiRHp58Uc53Bm0/cShflD1euSZ+6x+La6ae4OZC/uyq7nNNfMbvOAa/4ZXfk8/kKQMEjoOYxWjAd4he7gn3it/T9pNuzoPwpi/h3hJoTxC95A99D/UzFMoC/QrljrznHnZsl0gTgpnBMMYB5qxQB8gDzm9EBiZ4jU9Bw0YHAX7H1lWw8NJ50kBjqQxtLGicaHhocGjU6DBCoXGjk6KB96GB43d0znQc3U1PV+G8dHikm0dcjPKxBmHdogH1O8edQSdIA47FgIaaTo/G3ocOgE6ea6TxpmMJvRau07dm+HAfsAxxHCwvdArdhUaeDoH8piGnMyOtiLqOVspQuP9cN5YwVur4zW9+46yQWJ5wzcAai6WKjqI70NEgJBEeofmzO+h4EXp0jnSaPEbnGFiTEA7hAPFF3nDvGKj5HSJ5QWfK4IN74pfxUEgL98rv+LsDZQJrI9by0IAIDr1HiB/OQVkNBcsZgftMGaOu+CCk/IEWcRASoSBmGHj+5z//cWIPCzCDEaxuPogvAoM5ygKDDcqCv4QcZYryTHkItZiBny+h95rrJT2I5H1Vp7lOLLO4VvlpJd2sVkD9o+3xz+vXM+4B18nAAIFPneNvhBgCFvFDXNoCBhhcK77JDMD8cxBoO2g3iIfFPLTeUqa4fwTuZygMVDgP58UCfssttzhLKoKbNHOv9gREHvcVYc7TIgYwnbUl1GWsrOSB79L0+9//fodr810EqCfkMfd9d1B/uDZeGXDxG3yVefWt69RvP085LmUJUUtZ5ne+awztM3lEH+JDneMYXCfxqJ+hUHf9gSjH6gzENGUDf2Cs9QwQGOR2vEdG78YEr/EpECU0NDSwdOzd6ZCwTtCQ0dHSANFB+NDp+aNr4nRsLGlc+K4j/I6OomP8XbGzhs2nY+fhd3hYw2j0aex5JMlkKfzqeKTbUeSEQueGCCSvEK0I3I7wGddIZ0NnH5oG8onfhQomrsG3RGBJ5TfdhYbeFy++Xzadhm+t6gzO5fsb8niTTo7OAAGBuEEA0CnT6XUXrofzhlpXugriyRe3dIhcF9fRWZnZEyi73AfEWMfyw8ANocb3fhkPZWf3vCtQV7Dycj2hAQEbeo/4m3OE1ikgLZQ/6lvHfCUu6eYcxCPtoZCPWLYY5GG5w6qFeAg9B/WBso/o4v6HBlxAEEj+wIrzhOLX91DIS8o5Aos07amQ6wzqH2KVR9LUXx6/P/744+497gqIdq6Zsht6XgZhvusI4gfBxzXjekWeIRbJH+AcCHWOgYDrmCcE8orfUGZDr598RYB1ZjXk+LhwIU7JUybeUf+4DgaeCNU9qXPkNe0bbRsWVI5D/e4I9d4v2/7Tqo7XxWfkG2WEtqxjWdwZCFviI0YRtAhL8oD2CQMB147gRdTyPenAfcJvD0kT107dpIyFntcv4xyvszJOXxZqSOgM7jcinHaNa2OgGTpwNCKDrpVWo09Bg0KjTENNw0sj0lXRS+NDoFGkQwvtVPib4/CKoOjYWPJ+V0KV34Ueb1f4x+4sPunqaJlEKNBpMxubSWdXX321a6SxZtx666360Y9+5KwjO7P0+tfDK8fuLL/869/Zde7q+rt63R3huhCFWCx9X0w6Fz7bGQhyOls6Wjp9Hq0zWQQfOCw+uBDwmNC/l92B9ISK+q7CebBSY3WmU6KMYpGlc+x4L/cUv8zs7N4hCIBr8OP6+IOyfcnOzkGZ8ctdZ5Burok4oelmAMWjee41Quib3/ymc0/oKNz5HeUHyy/3f2eBZeEQL6H4adsZe1qudwb1EzGFhZQnGrgW4S+PdZI0sgQXQqrjebEwYsHHuo/gpZwhvrCuMkDE2kcegJ+P5NOu8oRzslIKojcUhFnH8gPcX9xmaIPwn8fKSLqos+y4h/80Yn1PyjvijcEMrgW4AiH+d3Ycro+2EP/dzq6L8Ktf/coJ89CncbuCNodBHRZc2lEs47QhCHGuEWsueU6gnpMXoYLXz/OdtTmUcT7344XSlTaH8zOYpm1hcIEA3hMDg9Gz+XStMwwPOi4EH5YKGkisPF0BKxMjeRoORvOhjSqdEQIKSygj7p1ZGPcWGj2Ozfk6a7To3Duz1vI7hBQdHxMWeKSITxfro+KfyAQbGuPO4Hc8pqSx9V0bOoLlCcsQDTyd5b4WSD6IWx4D+hNDsDxhQdwZWFKw+tHRM0GEiXTMbmayCZ0c1rDOHomSf/sK7iOTetgmlc6JyTf4YfoTfcIBZZfyiqjoKHopz3SCfE+8fVV29wREB4NTBgCU+VBBQHpJN/eLeKTdB9GBFR+XBiZYMtmHstkRrGcIJgITzHYWEDUHOl8ou4h46h9lhI1xeGW1A9KIoO0Myi7Xh5847RbWRvIFayjlnrrtl2/qOOKXMkIdwWWkY14QfD9d2sOuwjkwNpBeJkAi3BGYTDpj8iltUGdty+6grSHNHBdxiLW2ozsJotBvv/1r7Oy6CFhBaQdCBemuoD9B3NL24tdMoFxxDsoc+YSrEoMU8p/PQgUvZZd0YXnmGKH9il/GqaMdy3hXYSDABFEGbawCwQRV+r2O7YDRuzHBa3QKI3x8mbDu4qOG1YS/O0LjQ+fAI0O+R1jxmAphiJ9l6G/8z+h8/Xj7Ahp3388R8elPQgHSy6MrLLehIKhIFw034pWGkwaZhhrfWho+HpXtbNTPb7Bg8CgMKwXHD712RBQCjVcEdWePNPcVdPLcS2aFM8Of83N9OwPBxHWSjwgYOh/EAKKKR6EI544rKmCRoXPit3Q8oR1SOMCdgkA6vvOd77hZ7nSSrBfKrHvf+ro3UCbpLLlGjuvfa66JThgLOX8zWKDz7ilwfyl31C8ewfuDOdJKmcWVhc+Ihyjl3iCOWXGCa6VsYLVHvHW0jgFtAeWAMo07C3Eo736gLPv3e3fCZ3+A6OXaGVRyTbxSdvkcUUX97wzi4BPOK4KQwQB1mPyhbvtwzYhgjk2dpqyE5oefJ9SfjgOQXUH7Q5kjf0kD9Q5RyYAVQUZauJ97WtZJD37hvrhktZzQNorzUr8Q6li3adep5x2vjeP46eR+d6Xucz2IW/KFvMUVBBcY38LL3A6OyfwABrB8Tp775ZGySz7QftPXhE6OJN9YUpKnPcSjHncXrgEfbSbE4T/PQIc5HLjsdPX+GT0fE7xGp9BwsJQWM7ap/Kw5yXJaNFa8x9JAR0qjwHdYi2jc6XixINIwsjQPYoRGjCVx+JtOhIYPCwHn2BfQqGJ1oUMirUzIYdSO5YdJIIgC0hoKk1PwU+VasBrSifEbHidiWeGYNMI7E4o0zDTcPOJEHCOO8H1lIhDWUnwJfaspFic6lv0FHT6ihce5zD5GsNHA7wy+w7pP50oe4PfL/eaVMuD734WC9QWxSAdInmOpIR4dKxapPbWU0HliaaNzZuCCpYvHvjyq9lcfoAPkPiFo9gaOScdLZ8ogj8EZ948lt3jsTxnHuoWFeVcDhv0NHTXpIu8pZ9Qxyhp1zt/8hcfqDHSwHiIQqIvE4T4iEBA2iDd8NAkIW/++keeUH6xoTFLj+NQl6giP/DkWS6qFrnywr6AsULZIe8fAo3KuDVGPwMKKSFopu3yPiw73c2dpRLT5bg1cP3F57O63JT7kGWUFYYjI4rgPPfSQyxPaCto78oSnQ9QBRFpXIP20mcwZIF+5TgQXaWcQTRoQiVzbnkLZpe1lAMP961hnqMcMfhjskwaWWaR+kYe0m7RrtKHUD/+6ulL3aR9pPyl/lBPELQYPBD1tIX/zHUKY7xD49CH+AArDA+42xPH7Ffoi0sh71han/WWi9J4aUmhLMG6w6yKWcOo79Z5rNyIDE7xGp9AI8UgJHzQaSBowGmImUdDg+YEOBcsPDRGNGg0fk7+YAIJwIA4TvxCSCEo6Vtba5Zh78uipK9Bx0UEjAmhwEZ6km/Qj2hByHX0NsbzSwdF5ERAOpJ2GlY6Ix70ck+vcGeQZfnJYf7AIck4C10+jTOfCpBTC3nRa3YVOg46bFQ5wSQjtvDuDjoY0YiWn82JQQ16Qjzzmg475wLWTp5QZygN+cOQhQhU/8D2x+GJZoVNlYEU6EG2IXNJF/rEEF/eYe4eww8K5N4ILMYCFDwGJeCH93D/KLqKRDhvrD4MBrFw9BQQa9Y0BKnlPWaPMEZiMxgCGtWARaNQNRCECAfGIhQ8xxbWGBu4b4oP7xj1lkEH+IOYoC6F1hHpFO0CZ39OBTVehLiJCWPu3Y+CacBtCoFJXsRRy70gnaUSsYYHsWPd9uKdYFRE95BnHYvCOgAqtr8TzyyLWUgQcdYSy4ucJ5ZHJct0pk9wPBtscJzR/aTcZ7PkbVCAw9xSELm0vgr0z1x3qPlZg7jf1j2vomB7KF0LTF8tdrfvUH/KSfPX9d7kW8hMXNwbipAfhSh0LhfiUX9JFv0J588s4g3D6FdqsI73B2d641fBbRDP9HsYbBgUYTHiqFY6nSMaBxXZaM3YKDRmVnkaE0S8NDYKHkS+jdwQujRAjYh4F0SkgruiA/SV8sJTwGxp+hAo7orEIPZYKf/ROB4yoobGhIWaCSCg8guR8CGREDumiseVxLBYVBCYdnC/kOC5WGM5BA8rv6SjxX+X3nIM4LGFzxRVXuPPynoaZa+RRHlYujk9jzGj/+uuvd9Y/rpGGj0fEiGcaRzpFOkq/w6SxpsMkzVg86MiwWOAPi2CiofevHZFA+kgLLgcISY4DnIcOg8EGj/O4Tu7DriDNpB8rCb7Hu2r8Q6+DPPetW6Sd+8crHS15QRrJU9LPtTCQCL0fXA+vWO9JA79BpHJ8hBJWN/KC4/F7OtWOIL6wZgGiBTFBp4wPI8fHvw7rOOUK6Bj5HCsbHRNlkfzf1WBiV2WN45I2rp0OlGtAzDBAonzhDsL5/YHazvKvq+yu3Pv4+YJwIh7nCYV0+4KA+065o86RL9QBJmAyEOMeAKIPccg1cj+ISxkLDYgS/74hgijTCBpEEHU61ApMfiD+aCdIB/Vod/mC1QxByvV0XL6wI1w/7QcDUuoJ7hhcY8cA1FUEK+WA62QCGtfDwImnVeQR9Su07neEa0fgcK3UWcpiZ+lDfJIvDCLIC9oYXrl28oHBEyKVv6lLpJuBFPWfwSd1JRTKMmWCeKSb49E+0CYwYMHPmvvptw87Y3flinpDu4j1GMHJYInyjVWXNFB/uCeci7wgHQTSRZ5QL2nvaQ+59q7UfeJRX/DBpX1i4M394Bzgt3WUR9JL+0Bd9OEcpA8rL38zGOM8lCHaffoV7if3PhSe0pBm7iHXFMqu2j8EPOWa8/CkgM/8J5dG7yXKKwzmoGLsEhoGGlE6Hv72rQI0AnQENHahj5+AeAgFfuOP8IlPXBpZX7QAx6Mh5Pd811HUcRw6L35DI8QrvyFNdLg07PyG44eCQOB3xCMNdBTE4/cIA0SzL1RJL++Jy9/EJz18xzVyDo7PZ1QZjk2n6V8PDboP33Ec/1j8ht9ybuKHdlick+vj1e8Y/XzkPOQfwoT8xQoSmm+dwTk5HuflceGuOsfQ66CT4zr8jp3v/Lwjr4C0EYe8Ib2h9wP8zxEXnJ97RL6Qbo7PdfA95+jMykx8fyINecW5OA6dEunhHvBZKOQP10saSQvH3lUe7a6scR6O5d8T4nM8jktcriP0/uws/7rC7tLi4+cLeUG8zkQaaSH/yXvSzd/QWbnzz0va+V1nhN430kc8zu/ni3988objEo9zcL6u5AtlgfLlX4+fp51Bejlnx0lWHaGOIOZIO/Epu5QPfkMayQfS27Hud4TBAJtwEIdH9wz6ua7O4Ficg3ORJ1w75yA+6eGcnIPr86+B78jbjnlCnnEsgl9/+B3xyUeOtbN0hOLf352VK74nvaQFcM8hTmgbRhzSyz3iGv20cC3E8++3f992V/eJx+ccD8MD18698vOA+HzO93xGuvldRzgPZdDPIyBNpKWz/CEfODbHI4Syu3LKOfzr4diU0121LUbPxwSvYRiGYXjQHbL8F36rWD1ZqaXjYN4wjN6JDVcMwzCMPgtWQ6ydPLbHzxe3A6x9+If71knDMHo/JngNwzCMPguP7PHZveeee5wLA36k+GsyUdUwjMjBBK9hGIbRZ0HwMtmMlRyYCMXkUCYnMuHKMIzIwXx4DcMwjD4Lk5r8SVxMSvInMOG7axhG5GCC1zAMwzAMw4hozKXBMAzDMAzDiGjMwmu4dQaZqdzZmpSGYRiGYWwH2YQrDOv2HohVPDg3IdxwLYRIXW/YBG8fB6HL7mIs7m9L8BiGYRjGrsFIRGCnvf3db7a2triVRNjoo7U1vKKXjTvYYIPd/SJRC5jg7eMgdG+77Ta3HI+JXcMwDMPYPWx1fO+997otphG9+wOsuoWFm3T1VRdo1apCNTaFV74xWZPt4v/whz+4nfIiTROY4O3jsJ3jb37zG9335O069vJBikuI5rlG8FtjZzRXRemTPye7V8MweiJWN7tKtCfYCMbuaVNAlc3FakrbopdfflmjR4/eYUvifQlW5bVr1+ikk47TmaeUa8rkWMXGhaecN3ni+bkXW9UWc5Jboo/tlE3wGhEFe5ezleYTb96hy38/QQnJ7Pse/NLYKQ0l0Xrzskzv1TLLMHoeVi+7Q0xqmmLSUoPvjF0RaGtVccNqlSQu0Ouvv66RI0c6V4D9AYJ39erVmjlzpv7nZ3U6Y1a8J7aDX+4l9fXSzX+u09LVx+qhhx5yrg0meI2Iwhe8T759p666ZaLiTfB2iYbiaM2+2BO83qthGD0Na8S6Q0wagjct+M7YFYG2Fk/wrlJRwkeaPXu28+M9EIL397+u1ZmnJig+TMtF19e36aZb6rVoeeQKXuutDcMwDMMwehGBtjZnbW5rC4QlBIIhkjHBaxiGYRiG0Ytoc97EhHD9i/yH/SZ4DcMwDMMwehUI1HCKVCR0ZIteE7yGYRiGYRi9iHZ5yr92O284QqRjgtcwDMMwDKMXgUANqDWMIfJFrwlewzAMwzCMXkT7pDVPpoYxmEuDYRiGYRiGYfRiTPAahmEYhmH0KrZ78YbrX6RjgtcwDMMwDKMX0S5RA2H7x7EiXfSa4DUMwzAMw+hFhH/SWqsJXsMwDMMwDKPn0G7fbbfzhvNfJGOC1zAMwzAMw4hoTPAahmEYhmH0Inyv2/blycITzMJrGIZhGIZh9Bg8feoFT6j6wjcMgf8iGRO8hmEYhmEYvQz0abgC/3OvEYwJXsMwDMMwjD5MpItdMMFrGIZhGIbRiwjsg2AWXsMwDMMwDKPHgEBt9RRqIFzBO573EtGY4DUMwzAMw+hNeOoUgRq24P2PEMmY4DUMwzAMw+hF+Np0m2ANQ4h0TPAahmEYhmH0IhCovhtCOEMkY4LXMAzDMAyjl4FA9Sec7W2IdLELJngNwzAMwzCMiMYEr2EYhmEYRi8i1A0hXCHSMcFrGIZhGIbRi0Cgdrq82F4E77+IxgSvYRiGYRhGLyKgqLCG1uBrJGOC1zAMwzAMoxfRLlKjwxYCXoh0C29Um0fwb6MPUldXpxtuuEFPvn2nrrplouKTYxS1Dwd5rY1RKnk/XiVvxik6qU25RzSr34wm911bq1S+JE5b58SpZmWM2lqkpMGtyp3eouyDmxXrxf8U3kct9VFa90iiKhbHKnV4q0ZeWa/YRO+LfXgdDcXRmn1xpns9kCSltKr/iEZNPrJaBYPqlZ7dpK1b4vX64/nasCxJLc2RPWLfU3IHNGn0lFqNmlyr7H4NSklv1tvP5WnRuxkqLYwLxjI6EpfQpnFTazR5RqX6DW5QW0Aq2pCsd/+bpS1rE9RQ11NsKAe23Gfktmisl0/jD61WZl6j4uJb1dgQo5JNSZr/ZobWe3WzriomGPvAE5OW5sL+ZPj4So2dXKbBwyuVktbeB1RVJGrlJ1latiBbRRtT3GfJXt0cM6lc46dsVW5+nWJiAiranKaFc/O0YlGWGuv3bz4GvI6puGGVihI+0uzZszVixAjFxsYGv923tLS0aPXq1Zo5c6a+9fNiHT8rSvEJwS/3koY66Y4/B7R51Sw99NBDSk1N9bRAZPUfPdrC+/HHH+vhhx/WG2+8ocbGxuCne05DQ4MWLFigP/3pT1qzZo07ZmVlpd555x3deuutKi0tVSDAAh2dU1VVpQ8++EB//etfXaGDsrIyvfbaa7r77ru1fv1695nROa1NUardFKPNL8Wr6J04lS2MU+3G7Y0VYrfwtXiVfuQJDu+/mOQ2Va6I1eZX4rX1/c5FCAJ6y1ueSJ4Xp5L3vGN+GOuEcl8ZxSFAsguaVDC0UYmpAQ0ZW6eDj65UZn6LoqNtLLszUjNblDeoSVkFzUpMCWjaSeUu7xK9AYTROQyuhk+s1UmXFGngyAa1ttIZRmnE5DrNuozP6hUTa2UOYuMCSstqUUxcm+prY1RVHq9Aa7QGj2nQrM9u0fAJtUpI2nlf0xdITvHqXnKLWgPRqqpM8EK8UjKaNWXGFh1xwkavjjYpNj6gQ2YUadrMQm9AX6fa2ljV1MSpYHCtph6zRZOmlQSP1gdpa69/4Qpt2/6OXHq04P3www9177336pVXXnFidW9hdLRp0yY3KkPc8r68vNy9/93vfqeSkhKvEd95h+eL49///vdavny5+6y2tlYrVqzQnDlz3LGMzuE5QkNJtBOlzZVRik1vU2zq9s4R627RG3GqWBSr5IGtGnF5g0Ze06DsKS2qXRujwlfj1VzjVcqQ/hSxW7PBE9AvJyjGO1Ziv77XgbS2RKm6PFZL56Vo9hO5WrkwNfiNsSsa66O1aVWi5r2aqdcfy3PvjV2TmdeiqSdWatSkGq38OEXP/Ku/nrunwPs7WdNnlWnMoTVKz/ZGm4Ya62K0YXmS3nwqR0/9Y4Ae+esgl1fLPkzVtBPKNPqQGqX18bwq35qoRfNy9fKTw/T43WP1+D1j9c5Lg5SQ0KrDjvYE7pBaZeQ06IjjNym/oFYL5+bq6QdG68n7xrjf5Q+scd+lZjQpqg8O7hGogbbosIU2F0zwRgwpKSk6/vjjdeedd+qggw5ScnJy8Js9Z8CAAbrsssv0P//zP5owYULwU6MjrfVRqlwaq43PJmjQuU1KG9OiqLj2RorHoojZigWxis8IaNCZjcoc26y0YS0acnaj0oa3qmZVjKpXY71tr5AI3/ot0Sp8LcEJ3+xDWpQ2qu9Z52qrYrRsbqpmP5qj+bPTtXWTPY7vCoVrPLH7SobefjpLKxakqKUpshv6cJBT0KRDZ1Zq0ZxsN1BYvTBZyz9K0Yv35aqiJE4jD6rTgJF7b5iIBGoqY7TcG4Su8PIHV4+ywjitW5Ks957LVG1lrDJzW9xThr7M5rWp3gA9S+uXp6u8OFHlRUma/06+1izNUEys1H9wrQaPrFZuQY3WrPDauOcGq2RTiguznx2sTWuSNXhEhYaOrVJsH3yyEDrhLFwh0nOxTwle/FESExOVlZWluLi4sPinxMTEOOGckZGx3/x4eiOlH8apeE68sjxhmnNQk+LTtletttYoVa+PU0tttJLyA0obur0jSMxpVVI/T8jGRKlqTYwCwa+aqqKdS0TRa15He2mD0kfYo2jD2FdER7UpJbVJ/QbXaO0niZ6g297WNTdHa9WiNKWmBZSV2xz81AiFniYjp1mTjqxWcnqLtm6Od4MEYzu4YI0YX6GBw6rV7A1AN3mCGOim21qivbZ/e3/Nky1cRJJSWjRkZJUnkPu2e4jRNXqF4K2urtYDDzyg66+/XldeeaW+//3v64knnnATrgAH6x/84Af66KOPvMZ3e4PL+6985St69tlntXXrVud+8Oqrr+qLX/yi8w/2f98ZxH/uuefcOa+44gp9+9vfdufhGKF+vps3b3Zp+8lPfqJPPvnEfYZ/8G233eZcH+6//37dfPPN+vznP68vfelLzv+X7/1j8IqrBPG++c1vbjvXiy++qN/85je65ZZbnN8wML/wzTff1I033uiOd+mll7rXP/zhD+5aeypVq2JVuiBObd6tGXJWg7Pihj6CwsLbVE6DJjfZLC7E1SEqxvsspc1ZgxvLvOLqxcX9oXQu/rpx6jezWRmjWxSb3PdG+Iaxv4hNaFOiJ2jxTa0sjXWCxCfgDVgrSuMUnxhw/tBGO9Exbcru36xLvrVB3//bUl138wodd36RXnmkn5bMSVNthRlIktOaNeXILfrWb9/Td373ri79yiIF2qI0+7lh2rI+xYXa6ngNGlmjyYdvdeUvNr5VBx1RouFjK5WQ0KKMrMY+OV+hzZNvAcWENXDMSKbHXx0TxRCnBAQfllkmjCEQEYKIRYQmE8eKiop28MHl/fPPP6+VK1eqvr7eieG1a9fqmWeeUXFxsfPh7QwENv7D//rXv9xEtISEBHdc/HbffvttNTW1zygF4i5atMidHx9gIE3vvfeeHnnkEb3++uvOXxh3CgQ2nyFaSRvgm/z00087Ub5hwwYXLzo6Wi+99JIee+wxd77CwkKX1lWrVumpp55yE+/i4+OVn5/v4nM+0rE7ENfkAZP1/MC17Mpvea/w2qCW2igVvRHv/Hazp3jidFSLoju28168gCeGEb5RXieByN0B7z2fBbxOFleGymVxbkUGeY1c/5MaFecEdDCuYRhhB/HmHht7OrelKdqrq9sFLzR7nxEnxgtGENo1r4uprYpVdWWc1wexAk6U0jJblJAccPnV16EcNTXEqKoiQbW18WppjVaCN3BKTm12+YOf74I5/Zxv6XFnrNP5V3+i869cqkOPLPLitKiuNsHTBO3lsq+xbwRvZGdkj5cJCDkE7vDhw53187rrrtMxxxzjRCxCETEYbhC5b731lhOWp512mr7xjW/os5/9rIYOHerEdagVeWcgIpkgh1g+4YQTXLovv/xyVVRU6N1333XilTiI5HvuucdZjk899VRnUSYeDSPX7q9OwTlJDyK/X79++trXvqYf/ehH7rgnnXSS+vfv7+LtCqzRTK5jEOCHF154waVlX4Altr44RlvnxKqxyOsQvbq09b04lbwdp7pNMWraGu18c7HWerWt/dGV1wDyux3w3vNZtNewEafEi1+5PFZt3rijqShKpXPiVDbfO0dxtJoqot3xatbEuuXKDMPYe3A74jEyIo6VB6KidhRrsd5nAa/uYu012iE/qktjNfuxPD38l8F68h+D9P7LORp7SLXGT6tRdoG5fzTUxWjVJ9l6/O7xeuyu8Xr58RFqrI/VQdNKNHR0lTdgiNac1wdq0dw8b8DVqkmHFWvioVudz31pUbJqqhK8PjLGK5d9r9wxCAh3iPSRQ48XvPjcInavuuoqHXbYYTr44IM1a9YsnXjiiXr55Zed4A33UsJLlixxwvaoo47SBRdcoMmTJ+vwww934vfQQw911tXdgZU2PT1d5557rk4++WSNHj1a06dP1xFHHOGWMiPdWHxxb0DIcj1nn322xo4d68739a9/XcOGDdtmfcU6i7UbAV1QUKCBAwcqLS1NQ4YMcQMAjr87ELu4WeAG4YevfvWrznVjX0CDX1cU4yaVbX0vVov+J1lzv53mQtHL8ar4KEbrH4rXx79OcfUsytO9rQ1RaqnbXumw+jLhra05SvFZ3n32SmxjSZQnlKNV+EL8tuMtuTlJpR/EqmppjD7+VYrWPZV4wNfINYxIodmrww010Z7o9dq17BbFxW9vc3mcnJHVrCav7jbYahc70Oq1gVXlsSrZEO8msc1+JEcbV6Zq+MR6DR5dH4zVd0FksY5uWVGic194/7X+WvhBnrN+HHZUkeITWlW0IUX/fWiE/vSTw/X77x+tm753pB64faLWrUjzBlqtKi1OsoGW0SV6fOuEqBs/frxzZfBBSI4ZM8a5JWAZDbfgxQqLGB03btwOE9H8tHRlchqT2bAIhy7ejAjOzs52bgS4WBA2btzovhs8eLByc3Pd3/yW1R+Ii8AFXhG2mZmZuu+++5y1G/GKry/5EOpXvDOwBP/5z392y7D5AQsv1ut9QXRsmzLHNWvC9XU67JZaHRoS+p3YrMwprRp8cZMOvqFW2ZObFJccUL0nUqvXb8/fhrJo1XuiGQtw+vB2d4ih5zVoyq9qdzjm+O/VK3tai9LHtWrSL2o19OwGNwHOMIy9B7/Kmpp4FW9M0dBx9UrJ2P4YJi4uoBETa1RTFatym4i1a+gKotrcJCtzaegcukuvq/zURDTcHeqqY1VfF6v8QV4fMrhGLc3Sso+z1NwHN9ih9OCCwA5p4QgcK9JLZI8XvIhELKq+aAT/s5aWll0KPYTwnvin8huO2/G8CFGEZ+hnO4M4WKf5TSi859h+4BpIJyI6NK7/3j8Xfw8aNMhNbMPFAks3fsB33HGH2ymNtYp3lRfgW4SxIoeGnJycYIzwgl9tfFpA6WPad0oLDYn9WhWXFVDKoIAyJzUrITugjMmtaqqM1qbnE1S5Mk41nvBlGbPqNTFKGdqqtBEtzsc3eWBAWRN3PF7G2FbvGG2KS/NE9oQWJQ9oVXRC5HcozJ5PSAgod2CT8gc3OSHCYu1Zec3K895neq99fYH7zoj1ylF6VovLM3Zdi/aqXkp6QDn9m5UzoNktGWV+4TtSVhSnj97M0KTDyzXlmAoNHV+vkZPrdPzFZcru16i1ixNVuDpM2z71cnL6N+noc8o0bGKd+xv3heGT6nT02aUaOanKLR9YvLFv59XEqVs1aXqJ+g2pVXpOo3IK6nTIUUU66PAiJSY3aPmiLE/QRjvXhhETK5Q3sNZrzxo05qBynXrhKq+Na9TiD/upZFOyW7Ghr4EPb2ubpyc6rKe7p4Fj2aS1AwyTujpORuMzrJoIOAQowhRBGGrtxXqKCwDW1O5agFlmjGNu2bJlBxHJefmsqyIaYd4RBKyfHs6BxZbP2LSipqbGfc45mYjG9SCIwRfQuEWcc845Ou+885yrBO4PTLDDLxjL9K4gPeQT1nI/IKw7S2e4cKssJLHyQmCH4PxxmXfmidK4FK+axUn9jmly4rjGE7hrH0zU6vsTVTovTkmeeC04rknx6d5vvKTGeL9h5YbQ43GOqFgveEImLtk7nhenLwiW+MQ2DRjRoDOuLNR5X9mocVOrlZ3XpKNOL9HZX9iso84qU/9he79LYaSRltOiQ48vd3l22ue2uB3Wxh1aqZMv2aJTL9/itmqO8wYOxnZYRmvuKxnauDrZbTJxqpdvp3y2SOMOq/GEcKaWf5SqylKz8EKqN/DET/f4C0t05jWFOuuazTrxohKNPbRWy+enaeE76SrZuHvXuEhmwNAaTT3aK0Pnr9ZZly33ROxqHX5coddpyLk1LF+YLZa86+d2VSvUaZ7IPfPSFZp5+nondlcuztbcN/o7l4hudvERgdfDedcdxuCOFzx4hNLjJQGij9URCKx2gP8rk6xYhgvrJIKRgBhcunSpE44IXXY/Y/WElp2sxLArcCdgBQR8a5kwxzFZpoyJchyzK5PWukJSUpKzuOK64PsNk3auEQEbKvR5RWwTEK24VuCicMYZZ7j3TH4jr3oLqUMDyhzbouSC7aIia3KL+p/YpMzxLWooilLd+mhnqeWz/CN3necI4PTRrc66i5DevQ0+MsBtJCm9VQNH1GnwqDq3P//qxSlKSGzRwOF1yh/YqKTU7j/liHTiEgJuS2byLG9Ag5a8n66aihhl5TZqwLB6ZxnH6mtsp646RqsWpOilB/upbEu8cvKblJHT5Hase/6eAq1fnqyWPvhouTPYua9sS5zSM5tdGRs8uk5p3t9F6xP0zL8GaPGcdLdDYl+msizB+d7m96vTsFEVGjCkRq1e+Zn/XoFblqzdchulxrpYxcUGVDCwRoOHV3p9fbMniPPdrmyrlmQEj9ZXCQrVMIT2XjOy629UW3fNn/uRu+66y61nizUXYcdkNSySLPX1+OOPuxUNsHQifu+++24nBlmjl00g2AL4ySefdJPCfvzjH7vJZ1iEH330Ube6AcuaYS1FXP773//Wrbfe6pYWGzlypBOPxGO7YXxljz32WGcx5ns+x9LLb1hVYdmyZW75MtJ00003aebMmZo/f75bPxeLLeeaNm2aux6stnxOes8//3w3EY/zf+9733OCnklyp5xyijs+187SZlOmTHHrBjOpjaXLiI+vL5PWsASzfBmrVWD1/da3vuV8hrsDvsq4RDz59p266paJik/GjSL4pbFTmBA3++JMmxhnGD0Sa8S6Q4zXNxKM3RNoa1FxwyoVJXzk5sGMGDGiS/N6wgEGPIxw6Iwv/bROR5+cqPiE8JT1hvqA7rm1VmVrjnV7DoTOP4oUenxvjaUVsUfGIxa/+93vOiF4ySWXONHIclysfHDRRRe5R/RsQIGAxCLL77rqcxsK58R6ykYR+MYiJJnshThks4dwbEnsgwjnmqZOnepWnWDVBDaqOPLII92kN6zAvtsBa+7OnTvXTVZDLH/hC19wG2lceOGFTvCGM12GYRiGYfRMfMts6NbAexO2W3kjlx5t4WWTCNay9YUcllcsrQg/VjVgZIXIZdSDwMXaihUVgYhbAm4OjIZY0QGLKJ+zKgJuCSwz5q+YwIYPuCswavI3fkDcsm4tv+ecCE/ikxasxiyRxvJgrJVLOkkb/rR5eXnOlxaXCtLFSg9sZQy4QvA535M+lh0j+0kDn3OtWHdJN1ZcxDuCniXKEMScgzWCsfL66/MyCuM4pIW0dxez8O4ZZuE1jJ6MNWLdwSy8XaenWHi/8JNGHXlKouLjw1PWG+rbdN9t1apYc3TEWnh7tODtC+Cby5q8CFhENRZpfIapSHfeeadbigwLMwJ5X2CCd88wwWsYPRlrxLqDCd6u01ME7+cRvCcnhdGloU3331YV0YLXeusDDAUYizH+wfjiEtg+GF9hrLZYdtlZzTAMwzAMo512Meq7NuxtaCeyB4omeHsAuFAwyY6Jc7/4xS/cJDg217j22mvd7m6swmAYhmEYhgE8mt++YcTeh3Y/3sjGBO8BhrV48Qe+8cYb9fzzz+uNN95wW/0ySY5VG7q76oJhGIZhGJENm0QQQndL25vAsczCa+xT8JFhkhorQ7AmLyszMCEPNwYmyO3LTSEMwzAMwzAQu2bhNQzDMAzDMHoMnbkl7FVow7prFl7DMAzDMAyjhxBoi1ZrW0z4Am4NTvRGLiZ4DcMwDMMwehHbrbPt/rfhCSZ4DcMwDMMwDKPXYoLXMAzDMAyjVxG07ra1+9+GJZiF1zAMwzAMw+gpBDyB6oInUsMTcGmIbEzwGoZhGIZh9CKwxvpCNTzBLLyGYRiGYRhGjyOyBWq4McFrGIZhGIbRi2i38Ea75cnCFWwdXsMwDMMwDKPH0D5hzV9OLEyhzQSvYRiGYRiG0UNggtmOk872PtikNcMwDMMwDKPH0C54Q1Zr2MvA8UzwGoZhGIZhGBGOuTQYhmEYhmEYPYROfXD3IgQU4x3VBK9hGIZhGIbRQ2h3Rfj0Sgt7HmwdXsMwDMMwDKNH0S5QwxXajxfZmOA1DMMwDMPohfiTzcIRIh0TvIZhGIZhGL0It0JDByttOEIkY4LXMAzDMAyjF8EmEWw80bk/7p6FSMcEr2EYhmEYRq8Ci2x4aYtwvwYTvIZhGIZhGL2IztwR9ibgHmHLkhmGYRiGYRg9hnaRGh2+0MZ6vCZ4DcMwDMMwjB6CW1nB+fGGKXhiN9JXajDBaxiGYRiGYUQ0UW0ewb+NPkhdXZ1uuOEG3fOP/6djpkxVbEysoiL7qUZYSEhs1rHHLVOi92p0jedvH6d1H2cH3xldw9lx2v80jH1EVGycouJig++MXRFoa1VJYIO2Zi/X7NmzNWLECMXG7p+8a2lp0erVqzVz5kyd+YMMTTkxR7Hx4bFbNjUE9Nzt66X1k/TQQw8pNTXV0wKRJQZM8PZxfMF7x413aaJmKLYP7KcdDjL71etnz7/iXo2ucetVx2rBSwOC74yuQfPMipuGYfQEAmrVVm1WacHaAyp4z/h+lg4+KYyCt75Vz//fekWtnxixgtdcGgzDMAzDMHoRbtKaWz+X170PbZ4cxJc3kjHBaxiGYRiG0YtgGTGe/bRPNtv70L5rW/hobm5WTU2Nqqqq1NDQ4Inp7UdvbW11T5f5rrKyUtXV1Z+KA7zvatyuYILXMAzDMAzDCBuvvPKKvva1r+mcc87R3/72Nyd+AQH7ySef6Ne//rVOO+00HXvssbr00kt1xx13qLy8XIHAdheuxsZGrVy5Uj/5yU90xhln6LjjjtPll1+uf/zjH04Ad1f0muA1DMMwDMPoTeB+wNq5YQu4M+y9S0NLS4vWrVunF198UYsWLVJ9ff0OQnb+/Pl68MEH9d577+n444/XZZddpoEDB+r111/X7bffvk0YI2aXL1+uW265xb0eddRRuuiii1zcRx991PkZb9682cXtKiZ4DcMwDMMwehHYNtvdGsIXuu8ksCOIWiyviFEsuUOGDFFmZmbw23Y3h3nz5un999/XpEmTdOGFFzrr7plnnqmcnBw98cQTWrt2rXNZQCQjjl977TUdeeSR2+KecsopysjI0OOPP67169c7YdxVTPAahmEYhmH0ItoFL687+uLuXWi3rCJWsdT6gfehrgY7A/9aROqrr76qQw89VNOnT1d8fHzwWzkfXKy1+OQiXsePH+9EMW4NRx99tAoLC7V48WJ3HKy3S5cudb+74IILdPDBB2v48OE6/PDDdfrpp+vjjz/Whg0bnDjuKiZ4DcMwDMMweh3hXlUhyvnNIjxDQ3FxsWpra3dpTUUUI2bvvvtuTZ482Ynd/v37B79tZ9OmTSopKVFaWpoOOuggxcXFuc+x2A4aNEhZWVlasWKFE7ycc+vWrRo2bJiz/vpxiTNlyhQnxBHFFRUV7vOuYILXMAzDMAyjF+Essm1Ral+abO+DvyQZ7gZYUPGvZZIY4XOf+5z+85//OMvszli1apXefPNNJ5CJj1DtCO4OCOrExESlpKQoOnq7BEXQpqenOytwU1OT8/3FeovA7RgPNwk+QxjvKk0dMcFrGIZhGIbRi/DFLq/hCP6xRo4cqR/84Af66U9/qp/97GcusNrCjBkzdnBPCAXhySYcCxcu1BVXXOHEbkJCQvDb7eAWQWBDi1ARC3wWExPjLMVYkonHK5+F4seDrrpa+JjgNQzDMAzD6EVs87l1r+EKcm4ITBC75JJLtgUmlY0bN26bW0FHtmzZogULFuiDDz5wvrWstvDHP/5Rzz//vLP8vvPOO7rtttucSwO70rW0tDhLb6iLBOIVq25SUpITtIhr4mLB7Swen2Ep3pkI7wwTvIZhGIZhGL2OdpEarsDxsLxinUVM+gFR2dHSGgriFTcDtiN+66239OSTT+qxxx5zKzLg4sDks6eeesrFIw6CtaioaJt1ltUbsBLjztCvXz93Tvx8iYsvL7/z4/JbhDNkZ2e7OF3FBK9hGIZhGEYvonML7d6GPQM3iK9+9av617/+pX/+85/bwjXXXOMmmJ111ln6y1/+4jaPwILMBLi5c+c66y0WWyaysRwZa/COHTvW+fIWFBQ48cvSYwhchK4fFyGNJZg1eUOXPdsdJngNwzAMwzB6Eb7fbWuYAsfCwrsnYJFFnCJ8Q0N+fr6bnIYldsSIEW61BVZwyMvLcwIYVwc2p3jkkUf0zDPPuO8ICF5WbWBpMyatsfkES52x5NkLL7zgJtCdcMIJGjx48C4tzx0xwWsYhmEYhtGr2HOL7M4IcZXtFkwkw98W14fQwGf+JDP8f3k94ogj3I5pLEWG6GVyHCKWNXa/+c1vKjc317lVEJ+ly77xjW+4VRv+/ve/65e//KXbwQ0hfOWVV3a6EsSuMMFrGIZhGIbRi/B9bsMVsBi3/x0+2E3t/PPPd9sC+6s2DBgwwC15xsYTrNXLhhInnniiizdz5sxt8RDKWI2ZMMckOlaJwD3C3474sMMOc36+3SGqLXT6m9HnwIfmhhtu0B033qWJmqFY8XggvIU+EsnsV6+fPf+KezW6xq1XHasFLw0IvjO6Bs1z15fdMQxj3xJQq7Zqs0oL1rqluHhUjyVzf8DqBqtXr3bCcOa3B2r8CQWKje/6I/1d0dzQotf+vlzJm0a5rYGZDIbojCTMwmsYhmEYhtGLYJJZwJNwAfcajhDtjhnJmOA1DMMwDMPoRfDsh+fz/sYRex/ajxvJmOA1DMMwDMPow7hlySJc9JrgNQzDMAzD6EVsXzs3PKEdc2kwDMMwDMMwegjtQjWMPrx7sQ5vb8EEr2EYhmEYRi8Cv9tAGH1424VvZGOC1zAMwzAMw4hoTPAahmEYhmH0ItpXaejcWrtnof24kYwJXsMwDMMwjF6EE6lh9OFta4t2x4xkTPAahmEYhmH0KkKts3sf2iesmeA1DMMwDMMwjF6LCV7DMAzDMIxeBMuSdeaasKeh1QuR7sZrgtcwDMMwDKMX0b6tcDgnrgUPHMGY4DUMwzAMw+hF+BtP+Dul7XWwSWt9k61bt+rjjz/Wm2++qddff10bN25UU1NT8FtjXxOfEFDeoCaNOaRGE6dXadzUag0a1aDElICiIrs+dkp1aZLWL87Sqnk5KtmQpkDr9kxobYlWTUWSNi7N1MoPcrX8vTytnJvr3jc3xdAqOgKt0aqvSdDmFRla/WGOVszJdfE2LMlSdVmyWpu9uH2U6Jg25fRv0thDqzXqoBpl97O6vjPIq6z8Zo2YVKcJh1e5MHxinVIzWxUT2wdMRHtAWlaLBo+p1/hp1Zp0RJVGH1yrrH7Niou3/NoZ1gfsHiyyAWeZRaiGITjhG9nE/NIj+Lfh0draqhdffFF/+MMfdNttt+mee+7RkCFDNHz4cKWmpgZjHVjavJLe0tKiuro6xcTEeA1AlAt7QnNzs9544w3Ne2u+8jXYGwExBjpwLUq0d/r8oY067oJSXfi1TTr5kiJNO7FSuQObVVqYoMrS2B0E34EiMbVFMy9f4173JYFAlOa/NEzP/WW83npouFc+EzT84K2KS2j1ykGUasqTtfz9gXrpH2M0+57heu/RIVr42gAVrsnU2OklSkhpcR1EQ22CJ5rz9eI/xuqN+4fr3UeHasFLA7VucY6SUmOUnlevxGRP6O3DrJ3zxFAVrU4LvusZkDfJqQHNvKhUV/xgjQ4+ulINdXFa9XFKMEZPoGd0Qy6v0gI68qxynf2FQp1+5RYddXqZJ34bVb41XlVe3WysNxtKKAwCDjm+WqddWaRzvDw7/vxib5BQp8aGGC/P4lRX1XcHmjujp/cBbd6/OlWrPrVCV199tbKysrw0759yHwgEVF5errvuuksDpmcre1iGNwgNz7kDLQFt/LBESTUZuuiiixQfH7/HuqKnYq1TBz755BO98sorTkz+5S9/0TPPPKNzzz1X2dnZwRgHnurqaj355JM65ZRTNGfOHNXW1ga/6f0UDGvQkaeX6oQLtujd/+bobz8dqf/eX+CsJFf+eK3yBjQqNq5vWEZaW2K0ZVWeFs/OV5UnKDLyd7Q8VpakemJ4iJ65ZaTXQTTonO+t0jW3LtRFP1umKSdtVXzidjG+aVmqnvzjWNVWxOm4KzboqlsW6qxvrVRqdov3++FaNTfHEyvxwdh9h8TUVg2dWKcZp2xVWyBGVeUJwW+MjqTnNOuwEyp09jUbtXlNku7+3TDd/8chqq6I1eXfXecs5PGJkb45adeJSwho4hHVmnVZoeLiAnrotsG67fujtXJhqo6/oNgbLGxVQnJrMLbhY31AV0GMhrgkhCFEOiZ4O1BUVKSKigrl5eVp5syZOuyww5Sfn6/Y2NhgjO7DqIwQLjhWZWWlVq1a5YR5OI99oBk6tl4jJjZo1aJ0zXkhSwvfTtc7z2Zp/uw05fRr0qQja5TuibRIB8tuTVmCXr9nmDL7NWroQVVK8MRZKOsWZmjlvCwN9r6bduZqTThmo0ZN3aIx0zdrwlEblZDS7I3Q29TcFKvK4mQVrU7WuBllGndkoUYdtkUTjt6sqaetV40ngrduSFNdVWLwyH2DmJg2DR5Zr5MuLtKCtzO0cVWyGhusSdwZOQXNztJWtDFZH76e4dXJDM17LVOvPpSt+IRWjTm0VgVDG4OxjYTENh0xq0ItzTFa+G6G5r6cqcXvpum/9+Z6dS5GQ8fVa/ik+mBsw8f6gK7hVldoC2foKc+S9h3WugdpbGzUa6+9pqefflpLlizRmjVrdPfdd+vee+/V+vXrtXr1aj311FP661//qj/96U/ukcJ7773nHi/44Pv73//+V/fff7+WLVum//znP85K/MILL7jv8AP+6KOP3Oe33367O9a///1vLVq0aJuV1hezL7/8sv71r385twqOgWvFhx9+6Ky78+bNc8dE7D7yyCMuzp133ul8jnsziLN+g+uVnd/oOojNaxJVVRarLesStHpxisqKEzTq4Do30o90qrcmaslb/VVWmKxhB5dq0PgKxcRuH9g0N8Zp87J0T8SmqN+IOm1Znar5L/bTvOf6a+3CTEXH8GjQG7N7g3byNcr72/exjEtoUUJyo2ITmr0voxUT1+b93eoJwL5lbeo/vMH5BialBDT3lSyVbI7vEe4yPRFyJSO7SaMOqtaK+WlavzRZ5cVxKtsSp5ULUry6mqz8wU3O79Joz6/4+FaNn1qp0i3xzkWmtDDOWcNXLUzRxhVJSkoNaMgYE7yhWB/QdWjN6RF4DU+IUqSv1GCCNwhilIlqCFImqa1bt06PP/64nn/+ec2fP18vvfSSE6CIVUQmApS/33//fedPC4WFhXrwwQd100036dlnn3UCmWMgULds2aLly5e73z700EN69NFHXeBvjsN3DQ0NTtByPsQ2x3rsscdc4Fgcx7fsIn5J81tvveVEOkJ78eLFLh07A99ffJRJrx94z+c9gVhPkKVlNnmCrFmbViWqtWW7+KiviVHhumT3OCsxwh8DNtbFadOyLC14eaBGTi3TkElblZpVF/y2nfrqRFUUJatyS4IqtiRq/kuDNe/5IZrz1DDNeXyEPn5lkOoqE91ktdi4VmUPqNXwQyqcVfiTt/K8kK/Fswu0aHZ/DRxbo/4jK5SU0RA8euSTku6JkWnVGjK+XvNez9LG5clqqDV/yp2BNTw5tUWZufWeCElQnVcffVpaorVxdbLzhU7PNCECDDATklqVU1DvfE4rSuOC37RTvDlJgUC0s1ga27E+oBuEu9t2x4vsAb8J3iBMSLvmmmv0pS99SUcddZROOukkJ06xnGLhRXQiDJnj9/e//12nnnqq5s6dqzvuuMNZeUPdCjZs2KDnnntOF198sW699VZ9/vOfd5PDsBa/+uqrOu6443TzzTe7iXGcByGNYN28ebM713333aeVK1fq0ksv1f/93/85S/C1116rwYMHO0fyM888071PT0936SE+abr88suDKegcBDVpLS4u3hZw4egpPsAJyW2K9wKP82urYtQW4qlBp0onm5zaGtH+W0xE27I6S8vfH+AJ1hgdcc5K5Q6sCX67ndqKJE+gxau8MEGLXsnR2CPKdcZ1qzTjgs1qqo/RU38YpY3L8ry/2zva/qNqNOsrK73fxeiJ30/Q7Z8/Ug/8eIpWzknX8Vet0+CJFYrzhHFfAKv3qCk1GnVwrTe4iNLrD+eowSZb7ZLYxICbIU9/yESrUCHCeLmmKlZx8QHz4Q3CU5OktIB7baiNVlPDjkKi3vsMeLpgbMf6gO6ARbaT1Rb2NDg5aIK3T8BsxJSUFBcSEhJcyMnJUVJSkt59912lpaXpyiuv1BFHHKFRo0a52ZknnHCCSktLnXsBYtJn6NChTuQeffTRLi4T3hCWWH2/8pWv6KyzztKECRNc4O/TTz/dWW2ZMIdrRVlZmVsVYvz48RoxYoRGjhyp6dOn65hjjnFpSkxMdAKdmaGki+MzUzQ5OTmYgs7BTeKb3/ym8032w6xZs5wLhtEzqKtMdpPUClck6bRrVyk1q8lZizrijPJeyOjXpEPOKNYhs1Zr+EGFOuTk1Tri3NVKyWnRkrfyVVnS7pdbtDZFr90zQtGx0slfXqer/nexzv3hSg0YV69nbxullXPz+sSkNdw8mHw185wST4RIrzyc75Z2C7u1xDAMYx/iTzTr3B93z0KkN4MmeENAQBIQv35AfCJqmcQ2efJkJyoRw7m5uU7YIjhXrFjhLLg+mZmZmjJlirPAEhcxjOBdu3atE5c/+clP9NWvftWFH/3oR05QI3Y5D4J22rRpzgfYt+4iVHGJ4FgsQ+anE3jPhDr/810xceJEZwXmnH743ve+pxkzZgRjHFia6qPU3BDlXYeU5I3io0IuB//TpORW1dfGeCP9yB2FlhelqHhtmlZ9kKmX/m+4/vWtqbrz2umafe9wrf84TfOfy9fd3zlMW1amuqXJElNanPU2JaNR8UnNSkprUkZ+vTIKGlW+JdFZe6u2pmjt/Hyt/ShNR16wRoedtk7jj96oKaes09GfWaGWxiit/TjXrfEb6SD4+w1t1IARtZp24lZd9u01+u5fPtH3/vqJZpxarPFTyzXrsk366m9XKC1ze53u61BG3JJjXo9I3QxdcxeLOVa3lqZoNTXuug3qKwS8NqqhJtp7lRKSAopP2FFKJHqfgS3jtiPWB3QdSlQP8UbsNVht2wW4KfC4HzGLpRcB64MYRvzyOX63oX6wCFMEMiIU6uvrVVVV5Y7HMbAiY6Ul8B7BiZvDsGHD3O9OPvlkZ3nFfWHp0qXOPQLXCpZLQxTvKQj0E088UZdddtm2gNsFQrgn0NIc5VYMYFZzf0+U4Dfok5TcovyBDSotivc6icj1tYxPaNaQSZUaf0ypUnOaFZvApDJvMBPjDcS82hrl5Um09z4lq0HJGQ2KjWcFkB0bf9cQep85y7D3VX11gid+U1RXEathk8uUO7jK+QRn96/WkAlliktq9URxouoqI9/CSzVtrIvWx29natlH6aqpjFNzS7QLTFgjL1tbo93j00jfdag7tHp5U1cdq+ryBDc5LdSHksmU/YfUq97L15pK84MGylKD106VlyQqLbv1U5OscrwBKfWzrGRH396+jvUBxr7EBO8uQNQiSrGg4mrAqgg+CFw+Y+IYope4PlhaEas+vOcYCN0LLrhA3/72t/XTn/50W/jFL36hb3zjG24JNFwVDjnkEP3whz90bhG4UHAu3Cb++c9/usl0nMs/H9+Fiu1dgQAnXb7Y9oMvzA80PFIp2Zykiq0JmjCtyu1+lZzW6nZ2GjiyQXleY7dmSbJb0idSyfJE6NQzNuisby/TmSHh4FlblD+yTqOPqNSpX1+pYQdtVc6gGiWlt2jjkjS37BibS7Ar29YNqaryOtL8oXXOAowgiYtHoHj5uy5VNWVJnuiLV21lorZuTFVTnVcuPNEblxj5PrxY3gpXJ+q/9w3Q/X8cpgdu2R4WzcnSuqVpmvNSnh6/Y/AOE7P6Ooj/ak+IrPkkze1G139Yo1Iy2oXcwBENGjSqTlsL47zQ99Zy7gxa5KamaK1YkOGJ2yYNHVvnCd8WZ7XsP8zLr5H1zq9348qk9h8YDusDukPQpSFMgWM5C0kEY4J3FyAECwoKnBWWZcVwXWhpaXGWWqy2TDJjEhj+trtapxcXhwEDBjjLL79BdHLc/v37u1fW+cUPF+HMsTkH1mNcG/Ab/s53vuMssSyDxkQz0uWfD+szv+mO8O3JrPkkSeuXJ+jQmaWadkqFRh5cq+mzKjTj9HI1NUZpwexUVUSwVYQlw9Jzq5U/pHSHkJ5T62Z9J2ew9FOZEpKbNHhijQaMqdVCT6Aten2o1i3qp4VvDNH8F4eoqTpaE44sVnpeg9Jy69RvRIViE9r0yt1jtPjNwdq0PM9NjHvjwTGqLEpQv2HVyhkQ+UskUUV47M5yWsXrEnYItVWxavDEf3VZrDcQsCXKOrJ1S7zmvpqhMQdXaupJ5Rp/eLUmzajWaVeVeAOrVq38KFmbV/WttZx3RVNDtN55PkuZ2Y067IRyHXR0+zbMZ36+xG2usHlVglbO3/W8i75IX+8DugptGQPR8IbgwSMU21q4A/jOLly40InSc845x4lL/GdZ8gvBi3DFJ5dVG1hZISMjQ9ddd52bNFZSUuL8cXGDCN2aDwsvwhR3BH4DiN8WT9iyogPr57IsGeeqqalxS5Wx+QXfcyzWBWZ5NN6zQgMCG0svy5GxcgPCGUstxMV1ryEgXT1pa+H6mlhVlcV5o80YHXZchY46Y6tGeJ1E8cYkPfXPAq1dkqLmpgM/TttfWwv7rF+cpcKVmcrIb9ToqcXOfzc1s1Hp+Q1eJ5DoCd5cffRcP61bmK6Mfo068er1Gn7IFk8kNysmLuAswblDWlS0JlVL3sjWh88WaMWcbGdROeYzhZp8/EZl9qtpd4PYR/TErYVDOfiYSi9PW1W0PtG2Fu6EZm+gwJqyTU1xGj2lxtXNyUdWKdASo6f+VaDFc9JVU7HnG/REGgyYyoq8/GqMdRZxdlY78rRSpWYE9ObTuXr/xSw38EJoGNvp6X1AT9lauN/hucoayprr4Tk3Wwtv/miLUmrTInZr4ai2SDALhhHWu33ggQec+wEuBIAIRlyy5i3ZRSFAKA4ZMsT5xCKMsbiygcQf//hHN0GNtXX9lRQAH16+R8wioHGF4DgIVCy7rOhw7LHHuuOzzBgT3PyVH/gMMcy5TjvtNA0cONCtGcyGFAhffo8Q5xif/exn3W+6Cm4aN9xwg+648S5N1AzFeo3MgX6skZgcUN7gJhUMrndWzZbmaJUXJ2jT6sRPLVVzoMjsV6+fPf+Ke90flKxPVdnmFCVnNGvAqAonYqGhNs77Ll1lmxLU3BCt2Pg2peU1qd+wWqVk1G8TsK3N3mCqIskTvMmqw0euyRuIxbQ5IZw/rF7puXXOurwvufWqY7XgpQHBdz2P4RNr3dJbFcVxKlzbUyyV3L+es3QVE4fyBnrla0iDJ9xanEUIn8sNK5JUXR7rfDCNHckuaFa/wY3K8uol7kV1NXGuLSsvirNJazuhJ/cBAbVqqzartGCtZs+e7VZS2tUT3nCC0YtNsFhhafLXx2v4sUPdHI9w0NLYonn/b77yi/s7nYJ+McEb4WDJZVMHLLC4EQCbMyB6P/jgA7d8GGKV1RRYiQF/W1ZsADaeoAIwie1zn/ucO0ZogcHnl00lFixY4FwbeI9YxaXh0EMP1ejRo12BZn1fJqsxkuPcrATBhDMKOZPaEMl8hyV6zpw5biUJ3/eXJc66Q08UvL2B/S14I4GeLnh7Jj1L8BpGX6fHCN5rJ2gYgjc+TIK3wRO8//pI/UzwGpGKCd49wwRv9zHBuyeY4DWMnkRPEbyTrp2oYceEX/AWlBRErOC15ymGYRiGYRi9CH/jifCFyJeDJngNwzAMwzCMiMYEr2EYhmEYRi8CZ1RnmW0LU+CY3vEiGRO8hmEYhmEYvYhtYnebS8LeBZaojHRM8BqGYRiGYfQmsPCGWmj3Msi9Bo8doZjgNQzDMAzD6POYS4NhGIZhGIbRQ3BuCEFXhHCFSMcEr2EYhmEYRi/CTVrzRGrYAsdsP3TEYoLXMAzDMAyjV4HfbfDPcOCJ3khXvCZ4DcMwDMMwjIjGBK9hGIZhGEYvot0FAVeEcIX240UyJngNwzAMwzB6E55CRaR2NvlsTwJ+vJGOCV7DMAzDMIxeRqSvmxtuTPAahmEYhmH0ItrdD8JnlY10dwYwwWsYhmEYhtGLCPeyZIHg8SIZE7yGYRiGYRi9CCyynfni7mlwwjd47EjFBK9hGIZhGEYvwll43euOltq9CZGOCV7DMAzDMIzeRphNspE+Cc4Er2EYhmEYRq8ivJPWwn+8nocJXsMwDMMwjN4ELg2duCXseQgeN4IxwWsYhmEYhtGLCN0dLRwh0q27YILXMAzDMAzDiGhM8BqGYRiGYfQi2j0QojpxTdizENhm6Y1cTPAahmEYhmH0JoJCNVy4Y9kqDYZhGIZhGEZPwfnvev8LtdLuTeCAEa53TfAahmEYhmH0PsLtgmAuDYZhGIZhGEZPAcssLx0stXsTIh0TvIZhGIZhGL2IcItdN2Etwn0aoto8gn8bfZC6ujrdcMMNuuPGuzRRMxSrGO/TyB/p7S1Jac065cvL3avRNQqLs1VblxB8Z3SFyi2pWv3ugOA7o6sEauvV1mx1s3uYFOgKAbVqqzartGCtZs+erREjRig2Njb47b6lpaVFq1ev1syZMzXkmsM1YMYoxcSH59wtDc365IF3NKIySw899JBSU1MVFRVZWsAEbx/HBK+xv7jgzmUadWJ58J3RFVa/N1BP/vy44Dujq7QUFnuity74ztg9AS+YFOgKPUbwXu0J3iNHe4KXPnvvaRe873qCNzNiBa+5NBiGYRiGYfQyMFcG2qLCEnBriPQxjwlewzAMwzCMXsQ2bcof4Qh9ABO8hmEYhmEYvYr2iWbhDJHuzmiC1zAMwzAMoxexXaSGC44X2ZjgNQzDMAzD6MP0Ba8GE7yGYRiGYRi9CU+hfmot3b0M5tJgGIZhGIZh9BicO4MTqtFhCRwr0jHBaxiGYRiG0csItxtCpO/KYILXMAzDMAyjNxFmcWo+vIZhGIZhGEaPAoHa7nvbbpkNR4h0TPAahmEYhmH0JvC5dUJ1x4lnexr840UyJngNwzAMwzCMiMYEr2EYhmEYRm9jm2U2TMGWJTMMwzAMwzB6Cs4VIYwCtX3ntsjGBK9hGIZhGEYvo32y2Y6+uHsanNo1H17DMAzDMAwjUol06y6Y4DUMwzAMw+hFuGXEnIU3PKEvKF4TvIZhGIZhGL0JJ1Q7d0/YsxAUvhGMCV7DMAzDMIzeRFCkOstsGAKi11ZpMAzDMAzDMHoWO1ho9y5sE78RjAlewzAMwzAMY48IBAJqbm5WY2OjGhoaXODvlpYW910oHeM2NTWptbXVE92fVtvE5XviEvy4e4oJXsMwDMMwjF5ETzLGvv322/r1r3+tc889VzNnznThM5/5jG677TYtXbo0GEtO6M6ePVvf+c53dPzxx+vYY4/VF77wBT355JOqqakJxmqH92+++aa+9rWv6bjjjnPxr732Whd3T0WvCV7DMAzDMIxeRmeuCXsVgsfdE/r37++E7qWXXqpLLrlEw4YN0zvvvKO77rpLW7ZscSL19ddf16OPPqp169bplFNO0TnnnOMst4jYJ554IngkrqvNid177rlHxcXFOvXUU3XyySertrZWjzzyiJ599lnV19cHY3cdE7yGYRiGYRi9CU+g9hSGDBnixO6FF16oz372sy7wd0pKij744AOtWLFCdXV1evnll53YPfTQQ12cz33uc07IVlZW6qWXXnLiFjcGXhHLy5cv16xZs1zcyy+/XEcccYSqq6ud6MUC3JkbxK4wwWsYhmEYhmE4sMa2tLS4Vz/sSlwOHTpUEydO1KhRo5SXl+fCQQcd5IQwvy0tLdXWrVu1YMEC5eTkOMvu6NGj3fdnn322+3vt2rXO/QG3BwTymjVrlJub68TuiBEjXJwTTjhBkyZNci4UZWVlLo3dwQSvYRiGYRhGLwL5Gd5lyXiNchPDEJMEhCoBCywuBLsSvXyHuGUiGnHff/99Z6HFyotYxbJbVVXlXB9475Ofn6+BAwcqJiZmm+AlLq8I4szMTEVHt0vVQYMGOVGNlReBjNW4O5jgNQzDMAzD6E0EBWqnvrh7EHwXiTlz5ui0005zE8X8CWi4E/znP//ZpcBEIONqcPTRR2vGjBn65je/qaSkJF133XVOqCJ2EcR8RgiF9wkJCSovL3cuDcSFtLQ09+pDPD4jDnER593BBK9hGIZhGIbhJpuxMgKC9frrr3fhiiuucH638fHxwVifBjE6duxYXXbZZbrooot0+OGHq6KiQu+9954Tw744jYqK2max9eE9oSXoouC7UGD1DcWP51uTd2Vx7gwTvIZhGIZhGIZzL0C0XnnlldvCeeed53x04+LigrE+TWJiohO8TES76qqrXBg8eLDz20X0Il4Ru4ha3BVC4T2fI5qJw7F4ZQWHUIjHZ4he4nYUxLvDBK9hGIZhGEYvAuOmM3CGKbS7NrRbURGcoQF3g9jYWC/izvFFKBPWcGHAFWLq1KnOCoubRFZWlrMQ466AO4IPll8+47WgoMCJ2OzsbCd4sQwjcn1LLvHwKUZ4cx7S1R1M8Bo9Dq+cKzqmTbFxbYqLDyg2vk0xsW3uc6NzoqP9/GoP/B3Vl2u31z4GWqPU2hSlQIvXkIds9uM+b27/zgXv7/Y4ny5gtLMd43c8XiThylFswOtQWncIsXEBryNq73SAv/nsU/G833IM49PQfpFvtGmuPbPed6dYH9AF8Ll1IjU8wQnfPQT3At/FwA+8bwmu9IB4HTlypBO9rMm7bNky54dLvMLCQm3cuNG9Hz9+vBPWuFUgZtevX+8ELsfge96vWrVKGRkZbmWI5OTkYAq6RpR3Qmud+jA4od9www2648a7NFEzFCseERzYViW7oFmHnlCpI04uVVZ+o+pr4vTJvHTNfixXhWvj1eoJDmM78YkBHXJ8laafXKZBI2td47VxZapefDBP65cmefnXM3rWC+5cplEnbh/Z70sqNydq2Yu5WvpUpgoOqtf4M7dq8NRKNdXGaP6D/VX4cbJqCuPU2hCluNSAskY0auxpZeo/uUaJ6dsft5WuTtHqNzO0/p001RbFKSYhoAGH1mn0SWUaeEjVPhctq98bqCd/flzw3b7n0CMLddTxazR6XHHwk3ZqqhM1//2Beuiuye79mRcv02EzNiont9q991m/JkfvvTFUb708JPjJgaGlsFiB2u7N4N7X5A1q0hGnl+n48zZr+UeZeuPJPC2Zs+OknAMHI7ieIwV6ch8QUKu2arNKC9a6XcNYMmt31s9wgYBcvXq1s57mXXys8qeNV3RceM7d2tik1Y+9rnGNKXrooYeUmprqhGpXeOqpp1zaxowZ41ZVYKUG1t998MEHnZX2Bz/4gdsp7a9//ateffVVZwH+8pe/7ATrv//9b7377rtO7N58883Ooowuuf32290mFdOnT3c+xAjexx57zC1JxqS4H/7wh05Ad4eYX3oE/zaCvPjii3r44YfdqIIlNPZFYX7rrbfczWN0w2hmV74x+xIeF7zxxhua99Z85Wuwop3R/8A1Jjn9m3TocZU64aJibVmfpFWLUtRQF6uCoY0a6YmRlR+nqLEuxok6Q0rJaNW4qTU66+pCNTbEaM2SFG31xF5u/xbv8yoVb4hXeUmcs1IeaCacXarsEQ3Bd/uOhqo4bf4oXYsez1X1lnhPwLYpd3SdsofVq7U5WsXL0pTo5VvuqAbljatXWkGLyjcmauuyJMUltXpprPd6tSjVlHgi7/58bV2eorSBzZ7ArVX6gGaVrU30vktwVqeMQTv6mIWb8o3pWvbasOC7fc+o8WUaPaFMgbZovf7iCK1antseluVqzcpsFRemuniHH71J+f1rtWVzuua8NXhbvJVLc7RhTYYqyxNdvANFoMYb+HXwEzyQpGS2auxhNTrRa9fy+jerxiuj65cnq3DNgc2n7fQcsdvT+4A271+dqlWfWqGrr77aiS4e5+8P/NUJ2L0sZeJQpQzI9wbdvpFq70Jbi3fspeuU2xrnJp3hftBVwfvaa6858c/rCy+84DQFS4yx5i47qp144olKT093rgpoDpYrQ7iy89qmTZt0yCGHuG2JWXKMc6KHEMPk6/z5850PMDuvsZbvwQcf7Nbm9Zcy6w72UKUTlixZ4kQvN4VRy76Am4qQ3l8VpbcweHSDJhxe7R7VvPffbL32SL5me8Jl06oETZ5RqVEH1yk5fc/20Y5EsvObNPXESqV6Am7J++l67dE8vf5Yrua/kaaRk6o15tBaZffrOR3/vgZhX+SJ/s0LUj0h26SUvGZnlfWJ8UQqltkxJ5VpwjlbNfG8rRp3ZqkGT61W2epEFS9JVrPXmWJB2rI41QspzuI7/vRSL26J+02/CXWq3JCgtW9mKuAJ6B6kFcJCY2OsJ1qz9Oqzo7aFN18ermWLcoMx2qmsSNIni/rtEG/u24O0aV16MIYBPJofMbFGYw+pVunmeJUWJaqpsXsddV/C+oAusi8E/x62ZVhnEaLDhw93QpT1c/HfRcSeeeaZ6tevnxOn48aN0+mnn+4+wxqMdZyd1ohHfB/0EXHZoIL4CGHin3TSSW4C3eTJk/fISGhq6wDBzWX2I6MfTPjhoLd7p1B9B42sV7/BTZr3eraWzk1R0fp4LfswRQveSFd9bYwmHFGjjNx9MwjpjWR5gm7y9Cp9MjfDPR7dtDJR65cl6d3nM1VamKAhYxtUMKx7axX2Zqq9a944N011W+M0+fytSspqUVSIT2lMXED9J1cpd3SN0vo1KCW7URn969V/Uq3iktrU3BCjFk+M4LNbvDRZUV6b2s/7buAhlUrJbVTWkDoNO7JScQmtKlqUpIbK2Ih72oAPbkpqkwYMrlL/QdXKyatXQnzrp54SxHmfZWbVa+CQKhUM8OplVqPz4e0JTxN6Ern9mzRhWrUyc5v1sifeqspjFYhQH/C9xfqA7kGXH86wp+BiwXq7v/nNb/THP/5Rv/3tb/Wd73zHreeL+4IPohex+oUvfEE33nijc2Fg+TO2DO7oj8sEOHZV+/rXv66bbrrJxb/22mudO8OeGgr7nODlkQAmdWYEEvgbK67/ujPRyO/4nt+wLIb/W9weOiP0PKHx/eNj3UXoMkphNOPD9x3Pw3uO5xMah/NzXHxmiL+z9PQG6GgzcxqUlNKo1YuSnejw4RHgumVpGjC0QcmpNrqH6ChPmKQ1KW9QjdYuTfLyaLvVqLk5RqsWpyk1vVVZuX1D8DLpbOkLuaouStTAw2rUb3yVouM6r8/EZfJZc0O06krjteqNLK+ORSm1X1PQhzdKbZ5wQywTtjUL3it+u96naqiJU9m6ZHecSAHxnpjUpCnTNun7v3lT3/nlW7ry2o807ZhNSsvcXo4CXrx+BdU6+cwV+uHvZuubP3tXF165WOMO2uoGA0Y7lJUjzyxTzoAWLfkgQ2sXpaglpF0zdsT6gG5Am7QvQgTTpwQvwpA14b7//e+7PZnxK8GZ+rbbbnMLLTOKYAZgZyxcuNCNXC688EI3msEy+9WvftXtPtJxyz224XvnnXf0rW99S6eeeqqOPfZYt1/0j3/8Y+evglh9+umn9e1vf1t///vfVVNT436HWMWNgnRg4menk7POOku4WX/88ccu/cAMxz//+c/uu2effdZdz6xZs/SNb3xDJSUlvVb0JqQEFJ8U8NIfpdrKGNep+tBJ1FbHeAKPGeMRXiu7SFximxJT22cu13piN7RzYBWBmspYT3y0KSEx8s1JLU3RWjcnS0WLk5U5uE6jTtga/KZzNszL0Kv/M0z3XzRRD18zVmtmp2v8maUafWKFewSNJbhgcq2avXzdODddhYvSnZtDbXm8VryaqS3BzriuMm67GI4ASrYk661Xh+meOw7VP26dqofvnaya6njNPHm1zrroE8UntLjytmp5tl54aozuuv0w3fm/0/Tfp0YrM6tOs85ZoZmz1gWP1reJSwho0pFVzu90y9p4ffBiRvAbY2dYH2DsS3YreJkR+NFHH3UrLFq0aJs460kgGpn1N3fuXDfz74wzznBmcyaQETZs2OCspJ2BqMUqe9RRR+kzn/mME7wIy+eff15PPvmk+x4Quzhj/+EPf3DLaXCe888/X8ccc4xz2uY3WGvZgYT9oouLi7cJVMQ46eN12rRp7nfsVsLENsQ294L0Yc3dvHmzuw628mNWJNfCLEisxqEW41A4D78nraEBAd4T4ClFVNBISYMXOtrE8oQFDjESFWWNHWB5dEtAeVnllsoK6RyAPCSvIn35IyaiVW9J0MKHc5U1uFFDDq9Sctauy3R6v0YNnl6tsadXaPjMKiVmtjixXLo60ZWzGK9D7T+xSsOOrVJDRZzevXWA/vvDEXr110NVUxSveK9jpny6pcwiqDhuXp+mhR8U6MN3BuqT+fla8H6BXn1uhIo9ITx8dLlGjKtQTGxAKxbnaN7bA/SxF3fxR/nu73dnD/Hyrk0TDy5UamajK599FQRZTkGTTv7MFm1Zl6jFc9KcK4Oxa6wP6DrkAHkSrrBPfIJ7GLvtChF0f/vb37oV7r333l3uuXwgaPFEHWL8/fffdzuGsJMIM/2w8rISA0tnhLoNdIQFkRG7WHjZSYTfs2c0wv6JJ57YJngRpcxWXLlypTs28YiPSMbhGtHb2cxCfs/izCzlgUhmliT7V19yySXOjwULM2n3F2wmrQhYZohiCeY8WJNTUlJ2KnixHj/++OP6y1/+si1gYZ43b14wxoGlpclr5JoQae1LbYVeBsKO9RibG6PNRzCIeyTv5RctH/nlxK+P9zGWXaySLRH0yL0zcEsoX5esTR+kqnxNgta9k66P7vXE2n/yVbkuXmUrE7XqlUytejXTa9jbf5PWv1HDjqrU5AtLNPmiEk04a6uqNsU7/9/qogQn1lLymtzyYyOOK1fGoAZFe3olMbPZTVpLH9DovW9TQqonrCNoQFFdmaCtRckqK8FFJl7lW5P0yYI8bViTqbi4gAYPr3R+unxfXJiiitJEL16CSry/53/gtaPe53kFNcrK9fKrDwterJT9hzdo0hEVGjiiVgcdVa4zrtqsUy4r1IBhdRoyukbTT9mqw08qdX6rRjvWBxw4nIBu/zNi2W1TzUK/ixcv7lbgkXtPs/AiwBGhtbW120Qk294hWpkluLslOBC8LB+GMPUts4hLAstmYDnFrYFr/+STT9y+01hocdAeMGCAm2WIszUCtTPBizWY37Eo84QJE1RdXe3yHneHtLQ0tyYegph4PlhzL774YjcBDsdwjt3RJzgULNgsF4IV2Q8IYNLcE2jyhEt9TftyM6wswEjeh8YvyxMgFaVxavIaPIPOIcrlV2N9rLLym10e+cR4nQMrODTWt+dpJNOGqPfKTvrARrfSwrLnsvXxw/la8kSuqjYmqHxtvNa8ka41b2Zua9FxWUhIa1ZqfoPyRtVo0jklSkxp8YRzkio2JLVH8sgfV6NDLtui4360Xsf9YIN7HTS1SonprZ7YbVV6v8gXdljaGhti1dIaraTkdpeGzqiriXNL48XEBJSc3LzTeH0BNklA9JZ4gyjWxj76zBKdfIlXjs4vUr/BdRowvFaHzizTlJnl3uA00mVG17E+oJuQPeEKfYDdlpqbbrpp2yP/rgYsnrm5Oy5hc6BBKOJuwEzA0aNHO/cEQOgiFHe1phtCFrGIQGQmIiIT/9mvfOUreuCBB9x2dwhhrK6cB3F90EEHdWvZDNwW+C3WVizPuCgww5Hw3e9+14lh4vguF4haBC/LgCC6uwIuD7hasOSaH5555hk3AOgJ4K9VvjVRddUJGjW51vnA0WkiKNKzmjVkdJ02rU10flxGe37VVsdry/pUDRtfrzS3IkF7fiUktrqlkKorY906vJFMQlqLhk6v0KzfrtOZ/7vGC2tdOOV/1qvfQXUaeHitpn25WId/schZvpmMhisC1t72EOUs4c49gc95DeLieQGBnJjZ5ITMliUpqtkap7T+DcocUucsvZECZYfgXGG8bOCVspSe2aCkpCZVV8W7PNsejzhe8P7OK6hzE9uam2K8ctcer69SVxmjRW+l69bvjdPN103QH77RHv76w7Fa9lGWFr6Xq0f+b5ge+/sQV/6MdqwPONBEdlncq2ESAo+VAkInbEUiuBHgK4u4RcgyiezOO+90frUXXHCBu/6WlvYVHhDSe7I+nL8aw2GHHeZcQu6///5tgZ1IOPePfvQjtz0fsCwHW+/tyirdEX9lCKzFfkAs70l69xVrPknWxlXxmnFqiaadXKmhnpCbdkqljjm3zKuLAc1/LU0VJeYL57O1ME4fvJKhyTPKdPjJ5Ro9pVbjptXqzC8WKyOnWSvnJ2njip6yuP2+AStQfEqLMgfVeQK0dlvIGFSvuBQssQGl5TcqIb1Z5euTtejpftr4UYYqNyarcrNX3uZn6M1bB6tsfaIyB9crd1Rt8MjS2vcyvZCl8nUp2royVQufKNCih3Kd9W7MaZXeuYMRI4Spx2zW4cdt0qARVcrKr9PgkZU68+LlOnhakSrKk7RkQZ5SMpq8eJt08PQt6je4Wtn96jR28ladcf4yDRpco7Urc52LQ6C171rhWr1BEktoFa9P0JY12wPvG+pinBWzvChOFV4wdsT6gK7BQMkbcra/hilEOt1ukRC5PFpnlQBWBcD6iN8qgg0rJBZDdsXgfU+CvZcReEz4wlXAnyiG6wUW2l2tbsDKCrhDYA1miztcIFh5AfGJ6ATELoHzICq7u2kFFnH8ezkHLhCsS4fPsB+OPPJI53vMNQBC1w9dhbgI5Y6hO8fY12xenah5r2Zp+YJ0HXlaqS799nqdfEmRmwTy7N0F2rQqSU31fbcj7Ujl1jjN8wTvh69na/ikOl147Uad9+VNnlBp0Ev/ydeyD9NUF+nWEK/4RnmiN4Y99xNCQnyrs3i7yX2x7XvxtzZFq3BBittB7Y2bB+mNmwbpo3vyVbUpUWNmVWjkiRVKytzujlXsdb4LPYH75h8G6u3/HahVr2YoZ3SDxp5apgEH7bitbiSQ64ncw4/aqIuuWKirvjZP5392sZustuKTHL3y3EiVlyR57Zw0bGSFjj91tS77/AJd+dV5Ou285UpKbda89wbqzVeGOisv8fos3rUzwaq5kRC9PXjlj6kiBFYdsCXKPo31Ad2AOhbuEMF0q9QgYvFXZd9k9j5m1QO2x0UsIu5wGWByFVvLISx7EvjBsvsHgvK5557TmjVrXLr9yWD4yu7MUu1PEAN+T2CVBbbOW7Fihfvch51DCEyQY/Ia52FCHO4IDAg4T2fCGh9h/HxxqyD/Nm7c6PIbQc7vOU+oS0OkwlI0K+an6NWH87TCEyZF6xO0ZnGyPng5U28/k6MalqoJeeTc18FHd6PXAbDD2uJ301xnsXFloj6cneF2XNvi5d+B3Hf+QBKb0KZRx5Vr2FEVyhjIpLOAE7MFk6qVPbxOaQUNbvOJ7OH1GnFsuVuWrGBijXNf8CFe7qj2SWoZA+s14OAqjT+jVEOOqFRyduStb7xxTbrWrsh0FlomrBVvTtGiefl657Uh3ms/J9rqa+O0flWG1q/O2DbBjdUd5r0zUO+9MUirlmYHj2Z0pKkhyhugZmnBGxkq2dhuLDF2xPqALtIHBGq4ifklz+e7CGLtn//8pxNuWBvZ6g0BzIoCbB2HOMMSyn7KrCPbVd/S/QFCEgHJpDCWDeN9UVGR85nFYo2AHTt2rFshgbV4mcjFhDMCrgAITn/SGxPKWHqNZcEQvYj7q666yu0TjYWXfOAcnIu4nIfjMaGPiW/kC0KbfGSFCCaz8TsGDcRlDV/+Zt/otWvXuoEF+YzrQX5+vjsmv8eKzHl9q++eQFqZyDbvrfnK12BvBMQY6MA2Jkxc2LIuQYvnpOuj2Zla+E6G1n2SrPrqA7d/ek+GGculhfFa/lGq5r+ZqQVeoMOoLovtUWJ3wtmlyh6x/wbCLC1WMLFW+eNqPXHa7Ky98Smt6jehVkOmV2n4MZUafmylJ16rXLyUnCb3m1Byhjdo8OHb4w46rNqt2BCX1PnToHBTvjFdy14bFny37ynanOq2EP54bn/Nf3+AFn5YoJWf5Ki0OFktzTwpiFJLU4w2rsvQkgX5WvBBe7zFH/XTupWZqipP3MEH+kARqKlVm9e29TRamqO1amGK1nrtWVVpT3Jn6FnKqSf3AW3evzpVqz61QldffbWbA8ST0v0BxjdcLO+66y4lj/e0RP88RcWE59xtrQFVLFujvECc03QY9nrS099w0K2cwrr46quvujVl2RaXlQhCbzSCjzVhsU7uzD3gQIKYZakvLL3437JhA2IS8c4qB6zJy/UghhG5/iQ2RCmTyFgN4Z577nEbTvCal5fnJq+FFgyEK8uE/eIXv3CuEpyHTS1+97vfOXFNgfVdCxCwnMP/LW4STIrDfeHhhx/W9ddf79xG7rjjDrcyBPnrr7PL73qS761hGIZhGPsLdEM4Q+QT1baz5/idwCN1dhljdzIsuLgCsLcxk6qwhGL9ZJkrVgLgcT5CsSfBpbKaApZTrNUIR8QqFt6f//zn+tKXvuRWYMBiihUV8YqAR5yy8gJWYNw2EK347hKPY/I5bgy+8EXsE59VF/zVGxDQrBCBJRyhym8QxAhY/Hd9cc2gghEc32F95XjER4z7ghdLtf97zsux9xTSecMNN+iOG+/SRM2QJ/O9T/tG4Tf2LxfcuUyjTmxfR9roGqvfG6gnf35c8J3RVVoKixWo7VlrwfdscOOx5+NdIaBWbdVmlRasdTpnb/vg7sCTX+ZMocNyzj9eeYdOUHSYzt3q6Yq1T72q8S1Jeuihh5y+8Y1xkUK3LLyIMsQZYovQEXb/wrrLpCtfwPUkEIikjzV0eQyBXy9uATzSR7gecsgh7nOukeW+EJi+BRuxynWNHz/eWYTxt8XvFlHPZ6ErJnDtHBv3BT8+7hKs++uLYs4zdOhQJ4BD84rjcFzcRfgda/KyjBoWaNJAehC9fpz9VdEMwzAMw+hBhHuMEuFjnm4JXsQYj93xR33llVecrysjDh63szLDs88+63xd/S1uexpYMxG4LDH2j3/8w/kjM+kOAXz22Wc7gbk3/rCGYRiGYRj7HBO73aZbgpfH6uedd54TuUxMY2IWj+Bfeukl3Xfffe4zHr+fc845Lm5Pw7euYonGqkv6EcGIePxlmRDWEy3ThmEYhmEYO4BIDVuIfF/ebgleBCMTv1h7lw0Y2H0MgYjFlFUEWG3g29/+tqZMmdIjJ1Tl5OS4yWf33HOPE+nsNMbGDohd3AvMPcAwDMMwjB6PJ1JDN43Y68Ah+V8E0y3B64OT9uc//3ndfffdzrWB7YT/85//uAls+KoahmEYhmEY+5htFtowhAhnjwQv/rlYe1lFgBUFWLmAlQnw8e2JrgyGYRiGYRgRQx8RqeGkW4KXlQxYeuzNN990bgGsD8sCyAT+5jO+I043VjszDMMwDMMwDhRm4d0RLLrs8IUrA76v7AjGCg0E/uYzviMOcQ3DMAzDMIzw0sYEM9/KG5YQPF4E0y3By2YMt956q1t67IILLtCjjz6qF154wQX+vvDCC932u8QhrmEYhmEYhhFmPHHa6eSzPQ3Bw0Yy3bbwshXvySefrDPPPNMt4+XD36yAcOKJJ5qF1zAMwzAMw+gxdEvwsoYtk9VY3ostd0OXHuNvPuM7lveKtC3pDMMwDMMwehTbXBLCECKcbgleVmFgD+ctW7Zo8eLFbnUGH/7ms6KiIreRA3ENwzAMwzCMMBNukdqGD28f33gCf925c+e6sGTJEo0cOVIffPCBHn74Yb388st6//33XeBvNqAg3oQJE2wTB8MwDMMwjH1CmCet9QF2K3h/+ctf6tRTT9Vpp53mtgz+1a9+tW1Zsssuu0zHHXecC/zNCg1s2fuXv/xFNTU1wSMYhmEYhmEY4cVcR7tDVNtuFszFksvKC6Hwk539DN/d9PR0XXXVVUpNTQ1+avRU6urqdMMNN+iOG+/SRM1QrGK8T60SGeHngjuXadSJ5cF3RldY/d5APfnz44LvjK7SUlisQG1d8J2xewJe6CNmvr0koFZt1WaVFqzV7Nmz3c6z++uJdktLi1avXu1cS7PPPFG5UyYpOkznbm1q0rrnXtYEJeihhx5y+i3S5mLtVvAWFha6jSS6Q0xMjAYPHmxuDb0AE7zG/sIEb/cxwbtnmODtLiZ4u0rPEbwnKffgieEXvFGRK3h369LQv39/jRo1qtOAP++wYcM0ZMiQHcKgQYOc6DUMwzAMwzDCDOMTG6N0i26t0gCBQMCtxMAENiavscPaW2+9tUOYM2eOmrzRgmEYhmEYhtHD6QPiuVuCF+8HHoFj7v7617/uJrMdf/zx7pUwa9YsnXLKKbr88stVVlYW/JVhGIZhGIYRLpyB1/tf2ELweJFMtwQvKy/885//1EsvveT8Vi6++GJlZ2fr+uuv13XXXadjjjlGhx9+uL773e8qLS0t+CvDMAzDMAwjbPji1CnVMIUIp1uCt7GxUa+++qoTuyxRNmPGDCUnJ+voo492y5JdccUVmjZtmtuYorW1NfgrwzAMwzAMI2w4kRoV3hDhE9a7JXhbWlq0Zs0ajR07VlOnTlVBQYESExOVkZGhMWPGuB3WmMhmPryGYRiGYRj7kHBbZSPcytvtSWtYbhG58fHxiouLc64LLF1WX1+vpKQktzrDhg0bzMJrGIZhGIbRGzCXhh1BzA4YMMBNXKuurnbuDPn5+W6lBlZuwPq7dOlSJ4Ijbf02wzAMwzCMHoFzaQhj6AN0S/Bi2T355JOd9ba0tNRtLnH22WfrlVde0Wc/+1l9/vOf17x583ThhRc6MWwYhmEYhmHsIzoTr3saIpxuCV5cFpisdtJJJ7kNJnJycpwAZomy008/Xeeee66uueYanXfeeS6uYRiGYRiGsQ8It0iNcNHbLcHL9nlMWJswYYLy8vKcxXf48OG69NJLdfXVV7uA2GUCm20rbBiGYRiGYfQEdit4y8vL3TJjOwvFxcVqaGhwKzWkp6erublZJSUlbkc2wzAMwzAMwzjQRLWxfdoueOqpp7R69ergu66RmprqrL4pKSnBT4yeChMQb7jhBt1x412aqBmKVYz3qU04NMLP+X9frpEnVATfGV1hzfsD9Myvjwm+M7pK06YSBWrqg++M3YMMMCNVVwh4/7Zqk0oL1mr27NluX4L99USbpWHRYzNnzlTWqScpd/IkRYfp3K1NTVr3wsuaGBvvdtNFx0Xa4gO7Fbzf+c539OabbwbfdQ3cHe6++27l5uYGPzF6KiZ494ZueQT1ebKPylJi/4TgO6MrDBy2Rcee8U7wndFVnvzZJK1+Nyf4ztgdbW2tagvYUqJdIaBWT/Bu9gTvGhO8vYzdCt633npLmzdvDr7rGkxYY2KbTVzr+Zjg3RvIK6OrxIwerOhM23K8O4ybukJX/Ojh4Dujq9z9xaP0ySsDgu+M3REItJjg7SI9RvDOOjm8grcZwftS3xa8RmRjgndvMMHbHUzwdh8TvHuGCd7uYYK360Ss4MXC+2JkC157JmsYhmEYhtGbwFS5L0IEY4LXMAzDMAzDiGhM8BqGYRiGYfQ22rz/whT6AiZ4DcMwDMMwehO+UA1niHBM8BqGYRiGYfRl+oDo3SPBW19f73ZZW7FihZYvX+7es7MaM/7LyspUW1vrjTz6wHDBMAzDMAxjf+ML1HCGCKfbghchu2rVKj3wwAP6/ve/r+uvv14rV65UU1OTE8CvvvqqFi1a5LYYNgzDMAzDMIwDTbcEb2Njo9uI4je/+Y1efPFFJ3IRu76F1xe9Dz74oLP2GoZhGIZhGPuAzqy0exh4iXS6JXgRto8//rjS0tJ01lln6fjjj3ci13dfyMrKUkJCgubPn+8+NwzDMAzDMMJMiFgNa4hgum3hfeeddzRu3DiddtppmjhxoqKjtx8iIyPD7c5RVFTkLL6GYRiGYRhGDyfCxS50S/Biya2oqHDCNj09PfjpdhC5ra2tJnYNwzAMwzB6DWwjHFlbCXekW4IXa252drYqKytd8F0ZeCUUFhZq8+bN6t+//w6WX8MwDMMwDCNMtHniNKyBY7YfOlLplipNTEzUqaeeqnfffVdPPPGE1q9f74QuS5Hx2X333acPPvhAZ5xxhpKSkoK/MgzDMAzDMMKKL1LDEfoA3RK8iNgLLrhABx98sD766CO3NFlpaan+/Oc/6w9/+IOWLVumww47TGeffbYJXsMwDMMwjH1BuEVqHxC93RK8cXFxmjBhgk4//XRNnz5d48ePd3/jzztw4EC3asM555yjMWPGKDY2NvgrwzAMwzAMwzhwdNvRNioqyllxr732WmfV/e1vf6tf/epXuummm3Tdddfp8MMPD8Y0DMMwDMMw9gmhLgnhChFMtwWvP0EN4csSZMOHD3eW3pycHGfV9b83DMMwDMMw9gEdhWo4QoTTLcHLkmRsJ/zlL395l+EHP/iBi2sYhmEYhmEYB5puW3jZQY0NKPzQ0NDgthFet26dW6GByWx8ZlZewzAMwzCMfURHC+3ehD5AtwQv2waffPLJOvPMM7cFthj2X6dOnaqCggK3Vq+tw2sYhmEYhrEPCLdI7QPCt1uqlKXGELcXXXTRDuGSSy7R17/+dX3xi190qzfgzmAWXsMwDMMwjPDjFJYvUsMVIpywmmFHjRrllid78cUXnVuDYRiGYRiGEWY8gersimEMkW6nDKvgLSoqcruvxcfHBz8xDMMwDMMwjANLtwRvbW2t7r77bv3f//3fDuH222/XzTffrFtuuUXvvfeeZsyY4fx9DcMwDMMwjPAT1cFCu1fBI6r9JWLpluBlhQYE7ezZs3cIb7zxhubMmaOSkhLn1sD2w7a1sGEYhmEYRvhxYjechPt4PZBuCV5WXhgwYIATtePGjXPbDBMmTpyoo446SldccYWbvHbSSScpMTEx+CvDMAzDMAzDOHB0WfCy6gK+uYhZVmNgc4mf//znLvzsZz/Tt771LZ1//vkaO3Zs8BeGYRiGYRiGceDpsuBlK+Hq6mr95Cc/0fvvv+/cGwzDMAzDMIz9i/NA8P1vwxH6AN1yaYD6+nqVlpaqpqYm+IlhGIZhGIax3+hMtIYjRDAxv/QI/r1bWlpatHHjRid2Y2JilJ6e7l5xd2htbd0WAoGA8/fFKmx0D/J469atevTRR10epqWlKS4uLvht+GlubnaTDue9NV/5GuyNgBgDHdj7lpTaqiFjGjTpiCqNPbRaQ8c2KC2rVQ21MWpujO5BawV2e7y4z8nq16wxh9RoytHlSkprU111jJoaekY6o3MyFJW4f1dviYpqU/+B1Ro9pkTjx23RKO910OAKpaY2eXUtWg31O9at7Jw6jRy9VRMnFmr06BL1K6j22rg2F6+1df/nY+6AMh18zJLgu31P6fo0rZ2bo40fZ6q5KU6p2Y2K9q6/eFWaVr6Tp7XvZ7vv/MDnTQ1evJz2eAEvTyuLkrV6Tq7Wz/fiLMjU5iXp3nFT1VATr6T0VsXEBrz7EjzhPmLB00O0dU1a8N2+JS4hoOz+TRp9cI3GTPHarEMq1W9IvRrqYr1A/+hdrPdfamaLRkyu0egp1V68So2YVKMBwxu8z1tVVxOj1pao9rgHgLa2AP8LvjtwFAxr9PKlzsvDatf2D59Qp/xBTYrxqmmjl5ctzQe2b4I271+dqlWfWqGrr75aWVlZ+21nWbRVeXm57rrrLiUNGank3HxFhencbZ52q1y3WvnxMW5DMVxYI03DdUnw4sqAyI2NjdWWLVv00ksvac2aNU4sVVZWqrCw0AlhPxQXF6tfv35ODPclsH5v2rTJrVaRmZm5R5UAVxHWMr7xxhs1aNAgDRkyRMnJycFvw09PE7zxiQEN8QTucReWavop5ZpweJVGH1SnvIHNavLEbsnmeLU273/h0Tk9JR3t0PFOmF6jUz+3Rad+ttDrJKK1fnmyKrfuuwFTd9jfgjc6us2rh/WacdQaTZ++TpMmFWrM2CINH16ufv2r1NQco7LSZK8OxLr4qamNmnxwoY6duUqHHLLBi1us4SPKlZjYqmpPrFWUUw/3b93YX4IXodXsCddFLw7Uu/cN09LX+ikqLkZDDi5VrFeulrzSX7P/MUpLXipQ0fJ0bVyYqQ0fZ6lsQ6piEqI1cEK5YuMD3oA0ToVLs/Teg8O05oMcrZvnCeSFWdqyPFPlm9KUnt+kpIwmL25r8Mz7hv0peFMyPCF7UI2OPbvEu1dlOuoMr4xNrNY6L5+2bk7wBgFRbjAwYFS9TrqkSJOPrNCEaRUadbA3mB9f60Qegre6LP6ADU57iuCddkql1+5X6KCjKl3bP2JSvYZNqPcG7wHVVXn1tYi27MCKMBO8vZcu5dSHH36o559/3m0swQQ1BO+///1vffnLX9bpp5+uE0880YUTTjjBBTILK2VfY+XKlWL88I1vfMOtWUzh7C6sX8wKGA8++KDOPfdcZWdnB7/pG9D4H3l6qU44f4ve/W+O/vaTUXr+vv5KzWrRlT9e6wnfRk/IdT9f+wJ5g5o06YgKjRhXp8J1aWptjazGqrvEJ7ToyGPW6ehjVnsD9gTdc+/h+uMfT9Tjjx+k/PxKT9iu1PhJxcHYcmJ35nErlJVdowf/M1W33Xacli3L15Qpm3T6aZ94A/59b5k8UGCZLV6Vo+Wzc1VTEqe0fo3Bb7aTltesKecV64q/L9AX7v3QhUtuWajpF69TfHK7gMWinpzdpDEzy3TaD1br0lsX6/zfLtW440u19oMMzb5zhLauTXFxIwX0Row3ZirckKRXHu2vJXMzg99sJzq2zVl4s/Ka9Naz+brjl2P115+M0xtP99OQ0bW6/LtrNXRMbTB232XAkAbVVMTq6X/11y3Xj9FffzjSGzik6PCTynXGVYWK89p+e3Acgu+GEI7QB+iS4J03b56ee+45t9TYTTfdpL///e/bwt/+9rdtwf+MOFg4je7DiApLOkKX/N5fI8eewvDxdRo8qlHvPJ+v91/I1NolSd5rht54PMuN6w85vkpZ+S3tkQ0HHUB8QkAnXlTsOt5XH89TfW3wUWofJjYmoEGDylVSkqYli/trjSfoSotTtWRRgZYuGaCWlljl5fpzEdo0aeImtXrC7803Rmvp4n7avDFDL74wVstXZKtfQaXGji/x6ua+tUweCAKt0arZmqjXbh+i/hNqNPrYcsUlfXpQGRXd5n3equSsOqVk17qQnFmr+JRGJ3QhNr5FeUMrddCsdRo4vljZAyvUb2SZRh5R5ERw6bpENVRH1pM/BNrit9P18n39NPeFHBWv//SSnK1N0Vr5UZr+9asRXpxsbVyWrMKVSVr4Zqb+++/+ysmvVc6geiWmRl756g7P35uvJ+/op0VefhatS9Dm1Ql64d48rVyQpPxBDRrg9Q0x3uDB8FosLxucVuU1TCHS6ZJLw4svvqgVK1bowgsv1LBhwzRmzJhdhpEjRzr/3u6KtVWrVrmd3FavXq1PPvlEL7zwgh5++GG99dZbzjc4NTVVy5Ytc59hYX7zzTedzyvnSklJcX+vXbtWTz75pLOQ8vr22287FwMEJL9HUFZVVbld4XA/wF2ARxI+//nPf/Tuu++68w0cONB99te//lUffPCBs1pj6ebcr732mnvPMTMyMlRRUaF//OMfLs2bN2926SQuVl824SB9ixYt0iOPPKLHH39czz77rLsuXENyc3NdHFxAcGnYsGGDfve73znf3ZycHOd2wG/ZzY50LVy40KXhiSee0EcffeR+Sx7syZbOPcmlIdrrNA87vlwjJtVqzks5WvFRihrqotXYEK3E5DYNn1ivhKQ2rVmUrIqSnvCYvmcMRhI8cXLkGWUaNLpBaxanqHB1ksYcWqOqsjitmJ/aZ10asMgOH1GmvPxqlW5N0fq12V79ilVKapMOm7bBDRRWrszTJk/YpqY16sSTlqm2Ll5z5gxX8RYs5O0+vv37V6tgQLVqahO0zjtGS8v+E2z7w6WhojBZC18Y6Hxvx5+wxfukTeUbUpSW36Thh211Lg2bl2Rq3YdZqtiUqOIVyVr3UZa28hTBGzRk5Dd4bb0nkL38JE/x0Y1PanFPYqK9vwOBGJVvTNXqOTlepxqlsUeXKHNAffvJ9xH706WhLRDl5hYwxwCXhAnTyjVgRL0+fscTvxsSnUsDtHiit6Yy1sVpbY5yPrtRXlHK9PJ5xqxiffh6rjasSDkgLls9xaWBgXp9TftcDfLH5ZGXHeOnVnl1oVHvv5Lj2jXy/EDRU1waEnFpyAmjS0Mg6NKQ0MddGnwQZPjm9u/ff5dhT/13cZl46qmnnOh9/fXXnXjFZ5hl0LjBCEXEKJ+XlZW53d0QkIg+hCIC9IEHHnCiE4HO++XLlzsRi0BFiAK+tojFd955x/kbh8Jnr7zyihOqPhyP82PlRqDit4wAJa0MBhobG11BRDz6E/caGhrcefiO93V1de63BNKFQEbYI4qZoOanDdFOmu677z53Dn7HMfjdPffc465l7ty5Lg6BtCHsEdi7gzRyfPLKD6R5T1wv9gWx8W1KTW9WbFyritbHe/m2vbIx+aNkc6Ky85udwDPaSUgOeEK3XtNOLteWtYlaNi9N1eXtPql9nebmGC1a2N+J3WHDS3XKqUt0yiwveK8pKY3asD7LCVh8fdMzGpWU3OTV2Vivbdm+SySit7o6yavPCcrLq1WMFzeSqKtI0KbFWU6MjvaEaP+xFUr0BgQdSc5sUfaQBqXnNamxJtH54656N08Lnh2oVe/leWJux/Yecbf6/Vx99MQgvf/AEC1+sZ8aqmI04cQipRc0BGP1bdAS6dlNGjXJG5BtSXJCDkuwsSPDxtd5+dSqsuJEVZZ4YrdvG8H3GfS2kSVvP02XaxcT17Aszp8/f7dh8eLFTkjtCfxuyZIlznLKFsXf/e53NWvWLCcsEZ1Ya88++2z99Kc/df7D+BdjxUX8IRCJw2+vueYatynG5z73ObeMGuIUYbynMBkPkX3mmWe641522WVO+D799NNuxIWFFZ/badOmafz48c5CixX5a1/7miZPnuwGAFiZSTvXxDGuvPJKZ8H95z//6SzaXckzhHx+fr6uvfZa/fCHP9To0aP16quvukEBq2XsCoQ294ZBgx/YKppr6wnEJ7Yp1gvob/dIPkTXIn4b6mOUmMws7z7w7KULMBEmb0CjDjux3Fkzl7yfqg3LbYdDH1ZhWL0q2yvfWc7Ke9LJn+i0MxbpuOOWe2UsSps2ZaiiPMkJj6SkZq+OMmiNUVPjjgOGZu84CF/i+I/uIwH8dguXYbnN9QZOzRp//Gal53duec0dXquDz9yiY7+4Tid8fbWmX7pROUPqtGlhmt69f6gTzqFWNwTwqvf6ae7DQ/TufUO17I1cxSQENOywUqVkfdo/uM/hZVVadrNGHVStg2ZUaMHbuSrZmOQsmkY7tG+5/Zt0uDeYT0pt09K5Xn31BC911/DwmiKao3AF5x+xh6CBMMqhwdBZ6ECMcOgyDGuhoFMw5GG4/Pjjj118NB9GPwxyoWCMw3CIcTA0LgsldIzbFboseLEqspMaO635k9R2Fi6++GInMvcE/FeHDx/uxONxxx2nQw89VJdcconzCWaJrilTpuj44493Qo+tjHEHIKN8P2PiXHrppTrjjDOc8CQ9n//8593NWLBgwW5F4c7AVYNjcjzShxg/5JBDnIjkxnJjcFtg0hmuCIhbxKzvakA6mdDHNbEbHa4h/M1WzOQV7hwUmt1BGs455xwnojkOwpsbj3vG7gQzluvrr7/e5Z8fTjvtNGcV7zHsRaXrayQmB7wOs0YnnFesZ+4ucCsyhPrtIuSi+nCGMsFlwqQirw1Zr63F6d7A8hj9759O1L33zVBWdp1mHLXaLUEWSmddaUiOBkNkUFeZrOWz81W8PEnHfWWdJ0S9jomer/2/9tdg8ek3qkITTlivoYcUKn9kqUZO36zpl63T2JllWvt+hso2ZLhVHnwSklt0xGXrdd7/LNMFNy7TIecWqXRtkt6+b6RboqyvgwvIIV7e4XePK8Sz/+qvwjXbnywYLE8Z0BmfL3arNaz8OFmvPJwb/MbwoX6GM+xpd/Hyyy/rF7/4hXOFQNeccsop+tKXvqSHHnrIid5QeOKNge/Xv/610zPER8fccccdTgOFPnHm6TZGPgycGBvRUBgx77zzTuea2l0912XBO3ToUH3lK19xWwh/+9vf3mXgQhF/ewKWUASl/3t8SPgMIcsSXf6qBXyOCEZc4j5ApuL+gBDGp9aH7ydMmOAmgOFGQNgTOC/uGj6IWPx/SRvH3J1bAKOUpUuX6re//a0uv/xyZ7Vm8HDVVVc5yzHH6MpmHqTBzwPOjf8QaSEPdvd7xPqf/vQn5y7ih//+97/67Gc/G4xxYGmsjVJTfbR7xJya0eomyfjEeuIlJbVFtdWxaukxy5IdWNJzWtRvWIMKhtbq2t8t1+8ema9bnvtQ37xlqcYdUq6jzyjUD/62RKdevjmiLJNdJTGxWbNO/kRFRel6553hWrokX5s3ZOrjDwfo7bdGKsYrRlMO3uga+pqaeGcRZmUHLLmhxMe3uMlqLE0WiKBsxHe3ckuS1ryfqQe+Nkl/PedI3XbmMXr5T6O0dk665v67QHdcPEOr38P3NvijEFJz6pU1sFqB1ihVFiWpuXG7WwN1NzmzTpkDKjVgQrEmzdqo6Zdu1tr3MlS8Kt2r592fbxApRMW06cSLi3XEqWUq3RKvu28arrKiBJePRjv9hzfqnC8VufXEZz+RqzeezHXLkhkheHXSDcF5DVPYUzDYoUsw4P2///f/dPvttzvd9cwzz7i/0Se+OOXJMnEQvTzt/stf/uKELE+bb7jhBidkgfh4FfA0HKPgddddp//93/91OgY3TkQvVuLu0GXlgF8ulkUU/O7CWWed5SZS7Qk4fyN2sfT6+CsXIDD9iVl8hpglPiMGRgKYzv3JXz7E43jEwxLqm8H5vDM4VmfiFctt6DVxPP88WFZ3N9KgQHBjsUTn5eXpmGOOcdbVk08+2R2b9HfFpYE0+HkA/O3nwe5M/FiZJ06cqCOOOGJbmD59+rbJeQeaFq/BrypnLco455caUgSUnNqqAcPrVbwpXvW1JniBDuCT99P10F+GeJ1Cvt57MddN6ljyQaYqSxNUtDFZC9/L0qbV3uAxxPLbV4iOCSg3v9qtt1tVlai6Wq9sNca6JcoqK9vXtk5Lxf/eE2wViaqpTvTamBbl5W8fOCJ0MzzhlpzcoC2FaW5Fg0gBwTr+xGIdfc0GTTq9RONOKte4E8vVf0KdUnOblTO8QaNnVig1r7lTu3ZzQ6w3SI3z2lL87wM7DFAhxss7Vm1ISGl21mOWNcOPt7EmVqyG0efw8inJG7Qff2GxDplZrrLieFdv1y9N6WEb6hxYho6v1zFnlWni4ZV657kcffR6poo3JJi7RwdcbvSQMoOO4Uk8FlvEK0+PedKP5sC9gYn4aBQ0Gm4JiF2swGggjH880Ucg457JvCtcHjBiEhfRi3cBuvLUU0918XnCzcR/jrs7Y2MoXW51EI2svtBxRYbOwogRI3YQrN0FAddRkPLeDx1BbCJ+8d3FWop49CEzyDjEIGIRSy/H4JXPfP8SjoHgxEoa+vtQOjt3KKSbAKECmPOsW7fOuVwMHjzYFQrM8pjxKRikhXTuTjTDrvJgd5A27gsi2Q/+oKEnwOP4LeuSVFqUoIOPrHCiN8PrJAeO9Dreg2uUkdvkVm6wSVnt1FbGuFUY/nvfAL1w//Yw54VcbS1M1PrlqXrrmTyt/Di1p7SL+5VAIFrl5cnKzq7zBnUVzo0hOaXJE8E1brkyJkdWVCa5csdqDOvX53iDz1a3QUVuXo3S0r1yN7bEq7MVam6K0epVOV5djhyhlpZbp9FHFWn6Zet3CCOOKFUmS0BNrtHUizd6wrhZZRvTVLQiU7VlSWpgwFCUorXz2ndkS8tvVOaAGsUltKihOl5lG9JVsibDi5vsvfcGEqXJzqq7YUGaEtJblZjW7MRwpEBzjOBnrfC0bE/gJwfcPIOktFaleZ+xuxwrXWR67dehx5d7Yq7ErTyz6L0MrVyY6rW/zF9o/81uupiIZ8jYek2fVaZxU6u0cWWi3n8py1nBeerHxjq8GvsWXwuhjfzAewTrzjjssMOcAQ1XTZ4648550EEHOUOpv3EZGgdLLf64HIv5TMRnThKuq1OnTnXWXXx0ecVPF0Mhug2r7qhRo1RQUOC1z5Pce75j/hHiuKtETOuNywPuDJi48dclY8kIJrlhKscaS2YhivmbG4EbAWKYTSK4IfiKkMndycBQfP9dCgfH9gsJr/45KARsLMFNRghz83k12lm3PMn5aw0cUafDZ5Xr0OMqdeSZ3mj/iBptWZ+gJXNSTfAGYSIfS/iUFcbtEKrKYr0yF+1WtmBJMuL0RRCpCxYMVmpKoyYftFlTDtmoiZM267CpGzR2bJHq6+LcsmTtRGnRooFe45yo8RO2aOrh63WQF/+YmauUmdXg4m1YlxVRgjfGE/zJmd6gsqBqh5CU0eiJizYlpLYoPb9aLU2xWjc/Tx8/P0gr3irQqnfztez1AW7XtdL1SRp1dKmyB1cqLrFF1Z64XbcgT4tf3h53+ZsF+uS1Aq39IFNDDq1UztBqxXdwG+nNsPxaRn6zJh1VrinHlapgaL2S01o0anK123lt5MHVyipo0qAxtTrr8xs1bFyVNyCNU2tLm0YfVKUJ08tdyBnY4IRxX+bwU8p1tDcgyMxt0IqFKcrt36AxU6o1cXqVRk6qVbo3oDDR246zce2DgHZhEjy6yQ9YadFGuxK9HWFuFWKXeUz+0m24nWKURIcxBwm9BLxHn+GmioZDL6Hh8OnFSIibqm9E5XhYg0kLx2PxgK4SMa33gAED3KoNiErWqMXczUiBiVqsgoBfMGIT6yiZzOQ3lh5jDVpM5gS288WcvjtL7s7gpvpWZgoJYpr0cKO5SZyXZcQ4l7/OMI7axDHa2bI2Qe8+l6PXHi/QUaeX6mu/XanTP7dF1RWxuuu3Q1WyKaFH7Kdu9HwaGmL1/DPj9e67I5yV98or39d3vvuKLrhggcorUvTaq6P14dxBwdjSwgUFmv36KFWUp+jSS+bqm994TePGFmv+RwP1/PMTIkrsdgdmy1cXx2nh83l67Edjdf+XD9ILfxih6q3xmnLOFs361golegLPj1tXHqf5T+Xp8Z+M0f1fm6Snfjlaa+ZkaMxxZTr9B0tVMKbaxY0UklJbNfqQal1342J9/7aPvXarSP2H1Omir67Ut/93oT5z3TpNOqJSBcPqNXHaVk/E1eqSb6zSz/45Xzfc/+G2cMy5xW5N3r7MxMPLNWpSlcYdVunl3VLd8O+F+p+HPnbh2t+v1MSjqt1gzGgH0RvW4B2T5V5xNWAy2cyZM11g3hFLonbVGIg1l2VkMehhkcWSi2DFcos/L8ZBtFKo1kIf+XsaYFXmXMTtuM4xT6YRxnzG8bpjoIxq68KzcJQ9ogzRuDeuCruDNXCZ6YdbBMt54W8KrM+L+Rt/U9wAMJ378Dm+vWznS3yELq4DmLvJNMzhmMJxIWDJMIQnFtX169e73eG4uWQqJnhuLOv1Yi0+77zz3LlCz8EKB6HnRiCzLNk3v/lNN4OQG8G5EdxYixmBcE5WjcDNgwJAIC+52Vh6EeFs1/zVr37VpZGJeQhi/KV//OMfOz8YCgITzNjKGT9g/F1wg8ByjEAnr1gxgvhYjrsDhQVH8TtuvEsTNUOxwhp4YAUl6/GmZba4x4FMVmMyR111jCpL49yi7bsvsfuLnmk5Zem27IJm5xdYWdq+0H1PIGb0YEVn7p/NAHyYrJeW3qiUlCYlxGMdCnj1Mlr19fGqrklwrgyh5YkJa8RPTm50G6E0NcequjrBq7P4EO7/fBw3dYWu+NHDwXf7h9ryeNVXxSsusVVpuQ1eL+jVv4p47/M4t2ECy4+xVS67sSWlNSspo9n5SwPLkTVUxznR29IUjOuJYCyXCZ4wxJeXzSj29STKu794lD55ZUDw3b4FV4TElFblD6x3f3ekriZO1V5+cM35g3a+4UbplkRvYN+eb/ubQKDFbTxwoOnvDQpS0jtPB24g5cVeOayK3WHJyv2N14JoqzartGCNZs+evdcunN3BfyqMVsk84hTljJ7k1afwnLu1uUnr335JAwM1Yj8ytJMvSPnb32chdI5UZ6Bv/vWvf7mlYNElLL/qaznyi428uI7HHnvMfebDRmJoGNwj0DoYJFnlAR112223OY0GvMcKzDwoFkhg0j1P97tClwTv/gJhy/JnqHdM1ih7YIUDrKGIOcRrqKjjcwobTsxkCMuEYT3FnI4vLjcKEckSZRyXG8glk+GsSYv7A2Z34nFOfsfIgVUpOFfHc4SeGzM/wpkRDOcgDoMDRCifc34KCDcbcz3fsZYcIxji8h2DCG406eOm+RZizklhoTKRHn5LvKOOOsqNlih0jKIw57NjG87hWK25ju7QEwVv76FvugrsKQdC8PZ2DoTgjQT2p+CNBHqK4O0N9BjBO/0U5Y7xBC/7yYeB1pZ2wTshPdYtVcq8LV/w8ooO2Z3YZXlUNtNCqCJcma+Eby4GOmDH2j//+c9OA7Fjrj+nCjA2fuc733FP6hHJaDOsyjwpR0CjcQBdxYpXTF5jVTAMirg9dIUeJXiN/Y8J3r3BBG93MMHbfUzw7hkmeLuHCd6u06ME7z6w8E7MjHOCtaPLwe7AyIdoxXLLHClEK0Y7no77YJm9+eabnVGSJ+x+3vGUnafjLFP2ve99zz1VRzzztBxDH7vRDho0yAluDIK4ovJk+ze/+Y1bwQFjZlfom05phmEYhmEYvZW2EN/bcIXgobsLiwO89NJLeuKJJ5zLAS4JPBHHHRORztNo4Ek3wpXPGCwwMY0JaghhRDD2V1w9cT3143Jsnsbz9B53CYQ17q9YfPkeF9SuYoLXMAzDMAzD2CMeeeQR3XXXXU6Q/uhHP3IWXp4eI2hxu2Q+FWIWFwaEMHsRMB8J4cp2xLg3MP+K7wiIWMQsFmJcW2+55Ra3Ri+75bJZFhZo1vvFlXR3bhahmOA1DMMwDMPojWCWDVfYQxCuzGliObMvfOELzneXTSIIuB7gguDvbzBjxgxdc801bt7S73//e/c9q2mxKAET+LHuAj7DiN9f/epXTvTeeuutboEALMm4PHzxi190c626g/nw9nHMh3dvMB/e7mA+vN3HfHj3DPPh7R7mw9t1eowP77SgD2+4Jq3hw/vuS5qY1X0fXqyubK7VGf6EesQp+YR7A364WHbZOALrLyKXyfhM8A+dyMb1YiFGTLPmbmhcFgtgebPuYIK3j2OCd28wwdsdTPB2HxO8e4YJ3u5hgrfr9BTBm+UJ3pxRYV6lYQ8Fb2/BXBoMwzAMwzB6EWG3VPYB06cJXsMwDMMwjN6EJ1DdygphDJEuek3wGoZhGIZh9CY8ccqGheEMkY4JXsMwDMMwjF6EE6jhDOC/RigmeA3DMAzDMHob4RSoES52wQSvYRiGYRhGL6IP6NOwY4LXMAzDMAyjN+EpXkRvZ5PP9jREOiZ4DcMwDMMwehlushmvYQqRbjY2wWsYhmEYhtGLcALV6BYmeA3DMAzDMIyIxgSvYRiGYRhGbwMXhHCGCMcEr2EYhmEYRm/CF6gdRevehAjHBK9hGIZhGEZvI9wiNcJFrwlewzAMwzCM3kiohXZvQh/ABK9hGIZhGEZvItxCtQ+IXhO8hmEYhmEYvRFf+O5t6AOY4DUMwzAMwzAiGhO8hmEYhmEYvY3OLLV7GNi1LdIxwWsYhmEYhtGb6CBY9za0+X9HMCZ4DcMwDMMw+jBm4TUMwzAMwzB6Fp5ARaSGK/jHjGRM8BqGYRiGYRgRjQlewzAMwzCM3kZbu+9tOEKkW3fBBK9hGIZhGEZvIihSO3NP2JPQFwRvVJtH8G+jD1JXV6cbbrhBd9x4lyZqhmK9f0ZXiAoGo6vEDOyn6NTk4DujKxQMKdKMWXOC74yuUr82Sy2VCcF3xu5Y8XGyVi5ICb4zdkVArdqqTSotWKPZs2drxIgRio3dP/1mS0uLVq9erZkzZypr0inKHTZJ0THhOXdrS5PWzXtJEwvi9NBDDyk1NVVRUZHVx5ng7ePsKHiP9ORujPepCbmuYVWnO8SkpikqLj74zugSrQG1NTYF3xhd5Wf/b54OP6k4+M7YHfffPEz3/2F48J2xK7YL3tUmeHsZ5tJgGIZhGIbRm/DdEMIZIhwTvIZhGIZhGL2NzkTr3oQIxwSvYRiGYRhGb2JfCNQIF70meA3DMAzDMPoyZuE1DMMwDMMwehy+K0I4Qh/ABK9hGIZhGEZvojPRurchwjHBaxiGYRiG0deJcNFrgtcwDMMwDKNX4anT0L2B9zoEDxvBmOA1DMMwDMPoTYRboCJ6I1z1muA1DMMwDMPoTfj6NFzBIyr4GqmY4DUMwzAMw+hFsOkvAjWcIdIxwWsYhmEYhmFENCZ4DcMwDMMwehtt3n9hCr5bQyRjgtcwDMMwDKM3EW6B2gdErwlewzAMwzCM3oYnUDvzxd2T0BcwwWsYhmEYhmFENCZ4DcMwDMMwehNYZcMdIhwTvIZhGIZhGL2JzgTrXgTn1kCIYEzwGoZhGIZh9CJYh9foHiZ4DcMwDMMwjIjGBK9hGIZhGEZvIsQdIWwhwjHBaxiGYRiG0csI5/bCDv81QjHBaxiGYRiG0duIcIEabkzwGoZhGIZh9CLCrnX7gHg2wWsYhmEYhtGr8BRqW5hDhGOC1zAMwzAMoxexg99tOEIfwASvYRiGYRhGb6Iz0RqOEMGY4DUMwzAMw+htRLhADTcmeA3DMAzDMHojHS20exMiHBO8hmEYhmEYvQkEauDT6+nuaeBYkS56TfAahmEYhmH0JoLitLPFFvYk9AWi2jyCfxt9kLq6Ot1www2648a7NFFHKlYx3qfs37L/GTetVgcdVamRE6uVltXkPisvSdTi99O14K0MbVqR6D7rOfSMqhOfGNBBx1Rr6vHlGjC8ziVr0+pUvfporjZ6eVZf0zPGtTGpaYqKiw++2/ckJLbqsONLNGZyhQoG1yg5pVmNDbEqXJ+qOa/205ql6aqrilV0dJvSspv1ma8u1ehJ5cFf78jG1el64ZHhWrUwXc1N+zE/WwNqa2yvC/uLzH5NGnVQtaYcVab8AXVeXWzUovez9cbT/bVhaUowVjvxSQH1G1qvo04v0fCxVUrJaFJzQ4w2rU3Rs/cOVsnGBLU07v/y97P/N0+Hn1QcfLfvWL04Te/9N1cfv52uKcdVaeY5W9Tfy48mLw+KNyZp9pN5Wv9JkmoqY5Wc1qqRB9fqhAuKld2vQbFxmNSkxvoYvfdivlZ+nKLCVQmqqYhVRl6Trr1ppdK9crk/uP/mYbr/D8OD73oWk4+p0lGnlSinoFFzX8vVbK9da6g7cG1aQK3aqk0qLVit2bNna8SIEYqNjQ1+u29paWnR6tWrNXPmTOUMPUm5AyYpOiY8525tbdLaJS9rwvB4PfTQQ0pNTVVU1IHRAvsKs/AaPYaY2IDqa2O0bnmKFryd5YVM1VTFadIRVTruvGJl5DY7cWJsJzm9VWMPq9Gsy7a4DnXtJylavyJF2f2bdNY1hRo6ttbrWPtmnsXGBzT24ArvtU0b16Rp8Yc5WrMsQ3kDG3T82Rs18bBSr8y1qa0tyhMo0Vr6UbYnhPvvEDavS/fyNeAESlVZnAKByOoAOiMhqVUpmS2KTWhTcWGS16k2qP+wOiWltAZjtJOQHNDIg6p09tXrle2Jkc3rk50wXrogU2UlCc5qFMm5VbE1QUs+yNCHszNVvClRRRuSvAFVjAKtUdq4KllP/78BnoBIUe7AZk04vFp5g5o8gZyq5+8r0JZ1idusasTfWugNDJpjFJMQpfr6WK1elKrWlsgva7siOqZNOQOadOixFRo3tcart81eWWxynxvtUEKivPYrbKH9sBGLCV6jx7B1c7wWvpOm2Y/n6gWvU3jh/gK99XSOAi3SpOlVKhjWqOj9M5DuNWTlNWvqCZXK9QTu0nmpevk//byQr0XvpmnCtEqNObRGmV6cvkhrS7Q2rUnR/LdzNfvpgXrpkSF6/amBWvxBtoaNqdTYKeVKyWh2wqPBG2jNeaW/nntgxA5h1SdZKtqUos1rUz1Rk+TESaRDXhSuTtKHr+fo9Sf6e2Ks8ycr+YMbNHF6pQaPqtOyD9M1+0mvzv57kF55eIDmvpqr6rLYiM0vytbiORkqXJuktKwWZeZ7g/GgEKuridMaT9h+8FKmhk+o1bHnFmvWZ7do5rklbgD67vPZWr0kVfU17Y1ZTFxAQ8fU6NCZZTr0+AoNGVfvPu/LYFhkgHX4KeXegLNFVaVxqqrYf0+HegUUt3Bq/z7wsN8E7z6mtrZWmzZt0tKlS7Vo0SItXrxYK1euVFlZmVe+2hQIBFRRUaG1a9dqyZIl7vsVK1aopKRETU3bH2X+//bOA77K6vzjTwjZCUlYYe+9EUERBAeCe4/WVq212rpqtdrav221dduKo+6Je+AAFFQUxC1b9t47QEggISRk/N/vyb1wiQGSEMjNvb+vn+PNvfe96/CO33nO73lOYWGhpaen27Jly/Zst3jxYtuwYYPt2rXLt1XNZtOqGFs5L97WLY21zM21LTM9ypbMSLANK2Kd0E2pX6AIbynqpuVbjwHbbf7UFJvzXbKtXhRrK+fH2TejUi1jY7S17LzLGrfJ820dXuzaGWnj32lu075sYGuWJHr9EWsbV8XbV2MbW86OSG+wsMvq+KwzRHmZWt65o7ZriBGsC81a7XCRt6Xz6lqBdz8MrgmWtTnaFk+vY1M+q2dLZyY520dZtOm8w9p122FL5qTYsll1bHduLYuP80anRWab18TazqyokIxS8ps2rY3zRH2qxcQVWf9TMywmtsiJNNieEW2bVsfb7l0RNvi8Tdau+3ar3yTX2vXIshPO3WQ5GZGeIE6yrZtKBhLRMUXeoHWL9T15s9ef27190uvDMIdZhmZtc23AGVts2dwEZ2vbXQ3WmGDHOVKrqvnfL4TRHnSYmTVrlj300EN2zjnn2IABA+ykk06yyy67zEaNGmV5eXlOrH766ad200032bBhw+zEE0+0X//61/bqq686MesH4fziiy/a1VdfvWe7iy66yB555BHn6UE4hxqevLA23XOsabtc72RnnmiJC/tpvkBqRRRbQuJuS2uWbSsWxFp2Fv7rEpxIm1vHEusUWmr98Izwlom3+8TGFzorA4J2V27ZYo5oXePWOd5FN8t2ZEbaotnJvmcERHj7XoOmOZbWPNtyd9ayS/+8wv7v+Vn2t+dm26/+stw6Hp3lLCWhCLarj15qapHREda5b5a3j2T7nimBU3Ghp1kRwOxnEb6rLLeRUd597/GNq2NtW7oilvujces8G3b5ZlvtDVQXeYOvrRvUV+LQkeA9TCBAt23bZi+//LKtWbPGrrrqKhsxYoQ9/vjjdvHFF1uLFi1cxHbcuHH2wgsvWIcOHVzy2KOPPurE8fvvv+8a0V7APB4TE+Ne+9///tcee+wxu/TSS+2bb75xBnOixwejoKDACWzEc2DbvTt4BFFiSqH1Pz3D7n9/jj04erZd869llp8XYWNfaWJb1kWFxZRyeYmKLbbYxCLvQlpsOZm1PZG7t2+46JIoEx1T7KJQooS4+AIbeuEa76/atnZZHRfNLIvomELrfdxWTx9H2rrlSZa+Jt73jAD2u4Q6BdakZY4de/ImW7cy3ka92MrGv9vMe7bYLv3TEuvUL8vivW1Ciayt0Tbr2/q2ckG8dT9mm3Xstd0NogJJqZdnaS13WmFRLfvi3Sa2blm8S2JbuyzBxr/VxHbuZBYh0hts6fJbFo1a5lnXY7e7JLVJI+u5mb8QDzxWDq9P3K5H31RRC/Wrq464wwSCF9sC0dfk5GQbMmSInXzyyXbKKafYmWeeaV27drVNmza5SC9id+jQoXbqqae629NOO806depks2fPdlYIiI2Nda8nust7+bfr1auXLVq0yNkbDsaMGTPsySeftFtuuWVPu/32223ChAm+Laqf3fkRnrD1LirfpdqcKSm2bkW8xXsX1xYddloc4k56dw8I3Uh8g16fEPlmWj6QAu8xtpENpIS6aXl23KmbrOtRGTZ/RqrNn163zIoLRC9jPWHc89jNlrEl1iW8kdQm9kLkksYAdGt6rE2bUNdmfFnXpoyvb/N+TPX2uVrW/bhMS64XOrMLiNZVCxPtmzH1rOeALFfJIinl578vLrHA2nbLsYFnZdjCaUn2zqPN7bl/tLHRzzZxkd3k+gUWGeXpC41Df0ZsQpF1OSbLWnfJth8/rWtrl8ZZngYG+ydArFZJC3G0Jx0miMhGR0dbvXr1XBQVa8NPP/3kRG6DBg2sfv36tmXLFhehxdqAsP3iiy+cvWH69Oku6oqQJToMXEBSU1Pd/a+//trGjx9vU6ZMcRFbRPXGjRvddgcCH3DpCC9lyYIpwpufG+FdVOLt09fS7JNXGtv4txpZ5pZo69Ar29r3zgnZadLKUOQJWhfV9U5UUTFF+wpb72G8gQgS2UDM6jXaZT2O3Wp9T0x3JbOmf9PA1i5P9D27LzHxha4qQbM2WbbG24bEN7Ev7HfsV1RRWT4/2SVpbV0fYxtXxtryuUleHydaqw45lpgcOhHe7KwoW7UowSWE7tweaT99nWIT3m1o075ItYxNUa4E4I/j6rlKKew/J1+8yTr3yXRVUnKzI93x2K7Hdhf1jksstKjoMFAYFYRKPO16eOd6r58SU/Jt4JnpXj9udMmRDZrutDZddtgJ53vX0CbhmZewD4dDpIb4LinBe5iIjIy0pk2b2vHHH2/Z2dnOf4u94b333rPvvvvOJalheVi/fr19+eWX9txzz9nDDz/s2hNPPOEEMgIVGwO3RIvHjh3rtsPOMHz4cGeP4LWrVq1ywvVg9O3b10V1n3nmmT2N9yCyHCy4ElF5tSxzc5RtXhtts76uY4umJ3kDCCJGO3SRCKAgP8JdSPPzIi2lQYETvX4Qv1RwIDqC5zCcSUre7YndDOt30iZvByuyj15vbcvnJe83apucutu6HL3NDRpWLUq09PVxvmeEn3xvv9qZzdR8lLPOFAeUa0MM5+yo7eogR0aGzgCVpEYSF+MSiuzHT1Jt9LNN7d3HWniiN83SV8fYsllx9tnraTbvxzoWm1BgHXpn2q9uW2m/v2eZXffgMrv8b6us/7AttntnhNVJ2e0JOiWnlYbSitgX4rz+G3LRBrvg+jV20Y2rrd+QLda0dY516bvNzv39WmvSZmfIT7+XjyrsBXdpDe1eleA9jBCVvfbaa52Avfnmm11kF9F64403OrFJVJbiziSsIWTffPNN19566y1755137LXXXrNzzz3Xtm/f7qK599xzj3vPa665xp5++mknoHn/Jk2alCtpjeLYcXFx7jP9LSEhwaKionxbBC8RkcXe9/d+o85yeyjyBgc5nuBIX5NoLTvlWmLy3jqpUVFFbgGP7O2Rtm1L8P/7Hj6KPZGxyQaftdaJ3Zf/28XWLUs4YMZ3Sv08695vqy1fWM82ryfbXqfJ0jBzkLk5zrIy4pzXMrA2KpHMug3yXRmp/PzQGWzVa7zLBp+Xbn99drHXluxpv/7rWmvZOdd6n7DdfnvXaht4doZ3nva9yAOLQ0Kd3c6utWxOimVtjbKmnmBLaxYa1XWqkvVLY91A4v7fd7MHrt3bxr7S3BbPSrVvxzW2R2/pbEtm1wn1YORB4VLomtcRVdLcu4Y2OpMfZhCZRHqpqnD99dfbs88+az179nRil3JlKSkpLnrLbevWrfdpLVu2dP5fBC+Whzp16tjpp5/ufLydO3e2Zs2auZJmWCJCgT4nZ1nfoZnWrEOuK7eV1jLPjjtzm/UbttXiE/Ndjd7deVK8gWzdGG3TJiZb92Mz7Ogh26xdz52uSPsZv93spgeXzqLMW4xv6/CCagyn/nKtDTxtnWWkx9iXHzVzpcrik4iu7XZRJBY7CQRx0qhFtjVtmWVzJtf1Bgvh13dUEkhILbDGbXNdi00odFPwFP1v1GaXpTTKt9qeqF25MNFWLYm33gPTre8pW615pxzr0Ge7dwxvttadttlP36WEVCWCqOgiq1M3z5q332HNAlrDZjvdIhwJKUXevpPrbZNv2zbH2NSJDW35vBTbuDrBlnpC98sPGtmHzzWybgN3WNseO7wBaomVjMVMsrZQMi/Rrc6WnRlphZ443rAy0RucJXl9GOeJ5fCYpcnPr+Udq9GuNCXi19+2pUe5Y3fHttq2YXms7cqRdHGK319SrEpayduGMtprDhPYEPDbYl+gZi7e2fj4kkxv/gYE7QknnOA8uTRq7GZlZbkavHPmzLHJkye798AegbUhNzfXtm7d6qwQVHjgeSK/iN5QoEHTPOvribbz/7DOLrt9lV1841o7dliG5WRF2fdj69vimYn7VCIQ5qwf0yYk27wpydauR46d+/t1dtZVG6xVp5321ej6tmhGoluqNBxhSn3AqWutbZcMa98tw044a41ddtN8u/K2efbbv8y1k85bY41b7VvkP61ZrlsEAJvIopkp3gU2/KLjCckF1vWYbfbrPy9xrWmbHGvVcbs3eFhlv/jjUuerrNsw3y26MHNSXU/MJdvRJ26x83+/0k6/bI2LXP4wPs0WTE4OqX2PZEaWA6ZGbGDz++dJ4ovy9jm2wWq0ZFaSffRSI3vzP81t1DONbeH0JE8s77Jhv9pgzdru3DPYwlozZUI9e/+ppjZ2RCNbMDXJtnv73XtPNrXXHmxh34+r7wR0OEAiH1YtrFiBjei4Px+B+6rW4wORWmXN+x8thJHgPUz4F5T4/vvvXXmx119/3VkURo4c6SwE3bp1c3V5L7zwQhfd/fHHH52Vgfq72BrGjBnjktyI/iYlJbmqDq1atXLb8V6UIvv222/dex2pdbwPNyS84IVjpSdOaERzN3iPTf081Tvp17OMjSpLVhrWlF+9KN4mvtfQls1OsJzMSLfC1fwpSTZxZAO3aEe4Jq1RpYKs+ikT02zp3GTnO0W07G2+DQOgr4jIff1xM1u/sqScVLiB6GB1w9253jHotZ++rmdzvqtrGRui3WIKhd6gk20Qs0t+qmMT329i65fFWZ533O7IiPIGWcne/tjENq2OC4vFAlLq51ufEzKs01FZlugrw0biY6MWOy2hTr5FRRe6aG7bbjvsxAvTrUf/bftUd2A/rB1VaNGxBd5AYpd16pNlx525xXtNvnss0nuO/TWcYXA165s6tnxOgoIefvxCVZSbiOJQX1qjmiDCi2UBYYpIxcLAymn4eLE3YEvo3r27i/YSBcbbSxkyIrz4aps3b+7Kjw0aNMjZG0h8QwhTyYH3xepASbL27dvb559/7kqWUeu3opDsRv3f5x4YYV3tOKttXOB1QikfOnQqQmRikkVEqYB8hSgssuK8vSsuivLxj5emW78h6b574mC88Z9W9sZ/W/vuiQNRZIW2xdbZ1kbL7auvvrI2bdocsaATtfSpyjR48GCr32SINWjU1WpFVs1nFxbk24olX1jndjFOt5DjQ7WpUEKC9zBC1xLppfm7mR2IxDOaf2cK3Ibmf7z0doho/3Y85m88xnZYHyqKBO+hoEOnIkjwVgIJ3kohwVsxJHjLT9AJXtbdrwIKC0Nf8MrScBhhZ0GEYjugJi+Nv3kscEdCrHLA+LfjtqztAt+LW17jf4xbIYQQQoQ+uFwiiqq4hXgMR4JXCCGEEEKENBK8QgghhBA1CGeTJCJblS3EkeAVQgghhKhJeAK1RPRWXeMmlJHgFUIIIYSoSSBOD0cLYSR4hRBCCCFqGiEuUKsaCV4hhBBCiBqGq+FUOkJ7CC3UC5JK8AohhBBC1CCCTZyyONbSpUvd4lj+1WW//vpr27x5s2+LvbDA1rRp0+yDDz5wC2p9+OGHNnXqVPcezpfsgzUGeIzFu9iG1WhHjRrltmUNgcBty4MErxBCCCFETcKXaFblrZJs2bLFvv32W3vqqafsoYceshtuuMH9vWzZMt8WJeTk5NicOXPs2Weftf/85z/2wAMPuO1feuklmzFjhuXl5fm2LBHRs2bNsmeeecZtw7a85rnnnrP58+e796oIErxCCCGEEKLSsAoci2D16NHDbrrpJmvXrp3vmX1BwBL9nThxov3ud7+zJ5980i666CJbvHix/d///Z+LCBPZhYULF9p9991nc+fOtSuuuMIef/xxu/jii+2HH36whx9+2JYsWeK2Ky8SvEIIIYQQNQy32loVtkOhWbNmNnToULvqqqvcbf369X3P7AULAtFdor6XXnqpDRkyxHr16mUXXHCBnXvuubZmzRr7/vvvbevWrZaZmekEL5Hcq6++2k455RQ76qij3HtffvnlNmXKFPc+WBvKiwSvEEIIIURNAoFalc0H0dVdu3bt07AZEME9ELGxsdagQQNr3ry5E7vR0dG+Z/ayY8cOJ2p5v0GDBllaWpolJSU5sdyxY0erW7euzZs3z3l8ifSuWrXKve64445z27Bty5Yt3WsRuitXrnTiuLxI8AohhBBChDM+4btu3TqXSPbKK6/saSSMIUR3795dsm0lIWq7bds2q127trVp08bdQmRkpCUnJ1uTJk3c5yNm2RYxm5KSYg0bNrSYmBi3bVxcnBPV8fHxThSzXXmR4BVCCCGEqEmUTjariuZBVPXpp592ftnHHnvMtVdffdVmzpxp+fn5bpvKQpIZEWOELtHaiIi9tSZ4LCEhwSWqIaz9keXExMR9tuNvBDLb8jzblRcJXiGEEEIIYf369bNPPvnEJk2aZF999ZVrJJldcsklLqpak5HgFUIIIYSoSRCQpZhBVTXez2t4b1NTU13DU0vDboBHNzDSWhmI6iKaieBiRQiso8tj27dvd5/Fd8C6wGfi5/VXbQBeg58YPzDbVESES/AKIYQQQtQ0PPEXUUXNCV4fWAawGHDrb4cqdgERXa9ePSdYFy1atMcTzH28vSS0tWjRwtkV2I6kNoQxvt7c3Fy3LZYHqjNwv1GjRk6QlxcJXiGEEEKImkSAQK0KSkRv5d/UX90hIyPDNfy+NKK2iFmEKolnrVu3tjp16thnn31mK1ascAtWLFiwwKZPn+48uT179nSJalR6YFsiuOPHj3d1eklSo1TZp59+uud5RHR5keAVQgghhBCVBrFLwtuXX37pGhUW0tPTnZDFB0yVB0Rv9+7dXfvmm29s3LhxNmHCBHvvvfdc/V1q8h599NFO8GJ/6NSpkx177LFuO3zFbIvYZdGKE0880S1uge2hvEjwCiGEEELUNAjIVmU7BIi+jh492i0oQWOZYFZEu/POO+3KK690VR8QxIjayy67zE466SS3RPB1111n7777rnXo0MHuvfdeF7mtVatEmiJ4WX2tS5cuNmLECLdc8dtvv+1E8K233mrt27d325WXiOJA17AIO6h3d/fdd9tzD4ywrnac1bZI79FD9+qEBzp0KkJkYpJFRP28GLk4AIVFVpx3aKWAwpF/vDTd+g1J990TB+ON/7SyN/7b2ndPHIgiK7Qtts62NlruIpeB9WQPN3hdly9fboMHD7YGKSdYw3pdPHFYNZ9dWLjblq+ZaJ26xjkBWroc2MHAjhC4WEQgCFi8tiwegT8X/+2mTZtcFBgfrz9RrnHjxs724P9c5Cnvi4cXL2/gtk2bNnVLGVfkOyrCK4QQQggR1hQfUgwHoYqgHTBgwM9a//793UpqiF2gukKrVq2sT58+LlrLksH4cUtXguBvHmvbtu3PtkX4VkTsggSvEEIIIUQNomJS7+DwflX9nsGGBK8QQgghRE2i2BOoVdjCwaEnwSuEEEIIUZPwlxGryhbiSPAKIYQQQoQ7IS56JXiFEEIIIWoanj4ty55QmSZLgxBCCCGECC78IrWKWjiIXtXhDXP8dXiff/AV61proEVabVXhLSfFhQW+v0R5qBWfYBG1o3z3RLkoKrLi/JL15kX5ufbu+dat/1bfPXEwvhrTwCaNqe+7Jw5EYXGRrcveZMuKN1RrHd6GiV6r29kiq6gOb0Fhvi1fN8k69oivVB3emoAEb5jjF7wvPPym9UgYapERURK85aDYO+kVbM90gkSUF2/PCrET6GHHnZ51iq4oUdHFFlFL/VZeTrxusZ147RLfPXEg8vO8AcIXhfbEA/WqX/Cmdq7ChSc8wbs+tAWvLA0igIgSPcL/1A7c6CvXZ6JCIODUyt9EpdidH2H5u2qplbOxq0XFFqqVs9WOCtFAR4ifciR4hRBCCCFqEBHeKKVKm+99QxkJXiGEEEKIcMYTvaEe4pXgFUIIIYSoSSBQq7z53jtEkeAVQgghhBAhjQSvEEIIIURNg4gs+XNV0UI8ugsSvEIIIYQQNQkEanEZyWeVbBK8QgghhBAi+KhCkRrBmyF8QxgJXiGEEEKIMCYMArwSvEIIIYQQNQqfQmWx3KposjQIIYQQQoggA5FaxS3EkeAVQgghhKhJoE+LEKq+v6uqhTASvEIIIYQQNYmyxGpVtBBGglcIIYQQIsyJ8N2GKhK8QgghhBA1iJL6ud5tkXdbFU0eXiGEEEIIEXQEJpxVRQtxT4MErxBCCCFEjaOKBWpo610JXiGEEEKIGoWLyFYhIS52QYJXCCGEEKIG4fRpaUvCoTZZGoQQQgghRNDgRKr/tgpaGIR4JXiFEEIIIWoYxVUsUp3uDWEkeIUQQgghahK+oGzpQG2lW1HJ24YyErxCCCGEEDUJT6QaIpXbKmiupi9/hzASvEIIIYQQNYiShSeqru0J9YYwErxCCCGEECKkkeAVQgghhKiJBEZnD7WFOBK8QgghhBA1CQRqUSnBekiN9yx561BFglcIIYQQoibhBGqAUD3k5v8jdJHgFUIIIYSoUXjidJ8IbVU031uHKBK8QgghhBAipJHgFUIIIYSoiZQZqa1EC/XwrkdEsYfvbxGG7Ny50+6++2574eE3rUfCMKtdq7b3aETJk4eRpm1zrFWH7da4ebbFJex2j2Vvj7HVy5Js5cI6tnVjrHusVmSxNW2TYx26Z1qj5jusVq1i25oeb0vmpNjKxUm2e1ek2+5IU1xUZIXbt7nb6iQmrsgaNMuz9j13Wr1GeZZYZ7dlbo2yqRPq2saVMVZYcPj/LctP9X+XqOhia987x9v/cq1uwzyv/wqtIL+Wbd0UYwunJ9nGVTGWtzPY4gDVf4pOTCmwxq3zrG23nZZSP8/iEwu84zTB5vyQbJvXRvu2EmXRvMMua9s925q2zvX2vyLL2hpj86Yk2dplsbZze/Wcv0oz9OaFNuyWhb57h5eC/EhbPauBrZyabLVji6xFr0xrddRm99z8iY1t3dxky83kOrSX5Mb5brvWfdN9j5SQ610z1i+qa+vmJFrOlii3WlhcaoGltc+x9gM2WlRMoW/LqiM/z2zSZ0X26N0N7KuvvrI2bdpY7dr7ft/DRUFBgS1fvtwGDx5sjQr7WsP49lYromr2ocLiAluW+b116J9q7777riUmJlpERDBdPw4dRXhFtZDacJc1a5ftWlqLHNc69My0Y4ZstN7Hp1ucd0HlWGvcKsf6DEq3fidvtBYddnhCJdt7frN3f5O17ZLle7fwJdoTvI1a5VmXY7KtQ68c63/GVjvh/M3WsEW+RXqDBbEvUTFF1mvwduvSb4e17LzTmrTZ5QRJ31My7Tiv71p23OkGVWJf4usUWvP2udb12B3WrkeOnXxxuh09JMNS00oGq+LnMFiv5wm1Y4ZlWL+h26xN953WzOtD9r+BZ2VYm245Flk7vPa1wt2RlrUx0WaNa2ZTR7a0OZ82sw0LU33Pmi2fUt9mf9LMlv6QZhlrk/a07ZsSbFf2vgOr7IxYWzmjvv30UXNbNbOBpS9Nsc0rki19Waqlr0ixooJwkDdVuf+E/r4owVsBdu3aZRs2bLB169a5v6uTYPoulWH7tmibM6WeffR6GxvxcDd7ZXg3+/azJpZaP9cGnb7GGjbPtdrRRdb3hHTr2X+zZWfVtpHPd7A3/tfZVi6uYx17brPjT1vvBEyIDUIrhneOys+tZSvmx9nEDxrY4hlJvidEWbCvxMUV2KIZiTbmxSb2yv0t7b2nmtqm1bF23Glb7ajB2ywmNgwWla8gxUURtmNbbVs4LdHGvdbYNq6O8T0j9kdUTLH1GLjd+noDA2YNxrzQxF590BN5P9SxngMz7eiTtlmdeuEzYCgujrAcT6SumJZmGxcmWJQ3WI+tU+B7di91W+yyo87faBfcP3dPO/mGxdau/97oLvvjunl1bdbYZrZxQbx1HZJuQ/+81M74v8U28IpV1qJHpkVGhfZxXOXyNAzGXhK8FWDx4sV255132m233Wbz58/3PVo9BNN3qQxrFyd6F89UWzGvjm1dH2db1sXaj581skUzUz2hW2zN2mZbXFKBde692XZsj7QJo5vb8jnJtm5Jon0+soWtWxFnrTptsybedrVqh69Ayc6sbfN+SLLxrzewqeOTbdMaTS8fiJ07Iu3VB5rZF295g4PpCbZxZaytnBdn7z3R2LK21LK0lrusXrN839bCz5b10Tbjy2T7zNvPZn2d5MSvODAMnAacvs3ru3jv3FbP5n6f6J33Ym3Msw1t9aJYZxHp2Genb+vQh+juugXJ9v1rTa3fJeutcZdsd64vTa1Is+iE3ZZYN3tPi0veaVGxe4/L/NxoWzE51TK843fITSus6ymrrFH7zVaveYY17rzJWh21wXvvqrczBBXFxc7CUVzEbRU05+X1vXeIIsFbAYqKilw0lVZYWL6Die14XVVTme8STBR5I/SiwpLGQcuB1qx9tqU132kF+RG2aV2cNWyaa0kp+Za5OcbWLUss2d57XcamGNuyId47QCM9YZxjtcNsWjAQzlGFXr8U7I5wfl3Xl2K/0F+782q5/vLvezyG/YMLbYHXhzwv9oV+Yv/as5+F7yFXLph0io4qtObtdtjWjbWdz5njlPNXfn4tW7c8wevTWtaoRc2bnassq2bUc1aFpt2zrfXRGy0hhd/+8x0pY3WMTX6jmb38u2PszZuPtglPd7FVPzXw9r29g6zNK5Mtc12i7c6NtKwNcTb6rp722vX97P2/97Zp77W1nVne9cHr65DGCVROYFXVPNEb4oo38i4P39/CY8WKFfbll1/aBx98YOPGjbNJkybZ7NmzbdmyZfbTTz/ZJ5984qwEa9asse+//94WLVpkDRo0cKLz1VdftXnz5llGRoZ99NFHNnr0aMvJybGkpCT3/NSpU937jh071pndly5d6oQrr4+MLDGe79692zZv3uw+e8yYMfbpp5/a5MmT3efVq1fPYmNj3Xfkcd6n9HdJS0tzZvNatcp30ebzvv76a5vxwxxLi25ntSJ43ZE5UcQmFFrbbll2xqUr7KiB6dbzuM3O9zZ3agNbOKOuE789j023NUuTbOZ3Db1jsuR7IVRaddhhjVvttMwtXn/Mr+OdDI+wSOHkkOedsIPsyt/juCxr2naXzfou1TavKbnIBg/BeQGKjS+yAWdts1adcm3p7CSb8723P3miROwffOIccwun17GtGzSrUBq8uakNd9tpl2+weT+m2JJZiZaTtVewNeuwy9Ja5NvuXbVs1rd1fI9WH237b7F2XjtcbF2VbAu/bmTb02PsqLPXWFq7LFs2ub7lZsVYvRY7rXn3rSXbrUm22jERztaQnJbvXQ9q2abFSZ64jXN9Wr/VDrfd2nn1bPnkerZ1dZwVR0RYfGqhJaQW2K4d0Za+LMm2b4y1Rh2zvPeqessb8aWVy4rtx68T7Morr7TU1NRyX28PFfTCtm3bbMSIEZZY1MQSolK931c1n11shbZt11qr3yLeLrroIouOjvbeOzjP2ZVFZ3UfhPOJlo4fP94JzenTp7tsyCVLltiMGTOc4M3KyrLs7GxX2QChuXLlStu4caN73Y4dO+y9996zF154wQnROXPmOEGLeGUb3oPMR0QvdoQFCxY40fv222/bwoUL3XvyHXhfv9BFYPMes2bNcu+JgF6/fr37vO3bt5f5XfLy8ny/6OdwsJDlicgNbIcjAl0eSA6KT9rtEtaatMm2tGY7vZOaWc4Osm0jLNrnpSwkqlRK0BYU1PJOPLUsJtY7+4TWMSmOIInJBdaxT7YdM3SbrVsRb0t+SrTc7ODInBc1FwbunL+YNdidXxIZD4THgKohoQy+3d250bb4uzTL2hhvjTtudxUZakeVPSvZoleG9T57rR3zi1V27C9Xub8btM52onfBhEaWtzPavWfeztpusEBgEutC92Eb7OiL1ljnkza5+zNGNbaMNd7ANU/Wm3IT2ruiQ4LXB6KPyCwR2MzMTPvNb35jw4cPt3vuucd+8Ytf2JlnnmlnnHGGHXvssda7d2/729/+Zs8++6z95S9/2acsCcIY4XnppZfaQw89ZGeffbYTp0SGiRSff/759u9//9u9nvf54osv7OOPP7ZNmzY5IYu4feaZZ9yo8ZprrrF7773X3aakpNiTTz7p3qNly5Y2dOjQ/X4Xf7S4NPwuRDzv4W9z58619PR9S70cKXJzIm3B9Lr28n+72Yjh3eyzkXz3Yjv2pA3WxDvJ+QeXDGAjSmXO81xEhDcmDaoIpqhJENlt3S3XTvnlFouJK7DJn6XYwumJvmeFOAQ8UYZ9ARHBwL50ANB/v5piDUcMAhfbNyfZ/C8aWH5OhDXqkG0Zq+Ns83JvYJkZbXk5tW3HlmjbuirBigoirGnnrc5/26j9FqvbnHJlG63fxWsttVmubViYZFmb6lixd853lVS8i0Bykzw7+sL11rzHJktru8UTvOut0+BNlr052jYsqvezyg4hBbOLVd1CHAleH37Bi+hEUPbt29eaNGlibdu2deKyZ8+eFhcXZzExMRYVFWXJycnOYsBtYA2+bt262QUXXGDHH3+8tWjRwho2bOiSyojq3nDDDTZs2DDr0KGD9ejRw0477TTXsFAQpUUsz5w50xISEuxPf/qTq7WHgB00aJC7n5ub6ywTRI339124v79pCMT1TTfd5N7X3/g+b7zxhm+LIwsnw13eSJ2ktfXLEuzbjxvbjG/SCI9Yv5PSLT+/xCsYHVe4J9rrJya2wHnksreXRIOFqChd+mXbqb9Odz7w1x5sYXN/qOPtj4ruikOnYLfZzqwSr3hsQtHPzl9xCSURzlCfTSgsqGWbVyTZjs0xNvPDRjbiyt722BmDXZv2blNb+nWKTXystb3w6/7eNrFlaq7UptstsV6uq7m+fVO8G0jEeP0XxXXBa3Wb5riIOkTH5ltcSq5Fe89nb4u2glD249NZ7FZF3FZBc6K35K1DFQleH4hWhC5CdNq0aXbjjTfafffdZ6NGjbK1a9c6D65fSHJbuvnBQ9uqVSv3fvh6sAxs3brVfvjhB3vwwQedGD799NNdtPgPf/iDiyhjm0DMbtmyxVkYEMhXXHGFiyqz7VlnnWVXX321ixwTCSZi7P/M/X2Pshg4cKBh2R45cuSe9tprr9l5553n26Ia4BjzDlpEK8kw+HMZvdeuXWSbVsc7e0NKvTxr1CLH9wKzpLr5Vjct1yJrF9jaFQnudUKUn2I7ZlimDT5/i9vPXv9PC1u1IL5kwYkQP+GLIwPT7vn5kbZhZaKlNiywegH1ir1hvFuEolakd45bF9rl3SK946tRhww75aZlduEDC+3cexbbOf9e4lr7QRnWpHu29Tw33Yb9ZbknVHd71zDfCwPYvjnBGzzEuDJjcUkl29RrnmNJ9XfZ7jxPBG+O2xP0KMiPsrwdMbbbG7jGp+RbZHSIh9Cr/IQV2idACV4fiEWSvbAvYNhu3rz5Hj/tI4884jy1+HQPBpFXktT85OfnOzHL47169bJ+/frZMccc49qJJ57oPg8xSzSY7fDgIpqPPvroPdvRiMYS5T3hhBOsfv36vnevGI0aNbKjjjrKTj755D2N74DQP9K0655l7XtmWr0muywxdbelNMi3zn22WYeeGRYbl+9WUaM6w6rFKZaUUmB9T9xkaS13etvnutq8jb2/09cnuOoN4Sx4sXVEeyf1lIa7rW6j3RaXWGS1o4qtTmqBpTYq8AYHBRYdE+on/fJDpO3oIVl2/Nmb3SpMP31bx5bPpeKHWUx8kesrLTzxc+iT2PhCt4/RomOKLSa22JLrefuZJ+YSUwo9QaJ+CyQ/r5bN/DrF6jfJs279s6xFx1zv73zrNyzLmrff6Z3fatsKb98LZWrVKrLE+jutTb906zJk3T6tXitPtKblW+POO6z9gE2Wn+ud739qaGvnNnDWheytibZpST2bNbaJbV0d75LbUppkuYFCnYbZ1rDtDueRnjU2zdKXp1rWxjq2YmpDWz61viXUzbdG7bZZbGIIlxjkcHPN+1+VNPeuIY2qNASA6EV4tm/f3gleBDAClEoNCNc6dbyL4/LlzvaAZaFp06budSSbIYZJKsNawHN4cIEkMaK7iGeENBHe/v37O8sEDQHcp08fJ0ZZRIIENoTv7bff7kQuz/u3Rfjy3fDzEg2mekPp73Ig+H34ewMbVo5vvvnmiFdpOGrwFmvfPdMat8i25m23u1XUOvTMsroNc23j6jj78fMm3gUh1jsGa1lqgzxr1jrbRXYp89PlqG2Wv6u2zf6hgS2aker1fzUIXu/fPBiqNCA8WFq4/2kZ1r5XtnU+ers19O7zb9jAu9AmJhe6afrgqJta/QOT+KRCu+Smtdb92EzLy63l7WNRrv9adcmx1l5LqFPoPR6pxLVSxCUUuVXojvX2szZdc6zbsVkWl8QAodgJunhvoLUjo7YsIQFwXtqZXduatfMG6o0ZKOS7Ja17DMy2okJPqH2TbPOnJAXFgP2wVWnwfhoCNSrGG3jHeQOlgLbsxwaWlx1taW2zrVWfdMvJTLCFkxrb2tmptnVlom1cVMfWzku1tXOSXbS24+B0a9l7s4vwkphWVFTLLS28YUEd2+XdblmRaKt/SrXt3nWj5VGZ1tUT1TGJZUeND4WgqdJQ0NgSIlO9Lq6azy4uLrRt+eusfktVaQh5/FUaSOziH7p79+5OnJIIhsgksWv16tXON4sIpiFm2QFdweb9EB8fb40bN3ZRX+wK7EAIZw4Sbikz5vfdEtnFN4yYxbbA90Dcsq2/1BhWCYQqf1f0uwQTZCk3bOxdQE/aYMMuXGmDTltjDbz786Y2sE/eabMncjv7x7r2w/jGtjU9zvoN3mCDTl3rLBBTJqbZj1808r1b+BIVW+yWET7hvE12yiUbPJG7y3blRFiXo7fZSRdstD4nZFqDplpIwQ9JkfUb5XrCjAFBrp180UY79+q1e1q/YRlWXwtP/Iw4b6DQqttOt4/RSmYWCqzXwK128oWbrHv/HZaUUnbmfbiCf3fZ7Hib+H6abVkfYz0HZNngczdbbFyhTfqwgc2YlOIGXeFKYr18q5OWa7F18p0ojfJEbGFesa2fG28zRzWwqe80tuU/1nGRYBLXepy2wffKElr03GZHn7/GGnfaYcu+TbZZYxpY5rpoa90nwwZdtcLiknnfEA5b8tNc8/5XJc29a0gT4QmkMPiZBwevLd5ZyochRDt16uRsCDyGlxfRS4IXVQ2I5BKBxQ6AkEV4kkjGaK9du3Z7qiX4oRQZXtkPP/zQJa6RhIaIJUkOEUx0GK8uYvfzzz93q6cRYabSA9FfBDG1dqmXSwId1gj8vC+//PLPvgsJb4FJdAeDsmZ33323vfDwm9YjYZjVrsVrD/+ojsUiGPm7CgyclIojSrzzhSU+Xpfh7IOEBLe9y8wtds+RDOEqNFTT3lvsDS4Kt29zt9UJFwr6Jyq67HqT9JEr60ZfVTvV/x3ooxhPcJTVV0A/IVTYB4OH6j9F01/UQWU/Kw3fjgx76vJW8+EQlHB80neRLvjNilZ797FgufoOvXmhDbtloe/ekcHVuvb6IsL1D8GaknOVO/a8vx3e+Z7gKatp+hPTAuFaUMR+58Za5LF423Ot8NrhErv5eWaTPiuyR+9u4EqLBlZpOtwUFBS4WWZmf9Nye1nDmDZWy6pmVqWwuMCW7ZxqHY+v70qoEmQLtQivBK8PBC9VEqhYQP1bFowgUY0ILOKTJDPsBexsDzzwgKuBS9d16dLFJZ8hkikfVpbgRdBSXQE/MLfU8+W1CGqiuvhyEbIIXpLSWESChSv8NXeJ6CJksT0gqilFxvelhFnp74Kg7tixoxPJ5aG6BG9NJ1gEb81C+1Xl0ClaHF6qQ/DWVIJK8EZ7gjeiCgVvzhTrOKiBBG+ogx0AIUpt2lWrVjmRiuBFaCJiEZGsiIbV4LvvvnOeXEQxgpWILdtR9gsLAn5bSoQFgihlRyViTGTXL6bx/BJNJnGM9+BxPoPyZFgoeB2w8yF4KY9GqTMo67u4A8G7RSSXBwneyiHBWxm0X1UOnaLF4UWCt/wEjeDd6WmBqha8RHgleEWoIsFbOSR4K4P2q8qhU7Q4vEjwlp+gEbzZPUosDVUleIt227LcadZxcMOQFbxKWhNCCCGEqGEQr6yqVvKGJTehigSvEEIIIYQIaSR4hRBCCCFqEC4qW4VtT5Q3hJHgFUIIIYSoSaBPS4nWQ2rUBeU2hJHgFUIIIYSoaaBPq6qFARK8QgghhBA1iipWqWEgeiV4hRBCCCFqECXVFVihroqaUWIztFWvBK8QQgghRE3DrcdfdS3ELbwSvEIIIYQQNQq/OuWmKppjzx8hiQSvEEIIIURYE9piFyR4hRBCCCFqEi4y6/2vyprvPUMYCV4hhBBCiJpEcZFZURW2Qq8hfEMYCV4hhBBCiJqEi8gSma2iJkuDEEIIIYQIOqpSozrNG9qiV4JXCCGEEKIm4Y/KBkZpD6UpwiuEEEIIIYIKT6QWu9q5VdSoxevdhjISvEIIIYQQNQ6fSK2qFuJI8AohhBBC1DRCX6NWKRK8QgghhBA1CReRDYjOHmqTh1cIIYQQQgQdZQnXQ20hjASvEEIIIURNoiyxekjN974hjASvEEIIIYQIaSR4hRBCCCFqEHuDs2WUGKtkC/UorwSvEEIIIUSNAoFaVKZwrUxz73WIinfbtm325Zdf2sMPP2z/+Mc/7L777rORI0fa+vXrrbCw0LdV9SHBK4QQQghRo0CeIlCrqoH/tuJkZWXZ9OnT7bXXXrOvvvrKZs2aZd99952NGjXKtczMTCsqKvJtXT1I8AohhBBChDWVF7uwZMkSGzt2rH3zzTd27rnn2l133WVXXnmlRURE2GOPPWaLFy+23Nxc39bVgwSvEEIIIUQNwm8/KInzVsV/h8acOXNs0aJFTuyeddZZ1rNnT3d7ySWXOMvE559/bps2bfJtXT1EeF/kUH+nqMHs3LnT7r77bnv+v29Yt4STrXZElLdXRPieFfulqNAKdmRacTVP0dQstF9VDp2ixeFlyA2L7eQbF/vuiQORn2f2zYQie+rBBjZp0iRr27at1a5d2/fs4aWgoMCWL19ugwcPttSNLay+NfbOqpG+Zw+NIiuw1bbQOp7S0tkSEhISrFatkpgoUVp+I42/S4M/98EHH7Rx48bZDTfcYGeffbbFx8e756ZMmWL33nuvJSUl2Z///Gfr3bu3e7w6kOANc/Dd3HPPPfbk8Getfu0W3s7MDi5hcnCKrSh/l7SIEKLG06J3hrXstc13TxyIwiKztavMli9saJ999pl17NjRYmJifM8eXhCWq1atslNPPdWyVuRaVEGMd7Wumol674pmOyOzrF7rFBsyZIhFRUXtEbcNGza04447zrWyfmt2drYTtXh3Eb79+vXbsx2R3yeeeMJWrFhh//rXv6x///7u8epAgjfM2bFjh7377rs2ZsyYIzZKPRgY23NycpwXqEePHtakSZM9I02xfzgZLly40CUHHHPMMRYZGVnmaFzsRftaxeBywX42efJkS0lJsU6dOrn9TBwY9jMy1WfPnm3HH3/8PtEz8XOC/bjk+xGxvPPOO6158+YWHR3te+bwwudu3brVicq1a9fa7t27fc9UDf4Ibun3pf9POeUU1+Li4nyP7iUjI8MJXqK5jz76qHXv3n1Pn8yfP9+ee+45l9B2//3328CBA93j1YEEb5jDPz+js127dllsbGxQCCSmbRgNnnbaae7APvPMM4/YCLomgz2F/mJE/corr1hiYqIE70HQvlYx/OeLK664wl3U/vrXv+6ZuhT7Jy8vzz7++GPXX5988om1bt06aAIMwUiwH5d8v/z8fKtbt+4RDyxwDCJI+Q4I4KqG9y/9exhsEPHdn6WBIAuC94cffrDhw4dbr1699hG8Tz/9tLsusc2AAQPc49WBBK9wO3gwwYGMT+mEE05wo8VzzjlHIqQcIHixp/z0008uak8USYL3wGhfqxicK4i8XXzxxe6i9ve//12CtxwgeEePHm1/+tOfnO+zTZs2ErwHoKYcl9V5fj3S1+0D/VYEOLlA48ePd7YFPMYE0IDrESIY++Qdd9zh7A7VheZUhNuRg7EF83cL1hZIWc+rld3UX+VvgZT1vNr+m/qsYi3Y+6s6Kev7HM52IBi84fMlyIJtx2+JQJQT/V2wYIFL7sMGUp1I8AohhBBCiEqBIO7QoYO1bNnSlR+bOnWqS66bNm2aW3lt+/btLlmtQYMGvldUDxK8IijB/0P2a506dQ46uhQl4LNKS0tzJx0lEpUf7WsVg32LfYx9TYlX5YP9iv2L/exIJTjVdHRc1iw6d+7sqjiQD4R956233rK3337beXgRu3379rXk5GTf1tVD5F0shyFEEMIJj5p99erV04W1ApBRS/Y8faYLRfnQvlZ+/PsUER0y1NVf5YN+o7IF+xmZ7jo2D46Oy5oDYhZbA95dlhT+8ccfXfUGFqC47rrrrFWrVi7xrTpR0poIStgtyYLFG6RoZfnxZ+4qilR+tK9VHPoLAaLEq/JDOTeOT45Nid2Do+Oy5sG1B/8u/278zX7Ovx8Jh8HwbyjBK4QQQgghQhrNEQghhBBCiJBGglcIIYQQQoQ0ErxCCCGEECKkkeAVQgghhBAhjQSvEEIIIYQIaSR4hRBhAeVyWM+dWxWnESJ4oGTb6tWrLScnp8xjk8d4jm3YVojKIMErRA1kzpw5tmzZMlfXszT+i8P3339vW7du9T0a3tAn69ats1GjRtnmzZvL7DchRPWwc+dOe//992358uVlHps8tmLFCrcN2wpRGSR4RdDDiJ6oHIWsRQmvvvqqffLJJ24Zx9Jwcdi0aZPdd999tmDBAt+jYt68eXbnnXe6i2peXp7vUVERGDiwf5XVyorMhSucr7Zt22br1693UcmVK1c6wRbYMjMzfVuLHTt22PDhw2327Nlu0YLS8NisWbPskUcecdsKURkkeEVQg8glIrdq1SrLzs6W6PWxdOlSW7t2bZnTewgPoiBz58617du3+x4Nb1jxJz4+3ho3buyi3wg0UTE49hgobNmyxTZu3PizpkFECRx/iNwXXnjBrr76ajvrrLNsyJAhdtJJJ+3TRowY4XuFgAMNmNi3GNyzbK1WqROVRSutiaBh3LhxzmPJGv19+vRxF1guGuPHj3cRS8TKjTfe6NbmrlOnju9V4QMiFmEB11xzjbVt29atUZ6UlOQeAw5nbAyTJ0+2J554wv73v//Z0KFDfc+GN0R233vvPTdYuPDCC61fv36WkpLie1bsD/aniRMn2meffeYilfvzQD/wwAN23HHH+e6FLz/99JONHj3a9Vnv3r1twoQJlpiY6M5rnMeIVA4YMMB+97vf2amnnup7VXgyadIk14jacq5nYNCpUyeLiorybVFyTqPfGESwPO3LL79s9evX9z0rRPmR4BVBw9///nc3ej/nnHOsV69eTpjce++97mTYqFEj58Hs2LGjXXXVVda5c2ffq8IHLpSPP/64+5uLKKIf8c/a/H44nHNzc910Kn128803u22E2cyZM+3+++93gqRLly7WqlUrN1hgrfdAECa//OUvfffEu+++a59++qlt2LDBmjVr5iLltWr9fHIQAde1a1ffvfDlrbfecl7xli1b2hlnnGH33HOPNWnSxC6++GIXqfzoo49cH3KeC/fBKJ5cGucsAhucq9jHAo9Jrgmc1+rVq2fHH3+8nXnmma7/hKgokXd5+P4Wolp56aWXLC4uzk488USLiYmxL774wvkuOclxsWB0//HHH1v//v2dWAk3iHDg22VKfs2aNe5CwBQfU308RuPCAUTDzz//fDcw0MWhBKKTiA36DHsM/kr6kYZlxt/Y904++WTfq8RTTz3lImxMw//iF7+wQYMGuUjuscceu09DqARG5sIVhBuD9T/84Q/Wt29fd5/B57nnnms9evRw+x9eVQQcA/twhnMW4pbzFVYZ9iNEL+f3Fi1auNa6dWvr1q2bi4pzLeB8JluDqAyK8Iqg4aKLLnInuj//+c9OdPzzn/90J0NG9IhcKhNceumlbqr+tNNO870qfEDYMr3MIft///d/1rx5c7vsssv2sTQwKOCCSvS3rChcOEOE8ocffvDd2z+IE03N74VoNxHKm266yQkQcWCYRaBCypNPPmlNmzZ1Pt7k5GRnQ2rfvr1LWGPmZeDAgXb77bf7XhXeIHzffvttJ2r9+xiWNgIgnMc459H4W2JXVBZdEUXQgHBD1OFT5XbatGnWoEEDd9EgOYvpwHA+4TEIIBKC+CDqdscdd7gLKI/5W8OGDd3FVWL356SlpbnB08Ea3l6xF/oN4YEoEQcHvy5RyIyMDCfaiOSSPLpw4UKXLLl48WI3E8PgVJRAf/3qV7+yNm3auPP/V1995Wbz6EPO/eQvYNOi3xSjE5VFlgYRNDC1zFQf0/bffvutLVmyxFkZjjrqKDcFjQBetGiRS/QIR0sDQt/fsHowRU+5HgYFPMbU6XPPPeeSOvCr0kcJCQk/86iGK/6BEhfRb775xj7//HMXbeMii6DjbyqCMFig38ResNMg2EgWwraAkEO8kcDmb/SbBlrmBBvijP2NnAN/SS0EHPvdhx9+6PoR61Y45iKUBSKWhOWnn37ancPoK85hWBhSU1PddWHs2LGuzCJJbYF5C0KUFwleETQQGQHELSe0E044wXkpmWLmZIgArlu3rvN5IfLCmXfeeceVJcM3SVSX6XqELtEjLrT4U4mGMD2oSgQlECWif7igTp8+3Q2gECZMLSNwucDSiMYhVEQJCDSS1hBteFN//PFHl1n/5ZdfukoE/sa+xr4Y7mApYhaGmSlmXTj+iOYyKCBayfnMP5OgY7MEjs0PPvjA7VtExDm/c4yed955boaB4xRL29SpU13AQ3kJojJoOC6CBjLnSez4zW9+4yK7ZH0TpSRqxAmO7HlqWnIRCXeIeCByEWpcSKk8QMSXPsILTRQEkYLwFSWQeMXsAT5eIrpA5Q/6zw8zCJR0E3thgQQGoAgR+ov6zohf9jkagwRuVfO5BM5ZRCYprUi/MSilWgMeXpL+SGZD8IbjLNX+YHA+ZswYF/nGM851gJkp/6wMgwQGUwy4VENbVBYJXhE0MMrHx0uW7jHHHONECSdCoruc/Mho9k9nBYqUcIRSbQwE8OvibSYyQkSJiDgXVwYGRIC1KtFesMxQpYFyULfddpubQQj0UZINzn36TezliiuucDV2ScYqq/mf0/T8XhBlDAAYlLLfcaxyXiM6ST/5I76iBPqLGbzu3bu70nal/c1cC4ic06fYaYSoDBK8Imj4+uuvXaZuWY0pfBrTq/jgiDSF84mPBDZ/MgceQab/iIAgerm44rPkcV0c9kJfIUAYTBGtLA2DLSJKSs7aFxY4IVp5sMbgS5SQnp7u6stef/31LlqJN9WfdMU5zL+Ih9gL5ypaWUlpHJMM3hG+/qivEBVFglcEDWTmUouXsmOPPfaY81qy+g7lfbhPZYJnn33W/vGPf9i1115rDz30kCvTFY6irl27du6C+d///tf1C8kcFLrHR8lFFWFHsgfCWJTAQIDZAS6eZS3JTJ9RHcTvJQ9XEGYkXvmFB4l8JK0drLHfiRJbDIPzV155xXl5mYFhlop9DrHGbBVJuVhDRAkM0KlRPH/+fHcuC4SBO95dBvWsXMcxLERlUNKaCBpIKOLCyQmNJSZJTsPGgLhjOgtBwnQXXl8urmzLxYPSXOF2EuR3E/FA9OKxxOqBlQFfIAXcp0yZ4gTL4MGD5Xn2Qb9wMaXf8FVS6QKP87Bhw9xjeAjZp9i/SGQLV6hewWwLAgQhMmLECLckMzMrPM5tYEO8cctxitcy3KEvGLxjkcE+g7+ZfqGWOLkIJOXSx8wyqATeXtjXGARQDQThS54COQqIXfY7Bgx4oEkoZVshKooErwgaONERAaHoPwlrrOzERYLpUqbqGelTpeHCCy90goUyUogWFqEIt6xdMpdZXIIpPgTt2Wef7UQv95m6J0rHfcRb4MIU4QwDABoXUAQuiVdYY7ioEj1isQD2M3yW4bzAAn2Bj5ljj4Ek5e6IWhIZR6xxG9j8j7FoAP0X7mBX4Fz2+9//3g3aSZSkGgPnNWYP8KtSdgsRHM4Dq0Dw7LLvUDKQ1Q7xPQOeXe5zXmOFPwYQnOtlaxCVQSutiaDhqquucuVoyGamNmogTAlSRurWW2+1//znPy7xAy/c888/7y4w4RhZ4sLJFDwCl7+5qBIJx+LB40SBESxM5YsSjyDRcGwx48aNcxdS+o3+4YKLYLv88stt6NChYd1nDAb8g0uEBbYh9qeDQcSS/S/cIYGPqPf//vc/N3BidUjsRqwgSR+RnMXfCLi//e1vvlcJ4BhlsDBjxgwnetnvWFGSJZoZvCuyKw4FXQlF0MBonmhRWZ5cxmVkNRMB4JZRPpE5rA3hOmbDZ4lwY5lhli9lGpVIGwkzDAKI1DFQECUgYvE1s0Qu0/Q0PNAIFBIjhw8f7mYVwn2AQBSSfvJH0fibWYSDNfnFS2BGhb5Yvny5G1AF4k8wZSBKv4p94djDskBpRY7Tv/71r/brX//aWdkkdsWhIkuDCBqYaib6QRSOiAgXXk6AiFxqp7766qvuPl5VLhhMSWNrIIKC+A0n8Li99tprrswWFwI8u0xB42cm4ks03O+rxP4gSkDE0V/sW1S1YD+jCgFRJKoM6KK6d0U/P/77RNuwgOAbx+uM7YH7/kafMvUc7jDopG8mTJjgZl245XyFBYnzGIm5zFCx0lo4W2fKAr/zqFGj3LmeOuKUKaMPly1b5s5xBEWo1Vu6bJkQ5UGWBhE0fPHFFzZ69GgnehEg/hMbU6xEMxHCeFVpREpYIICL7w033OAuJuHEM8884wYI9BH1Pf/yl7/Yv//9b7cyEX3DRZZSSPfcc49LXAtHEGhMLSMusLyQtMZA4GAghJlCFSVw/NFv3333nTveEHQkEDETEyiMb7/9due3D3dY4IS62Ph06SNWpGMgwOAT+JvFFfD0hvuKkX44Z5GwNnLkSDdYwEbDIhOvv/66devWzQ3wSVxjMP/HP/4x7M73omqQpUEEDUQoWTABrxb+LS4aCBZOdvhRSSZC0CFemDYki5wal+EYVcLjhq2DFemIFAUmcvA35ZC48JbHexmq8NuxfLAvIdCo8kFt1IM1onBiLwiRsWPHugEpYoS/mVkh2oYA5hhlX0O0iJIBE2L2ggsucJ5dzmtUbGCggACmAs3RRx8tsRsAxyqzVYhcot4MnNif/PY2zvccw8xaUeZNiMogwSuCBmwJJAwRlXz88cftn//8p/397393Kzk9/PDDdvPNNzshx7QzFxVG/uGayEC0G58g3smywPqB17ksP3S4wOQVF0d8lPxNX3BhPViTcNsXqgwgcLESPfroo+7YwzNO8ig+S8Qdy+Ui6kRJgi37EaKWc9eLL77oblkynUVPmLVC/Eq47YX+olQbZdroJ/YpzmH+QTx+ZyxHDLgQvkJUBgleEXQQscVXSckepuOZsuciK/bClB6Clmn60hB5o95suGfN4/178MEHncjAQ8mMABUaDtZYHUvshSguFiOsROx3CDbECIMtkvxIMMJzic9SlJQlu++++1xEHCGHQGOm4V//+pe9/PLLzvpBdRlmrkQJ9BG2Nc5Z2LRK49/n6E+5MEVlkeAVQQMROPy77777rouIsKLaHXfc4Ur3kK172223uaYLhbnoEVFeqgswDUgUE68ldYnxQbPS0/HHHx+W5dr8EB0ikYoZAP6mcdEEBlVMkwY2bDOB24gSGFgxm0AfITwQvVRHIULJYwhfRDEVVkRJ9RQqpTBoZ5/imCQyedRRRznvPVFxbDZaaW0vHHMIXaLjnNdKwwIx9CEzfOyDQlQGndlF0EAW7ptvvukELxcDLgpkf3OyC2yM8sOdE044wS2zyUWAqCQLTbBSGMsyMzVIZQYicvuzPIQj9NVbb73lkh3LKtdGhJLoHElGYi9EyoGZA8QGlS1YFREfOQtSUGZLA4W9kFjFYACPLn3CAJ1BA4mQzFiRi8A2+J5FCQyoqEvM4IDzFwMoor6c77kucG5j1ooZBZW/E5VFZygRNDAFSKIaJzSmoU8++WQ75ZRTftbCPdmDKT2ELD43kjuI7rKiE6IDbyBJHyzByWN+sSLMDaAQvAjfsny6CDoqEbAfir1QA5Xom983zswBQoSZBAaoCBSWAC9rKjocIarLMYrdCGGL4EX40o/c4kdlNgsRLEpgxoUBOhYsBqQkQjJjQGkyjllELzMLZ555ZlgmKYuqQWXJRNBAgXGmoFmSk+ilKBsulggzTvwdOnRw/lQqECB2SezA76woyM/h4nnjjTe6JCKml9nXAkEIP/bYY3siwaIEom5M0yPU8NOzrz3yyCMuEo4oYZlvrEYMUlmdLdzBp0vFASK6DDpZ3ITFFPCG44Wm1iweX6K9JOKKknMaNhlmDSjnxiI6RMCRJ+xTzGidf/75WopZHBKK8IqggelSLqoq13NgiBJhY2BpZewdiFuiup06dXLr0SOAxc/xR9WYKi1rnM/jRH4VedsX9iumm0n64xjFR0nNZ8qTUe/5gw8+cLMxWjmsBGZdWACGhElKkyHcWEChVatWbv9C1FGRRhHxEjgWiYQzs8KAnWWX2bcoQcbsAVVC2N8YUAlxKEjwiqBhwIABTswxpaWJhwNDshBWBlahw8qAEGEqlf7jvvg5RHQZEPijR6VhIQ+moRF0Yi9EK6lNzIAA2McQbPjEaTzO6mEspSvMJatdccUVLkGNZatJwB02bJg7RkmgJNqL5UiLm5TA+QrBy0I5JOBiayCqi20LvzgBEH/yqRCHgpYWFkEDqznh1ZozZ46bViYhhuQ17s+ePXtP42QY7ivtIHTJBKdRyoeLKYMEopgIEH+TAN4L0TWm4BG89B+rOTFVT2UQHsOTykWVhQGo8SxKeOqpp9x0Mz7dwNkD9iv2NwYPDz30kLOJIFDCHfqIcxR1iVldjWivP/pNnzFYwNqA9UgirgTsWKyq1qZNGxcJJ9LLuYvzms5foqqQ4BVBA9OjCFoqM5Axzy0jfjLCAxsX3nCPwjEIYKlNBgkkW5GQxQCBTGY8lzSSZRDD4T448IP1A+HBIIpoJPsYjX6iH4mYk5DF4idccMMZBk/0B4IW+wwiDj8qAo3H/I0BBPsdvlUSShF3oiQKzv6GuGXmxQ+PE63kcYndvWAj4liktKJ/UMCAnUEqFS/8jfv0m0SwqAxKWhNBAxfN8tTYvfLKK90Ka+EMU6b42/wEXgD8hzSPjRgxwgkRUQIiDrFLYgzltIjyshQzUSWyxBlMqbKFOeGxatUqty/98Y9/dNFKVlfDSuOH55hhwO6Aj5fVEFnmWoiKQoR35MiRbgETBugk9HFMYm8IPLcxiKA6jZJyRWWQ4BVBAwlYCJKDwUkwMGoSjmD9KE8dT5bqxGcp9kLkiGiRP4LJBZWpUy6i7FeKHpWsFvarX/3K9QXil/6hKkjpvqH/OB4vueQSV10Ff6oQFYXKH1RioP4uUXCiuOxzELjPsZDOxIkTw3pBHVF5JHiFqIEwlVyeagJK9tg/CF9EL7eB+MVvOMP08qhRo1wUl1kCEoeoxBBYAxVhwn28qNSYxZdKtFyIioJHnOWXuT0Q7F+nnXaaavGKSiHBK6oNopSM7MlgRmBQimbFihW+Z/cPxceZYg13EGtUFcBDyUprRNvwvlGJAC8lvktFK/dC/zB1+v3337s+o++YVeDxQLDL/Pa3v/XdC08QHps3b3Z/I0SwebCcdWDSmj8Sx6AKIaJ9TVQWBu/kZ+CxL2tfQqZQyYHzHLXHNYgXlUGCV1QbrNJEktVf/vIXJ9TuvvtuJ4IPduH85z//6abqwxkivAsXLnQl3Ej0Q7hxKCNIKOdDLdD+/fu7bHFdHErgYkkN1DfeeMN5T7nAUq2BwRMWBwZfiDdqp7JYgCiBZZg5Jol8s9+ROFTWZYMosCJvojJgm6G0HbMI2GJKn7MY3DNIpVYvg9FAL7kQ5UWCV1QbLCNMWSjWlifCS73P8kR4SS4K9wjvzJkz7YUXXrDx48c7P5s/6kF/kmzEND0DA3xxKnBfAitcDR8+3FavXu1WbaIPGTTccMMNbtlcCtzTlxdeeKHbJ0UJDAaIhuOvpGoKVUFK20CA45KyUkJUFJaqZmEJahafe+65LgASCDMzWGz+9re/ueuGamWLyiDBK6oNprGYTvZPvXNhLT29XBZs709oCFfuvPNOF9kl0k32vL8PiYTMmjXLlZIiMsd2WqGoBJJdbr31VtfIAqcqCPYGlhMmKk4t3kmTJrnp+zvuuMP3KkFUnOgblRiwOhDFxc4QCPse/UkNYyEqCoKXcxmr05UleJmJYWVJnuc45XgVoqJI8ApRA7nsssuc1+2aa65xBf/9NhAOZ6brqWnMcpyPP/64qysrzD799FO78cYbnTCj/BgrYbF86b333uumUYn8MlDAu8o2ogSsRoheykT5E9dKC15g+VzNJoiKgHilYWl4/vnn3YCJpawDveIEQahIw/HJeY4kSu1nojJI8IpqgxMdiydUFJblDPcC9/QBJ30EXOlSUHhVv/vuO7vpppvsySef1PS8D/x/RHcfeeQR53HGQ075rYsvvtjOOecc5ydH8DJ9is9XlHD55Ze7GRXqX1MDNdxLAoqq4/3333eNmQPsWT179rRmzZrts48hchG9LKIzcOBAZ51RNRBRGbTSmqg2mD5mmgrfLo0lXilij1ijLBKrh3HLqmL4tr799lsXvWQ1rBYtWvjeJTyhjxC21EAlWYiIG75K/JUkdzCYwHdJCR8t91oC/cE+RvksKlkgbPGlstgJF1T6jH2O5WCJZIoSqNLAPoYNRJE1UZWQBMlgitJ2RHGxXyF6mU1A+LLfcY7jbwZbVPRRRRBRWSR4RbXBtBVJLpzkaIhYqg1wAmTFJlYI69u3r3ucxyhLQ0myAQMGuOoD4QRiFlHmn0rG04aHl9XC6Bv80EzFMzggakk76aST3OCAyIgo6UP/LRdULrIMEN577z3XX9VWxfgAABhGSURBVPQnyX94CJV8tRcGCRyXCA+S+ug/vOLsc4GNfbMsq4MQ+4OBJ95d7DCseshMyxlnnOHELcKXqikco0R88e0yWPXnKwhRUWRpENVG6aL/TDUzymfN/tNPP33PtBZCj+VgR48e7aJxf/7zn92UdDiBmGXaj0gHooLICJ7U1157zUV7AyGDmf679tpr3d8qS1YC+xoltcDvESSxj1kERB2DKKwy/ouqKIHqFe+8886emtlUSEH8lhYdeMkZRAhRURC7LGFNDWwEb7du3Vy1GZZQZ1aPAReDUM5pZ511liwNolJI8Iqg4aqrrnKFx6k6UJYvFVsDZWmokRpu2eBkyc+dO9dVXaAGJZUFELJEQYj2IogRdKxDTxQO0UZknG0UDdk/9BnVQbA30FdcSCV294WybZSEYoYFSwN9xKCr9H7FgHXQoEG+e0KUHwIdRHdZzppbylTiuSfplsc451FGEFvS//73P81aiUohwSuChl//+tcuckTlgdILS3BCJKmBjPEnnngi7CoP3Hfffa6iAL8dTy5VGph+v+WWW1zWPNN+HMr0H4IEm0O4QzQXm4I/qlteiPSSKS5KGDlypKu/ezAuuugi538WoqIwe0DN8L/+9a/OUsT5/sUXX3S3f/rTnywtLc0Nuqg9jv2I+0JUFAleETRgJ583b56b1iLZimglkSSm8knEInmGqS8WVAi32rJPP/20W5gDXzOiAgFMFPeSSy75Wc3KQMJ5mhm7wn/+8x93W16IWjKdyqBLCHFkYMEczm3M7mFZIJmUmrtYaFgkhggvgpfHSHZWHV5RGSR4RdCAF5X6p1RqIMLWtm1b5+PFw0WEiWl7Ipr4U8PthMf03iuvvOLKuDEQoJoA035kMR8omsuUINn14QjTn7/73e/cbUWg9BErPokSsHvgtz8YzCzILy4qA8coYpccBYIZ2LSeeuopZ19gto9BK4KXnIWPP/5YEV5RKSR4RdBApjfJaZQfw76wbt06d6HF19ujRw8X9SViSeZuuGWDMy2/du1amzx5spv+Y7oPPyXVLLAx7A+WyQ3XaWaSHf1Wj4qAaGMfEyVQOpDEvoNx3nnnuUGqEBUFfzgzeOQmkJicnJzsEpOxcDFDRRCEpGUS2agtLg+vqAwSvCKoIBs3MzPTebewMrB7kkREVJNRfTiKXT+IXiId9BGRW5LTyGjGw7s/uFgc6PlwgosllS32B3YGouVYROhbSiVx4Q33hRZIlCRhNBAGE6yORfSX/mGmAX99uFmNRNXA/oRdjWXRGdhzzsfa1rVrVzcAZYYPWxvHJ17fAw3yhdgfEryi2ihdlqy8cAIMV9HrZ+rUqU78U0Yr3AVZeWF5XKwKWGPY95iCp3GxZSDBqRCvIIKX/YvkQKKWeHoP5JMOdZhtwUITCH1GaTyECLWgqRbCqn/0lRCVhcE80V4GnykpKXsqgfgHV9i4GISG+/lfVA4JXlFtsEgCWfQVhRE+BcuFqAgI3vvvv98lRvrLtnFRZdCFTQTxRuQIfzinRaZWWXb4ggsukJArAyxI9NG7777rBDBLEHfu3Nn3rBBCBBcSvKLaePjhh11N3dL1PPcHuyrbkrxFRq8QFWHx4sX2xhtvOHH729/+1vnBmTplvyJ69PzzzzvfOI+zSh3imAUpEL2/+c1vfO8iAsEjTYT35ptvDsv62EKImoMEr6g28GTRKgo+QWXpiooyceJEV+eTkm4sWc3UqH+wxWmQCC/JgGSIkx2On/Df//63m1G49dZb3XZiX+grqqsgeEkwOvXUU33PCCFEcCHBK6oNktJoFQWfpcofiYpCwtr111/vMsEHDBjgqn8EsmDBAifaEHGUPyLJ7aabbnJlym6//XbfVuEHlUGokxoIlw2OXaqqIHjxRDM4YFlwIYQIRuT8FtUG3kkibAgPVrfibyoRHKzhFxSiovirL1DHk6oDZIOTrMay1cw0fPLJJ87u0KRJE7ePkdyG5SHcq1x89dVX9uabb+7T3n77bVcXleVeSZ689NJLnSdaCCGCFUV4RbWB6EBgUF+X7NsxY8bYihUr3HP72y0RxWeffba1adPG94gQ5YNasoi1CRMmuOoWLM3MYIvoJN5dxBtWGVZ6YmqeetAs9IH9gcfCFRYAKJ1cynFIgh/lyDp27Og8z5QO1JLWQohgRYJXVBvDhw93CS/4JcmWv+qqq9yKYnAgwctqbEqOERWFGQVWdCI5DXsDpbYQu+xTRHKxLvzyl7904g3hxnQ9zyPqaKIEfylB+k3loYQQNQUJXlFtEN2l5mLr1q3dhROBwRTzwSC6S8KREBUFqwL7HNUFsCywyAnillJkRHuxPSB+EXOIXWDflLArwT9o4BYvPU0IIWoCEryi2kBQIEAQGIA/1x89OhBsr6lTcSiw37G/UUvWPz3PPsXfYl+4RFAz+/PPP3c2DxYBoP/wNjNYPfnkk23YsGFuEQ8hhAhWJHhF0KAIrxDBBwt2fPTRRzZt2jQXAa9fv74bHCB8iZCz0h9WECwhsn4IIYIVCV4RNLz00ktu5aZA2D2JJnHrn1pm0QDWWRdCHH5YIIbILhUuWHWuVatWriwglpApU6Y4MYwd5LbbbrPevXv7XiWEEMGFBK8IGm644QZXAikQLA7+9dXz8vJc+TKSjkgsEkIcflgyGPvCNddcY3369PE9WkJ6erpLNL377rtdfeOhQ4f6nhFCiOBCmRgiaGAFrC+//HKfRlmozz77zB544AHr37+//eMf/9B6/UIcQRhsIngbNmzoe2QvPN60aVO3jT/JTwghghEJXhE0UMcTf2DpxhTqoEGD3HQq4pcFA4QQRwaELvYFPLylIcLLrAzbKGlNCBHMSPCKoAe/YL169axly5Y2d+5clygjhDgysAwz3nkW7XjyySftvffesw8//NBGjBjh7EWTJk1ydbEp7SaEEMGKPLwiaGCJV/y6pWGqlLX8WbP/xRdftEcffdSVQhJCHH5Wr15to0ePtvHjx7tSbsy6+Ks05ObmutXprrvuOpdIqrq8QohgRYJXBA3U+eTiWhr8gUuXLrUffvjB1f28/fbblQ0uxBEkOzvbVVD55JNPbNWqVW4QSgJpjx49XHSXGRh/LWMhhAhGJHhF0EAtT5Z8DcS/KAAlkRC51157rXXq1MkSExN9WwghDjcs0MEKa4sXL7atW7c6wYvNgRq8MTEx7jilgoPq8AohghUJXhE0TJ8+3SXHALulf9fkokpCDLU+SWAjM1xLvQpxZGB2ZezYsTZhwgQndrE1lL5sIHiHDx9uxx9/vO8RIYQILiR4RVCxfv16mzdvnps+JTmNRScQu5Q+YvqUkmQksQkhjgzPPvusTZw40UV1mV1hwFnWEswXX3yxtW/f3ndPCCGCCwleETSsWbPGZXxTfxcvrz+SRIQ3JSXFXWwpTSZLgxBHDlY2xMOLoGVhCY49zbAIIWoaErwiaKACw8iRI12S2jnnnLMnmrthwwb7/vvvnRCmOsP1119vXbt29b1KCHE4ueyyy6xJkybuuGvRooXvUSGEqFlE3uXh+1uIauWJJ55wCTB/+MMf7MILL7R27dq52ruUO/KXPKL+Jz7BNm3a+F4lhDicLF++3FmLkpOTXZUUIYSoiSjCK4IGqjSwYtONN97oxG4g+HknT57sokwI41NPPdX3jBDicLJkyRL74osvbOHChW6gSbSXmZfSPt5jjjnGVVMRQohgREYsETRQgYE6nuvWrfM9specnBzn6yUphiWIhRBHBqK71N5F9L799tv21ltv/azxOAmnQggRrEjwimqDdfhZKtjfKF6fkZFhY8aMcclrlCmbOXOmW3Dis88+cxdcRLFWcxLiyMEKh0R3/ZYGjlP+DmwMQkkuFUKIYEWWBlFtjBs3zjU/RJIQvngGWa6UagxMnbKs8IoVK1wyG0lrt9xyiytRJoQ4/JC0xhLC3J511lmq0CCEqJHozCWqDYrYL1q0aE/DK4ilgSgSUdxNmzbZ2rVrXXkyvIE8jt0B4SuEODIUFha6mRVWOpTYFULUVBThFdUGYrYsv+7B6NChg1t1TQhx+HnwwQctKyvLTjrpJBsyZIjvUSGEqFlI8AohhNgvzz//vH399dcWHR3tSgLWrVu3zNUO+/Tp46qsCCFEMCLBK4QQYr88+uijNmrUKGcxoiRZ48aNnfgtXZbsj3/8o/Xs2dN3TwghggsZsoQQQuyXvLw8F7nt3r27q9CAp56lhnfs2LGncb+goMD3CiGECD4U4RVCCLFfELO7d+/23ds/iYmJZVodhBAiGJDgFUIIIYQQIY0sDUIIIYQQIqSR4BVCCCGEECGNLA1CCHEQ8LCSnMXpkkVRqFJA8tb27dvdkroJCQlB41/lu+K7ZcEISogdaLEIvv+uXbvc0sAxMTE/q7xwIEhmYxGY8nxOeaF/+f4sSkM/x8XFucVohBDiUFGEVwghDgIrAd55551266232vz5891js2bNsuuuu84tzMBy2MHC0qVL7a677rIbb7zRcnJynIjcH88995xdfvnl9sMPPzgBXxGmT59u999/v+uDbdu2+R49NBDfLC8+dOhQe/vtt53wFUKIqkCCVwgRtCDYEGW/+c1v7Mwzz7SzzjrLzjvvPPvtb39r//vf/2z27NlWVFTk2/rwQcktVhuj+SsWsNzu73//ezv//PPd0tflhXq27777rl122WVutUEipFWJ/7tmZmY6sXsgwUv/ZmRkuGjtgbYrC3+EG7FbVf8G/gjv5s2bXfT4SPzbCiHCAwleIUTQgvghorpgwQI3Zd65c2dr06aNE0affPKJffjhh3sirmWBmKyokCsvTOMfd9xx1qNHDzf9Xl5yc3Nt2bJl9sUXXzjrgUSdEEIcfiLvYu5LCCGCEKa4J02a5ETh2WefbVdffbX17dvXrfj17bff2ooVKywlJcWJTkTxqlWr3DT4hg0bnOWA6f3k5GTnT92yZYubLqctXrzY1q1b58Qn9WPx4fr9q0QtFy5c6F6/ZMkSF23k/RDWRDVZXrdp06Yugsp74e3Fw8tn+COUCNp58+a51/AefBa/gc/gsc8//9x9X6LE69evd1FfvxeW9+Dz+A68P3YKIsG8L95hPscP34H357uy3caNG91jM2fOdL/toosuKnNVND9fffWVe/2JJ57ovgv9wO/lvfj+fEf6mCgw3x+vr/+9Vq5c6b4f/Xrsscc6Wwev4XH6hH4P7Fd+H7+V3892/Btwn4h0bGys80DzG9PT052dgX7u2rWr+/cRQohDRYJXCBG0+AUvU+8sW4vYRXQR5UXMIsYQgP3797fhw4fbRx995ETYjBkz7OWXX3aCrk+fPk5QffPNN/bMM8/YG2+84aLDkydPdmIN8YrQJDmKz8Mm8cQTT9gLL7zgtkN4IgIRwog2v+BFVOLrReB16NDBrUaGIF69erWNGDHCXn31VRs5cqR7D/yuCE/E27hx49xziMIpU6bYp59+6j4jPj7eevfu7aK+H3/8sdvm9ddfd7+J70of8D35HL4r3+XHH3+0V155xZ599ln3Gn67X3BDZQQvfl6+P/1EBP3LL790wpfPa9++/Z7343fPmTPH/V6+DyKV1xC5ZuDRsWNHJ3oRsrwW0Tx69Gj3fd966y0bO3asTZs2zfUr/ZmamupEtQSvEOJwIEuDEKJGgpBCeCGm/BA1JHqYlpZmTz75pD366KPOBoEYRMA2btzYHn74Yff3BRdc4MTe3//+dxcVRmwhdt955x0nJEnGwic8bNgwW7NmjX3//ffO63ogiIzee++9TqQOHDjQff6LL75oN910kzVo0MAtzXvuuefalVde6cQr3wPh99RTTzlvMlFZ/L0ffPCB+w0PPPCAE754lhGeCErELL8ZEY6A5zPxA/M5v/zlL524RkhXFvqVZYTvuecee/PNN90tYvT99993Apjv6Ie/GXQwKDnnnHPsscces1/96lcu4szfDEoAEcvv5PciYh966CH33RHkvC8DA/7thBDicCHBK4SoURBFRdQSYUWkEpn0gwA+5phjnPAjIkxDrBJBrV+/vhOxTL8TSUVgDhkyxAlGIpVEXLllW5LjTjvtNPde/H366acftOwWr2e6HmGMkOP9iTzzWYMGDXINEYt45LsQTeW7EzVt2bKli4aSbEb0E1F44YUXOo8wv+GMM86wAQMGuGgo0V6EN7YIEsbYht971FFHOXGO0CZiWlkQu4hXfnu3bt3c+/G+zZs3d8I2UPQjvInuXnHFFa4v6Vv6jUS+7777zolzouZEgRHLbEPyIf1y9NFHu2oMPMbAgyiyEEIcLiR4hRBBDx5YBNPdd9/tIo7YF5gi79evnxOCfoigIiCxGJBIRmN6HX8p0Ubewx/5fe2111wkF88rzyMe8ZRiKeA9mzVr5vzBCL0uXbq4+4jU/cH38ftXEXGdOnVy4pbvgMAluoy1AoHofx+/J5dbxCORUCKdRJqJShP55bu+9NJLzq6AgCSiiuhnG7zDWAcQznwOn9GrVy/3nSsLnloEKpFmPh+7xIQJE9xn04c874ffQaQaoevvL+wmiHv6k383brGOEHVmMOH/N3j88cedZQOxy0AB/7EQQhwuJHiFEEEPIhRhRHSTKXvEJR5P7AFEQP0gMPH4BkZjsSsQGeU1CFx/4714jAgpQo1oMaWwSBqjzBjCFIgaswAC0dkDRXnx2PI5iEDEH6+pCIhYhCERVIQigjbw+yKIeV9ELd+V747I5fcGgrgu/Vh5oZ/5LDy0eItJDMTT6xekRKD5bD/YH4hM8z38Ih5Rz3ekr+gPGu/L9yX57qefftrzm/Ba098IdrzJQghxuJDgFUIEPQgifK9EBvGq4rP917/+5SKxiC4/REpLR2ERaAjAk046yUUVSUjzNyKYPMY0PB5bv6Al8SuwnBnvwWMHgs9G7PE6xGugMNwfgZ/B334/MpYIFnUI/K5PP/20W+SC5xDh/E6297/GDxHY0o+VFyLUY8aMcbYM7AZ33HGHi6bfcsstLoobGN0FvjOP8Vv9v8X/+4FBg/93IYrxGt933337/C7+DfD7YpsQQojDhQSvECLoQUxiVyDCiTD1J6yVB17D9lgXeA/8rUz5+xv3EWNUAyDSy/vi6/WLO8QcUUoizAcSvUztExn22w2IhpYFItAfPQ4UilRpwMtLZJjXIr4DvyeNcmx8R17PfSLCJK8FgmjFGlEZsEv4K2IgTrlt3bq1+zysCaUhGk1JNb6DX+TSV1gXELlExYn20u98b74X/Vz6d/n/DYQQ4nAhwSuECHoQoQhAv1gsr9gFPK34aUleI1rJlDpeXby9TNnjI+U+YpaKDggwIsg8h8jFv0o5LYScX5yWBYINPy2fh+eWqgQIP/ywVC0giYtpfXy3iD8+z/9dmPJH/GJHIEGNx9977z1n30BQ8l2//vprl6hGYh2RZCKw9APVG6gK4f8948ePd9+7MmBP4D2xHvCd+WyivZQaw9ZQFthAiD6zHf5jSp1RTYKENyLz/N4WLVq438V3oy9JOKTWMAKb30WpNlVpEEIcTlSHVwgRtPjr8JIIRuIYIqosDrQdkVOm/4lAIkARViRQTZ061Yk4IpdUUsD2wLaIWqpAkKRFpJZELYQqjxOdHDx4sItIIqD5TKKX1AcmuksCGsKX1/iFLrVm+RyEJMIPsUsUlffHq8s2CD/en4QvRK/f78r34LvSeA+izkRMEeWIU/zJbIcIJqmNSgcIaaLZfI+K1uFFSPOefB/6ie/G84h93pfvzTLP9AORZL4f0V0i0whu/L6IdAQ8n02lB34v34EIOBFevMB8X/+/Ad+Z306f8tvZRnV4hRBVjQSvECJoYVocAUQyGuIHYVUWB9qOyDBiFGsDwhjBhahjOh6Ri0BmpTbELuIMAUsUmQgkAprX8jyVHxCblP9iG8QfwrJdu3ZOYCNAiWZiAcBCgS0BMYj4Q0hS7gtRyWcijBFyRFD53kR3eW++O2KW34HA5LuyDWKdx4hUE4Xme/IeJHohZnkPRDLb+MuSYX9ANB7I/sFv5HnKhPlLptEPbI8YR+jyGUSt+Vx+H5FlbBf0Dd+R740/mu/A+/F6qjRQmozX0v/+RDYaEWF+E/8GvJ7PpG+orkGf+JP28GczAKho8p8QQpRFhDey3v8cnRBCCCGEEDUceXiFEEIIIURII8ErhBBCCCFCGgleIYQQQggR0kjwCiGEEEKIkEaCVwghhBBChDQSvEIIIYQQIqSR4BVCCCGEECGNBK8QQgghhAhpJHiFEEIIIURII8ErhBBCCCFCGgleIYQQQggRwpj9P/fyiYI+tjCxAAAAAElFTkSuQmCC)"
      ]
    },
    {
      "cell_type": "code",
      "execution_count": null,
      "metadata": {},
      "outputs": [],
      "source": [
        "from sklearn.metrics import confusion_matrix, ConfusionMatrixDisplay\n",
        "import matplotlib.pyplot as plt\n",
        "\n",
        "# Compute confusion matrix from predictions and true labels\n",
        "cm = confusion_matrix(..., ...)\n",
        "\n",
        "# Plot the confusion matrix\n",
        "plot_conf_matrix = ConfusionMatrixDisplay(confusion_matrix=..., display_labels=...)\n",
        "plot_conf_matrix.plot(xticks_rotation = \"vertical\")\n",
        "plt.title('Confusion Matrix for Zero shot learning via CLIP')\n",
        "plt.show()"
      ]
    },
    {
      "cell_type": "markdown",
      "metadata": {},
      "source": [
        "### Comment on the questions below:\n",
        "- Does CLIP perform worse or better than a pre-trained ResNet50?\n",
        "- Can fine-tuning the model make it even better?\n",
        "- What are the advantages of CLIP?"
      ]
    },
    {
      "cell_type": "markdown",
      "metadata": {},
      "source": [
        "## Automatic Image labeling (Tagging, Detection and Segmentation)\n",
        "\n",
        "In the second part of this assignment, we will be using various pre-trained models to automatically annotate images (create tags, bounding boxes and segmentation masks). \n",
        "For this purpose, we will be using three different models:\n",
        "\n",
        "1. RAM - Recognize Anything Model (Image caption generation)\n",
        "2. GroundingDINO model (Zero-shot detection)\n",
        "3. SAM - Segment Anything Model (Segmentation)\n",
        "\n",
        "For this exercise, we will run the pipeline for only a handful of images taken from University of Oxford VGG group."
      ]
    },
    {
      "cell_type": "markdown",
      "metadata": {},
      "source": [
        "### Download the Dataset "
      ]
    },
    {
      "cell_type": "code",
      "execution_count": null,
      "metadata": {},
      "outputs": [],
      "source": [
        "!wget https://www.robots.ox.ac.uk/~vgg/data/iseg/data/images.tgz\n",
        "!tar -xvf images.tgz"
      ]
    },
    {
      "cell_type": "code",
      "execution_count": null,
      "metadata": {},
      "outputs": [],
      "source": [
        "# We will only be using the following images; you might change this if you want\n",
        "images_path = [\"images/sheep_2007_003593.jpg\", \"images/208001.jpg\", \"images/106024.jpg\", \"images/aero_2007_001884.jpg\", \"images/bike_2007_005878.jpg\", \"images/cat_2007_007530.jpg\"]"
      ]
    },
    {
      "cell_type": "markdown",
      "metadata": {},
      "source": [
        "### Install the Necessary Libraries and Download the Weights of the three Models"
      ]
    },
    {
      "cell_type": "code",
      "execution_count": null,
      "metadata": {},
      "outputs": [],
      "source": [
        "# Install the packages\n",
        "!pip install groundingdino-py\n",
        "!pip install git+https://github.com/facebookresearch/segment-anything.git\n",
        "!pip install git+https://github.com/xinyu1205/recognize-anything.git\n",
        "\n",
        "# Download weights of each model\n",
        "!wget https://github.com/IDEA-Research/GroundingDINO/releases/download/v0.1.0-alpha2/groundingdino_swinb_cogcoor.pth\n",
        "!wget https://dl.fbaipublicfiles.com/segment_anything/sam_vit_h_4b8939.pth\n",
        "!wget https://huggingface.co/spaces/xinyu1205/recognize-anything/resolve/main/ram_swin_large_14m.pth\n",
        "\n",
        "# Download the configuration file\n",
        "!wget https://raw.githubusercontent.com/IDEA-Research/GroundingDINO/main/groundingdino/config/GroundingDINO_SwinB_cfg.py"
      ]
    },
    {
      "cell_type": "code",
      "execution_count": null,
      "metadata": {},
      "outputs": [],
      "source": [
        "# Import the libraries\n",
        "from groundingdino.models import build_model\n",
        "import groundingdino.datasets.transforms as T\n",
        "from groundingdino.util.inference import annotate, load_image, predict\n",
        "from huggingface_hub import hf_hub_download\n",
        "from groundingdino.util.slconfig import SLConfig\n",
        "from groundingdino.util.utils import clean_state_dict, get_phrases_from_posmap\n",
        "from segment_anything import build_sam, SamPredictor\n",
        "import torch\n",
        "from ram import get_transform, inference_ram\n",
        "from ram.models import  ram\n",
        "from PIL import Image\n",
        "import numpy as np\n",
        "from itertools import chain\n",
        "import torchvision\n",
        "import cv2"
      ]
    },
    {
      "cell_type": "markdown",
      "metadata": {},
      "source": [
        "### Task 7: Initialize the three models\n",
        "\n",
        "Run the cells below to initialize the three models. No particular code needs to be added from your side."
      ]
    },
    {
      "cell_type": "code",
      "execution_count": null,
      "metadata": {},
      "outputs": [],
      "source": [
        "# Set your device here\n",
        "device = ...\n",
        "\n",
        "# Initialize your caption model here (RAM - Recognize Anything Model)\n",
        "model_caption = ram(pretrained=\"ram_swin_large_14m.pth\",\n",
        "                    image_size=384,\n",
        "                    vit=\"swin_l\")\n",
        "\n",
        "# Put the model in eval mode and move it to device\n",
        "model_caption.eval().to(device)"
      ]
    },
    {
      "cell_type": "code",
      "execution_count": null,
      "metadata": {},
      "outputs": [],
      "source": [
        "# Initialize the GroundingDINO model here\n",
        "args = SLConfig.fromfile(\"GroundingDINO_SwinB_cfg.py\")\n",
        "args.device = device\n",
        "\n",
        "# Build the DINO model\n",
        "model_dino = build_model(args)\n",
        "\n",
        "# Load the weights of the model\n",
        "checkpoint = torch.load(\"groundingdino_swinb_cogcoor.pth\", map_location=\"cpu\")\n",
        "load_res = model_dino.load_state_dict(clean_state_dict(checkpoint[\"model\"]), strict=False)\n",
        "_ = model_dino.eval().to(device)"
      ]
    },
    {
      "cell_type": "code",
      "execution_count": null,
      "metadata": {},
      "outputs": [],
      "source": [
        "# Initialize SAM\n",
        "sam_checkpoint = 'sam_vit_h_4b8939.pth'\n",
        "sam = build_sam(checkpoint=sam_checkpoint)\n",
        "sam.to(device=device)\n",
        "sam_predictor = SamPredictor(sam)"
      ]
    },
    {
      "cell_type": "code",
      "execution_count": null,
      "metadata": {},
      "outputs": [],
      "source": [
        "# Helper functions\n",
        "def load_image(image_path):\n",
        "    # load image\n",
        "    image_pil = Image.open(image_path).convert(\"RGB\")\n",
        "    transform = T.Compose(\n",
        "        [\n",
        "            T.RandomResize([800], max_size=1333),\n",
        "            T.ToTensor(),\n",
        "            T.Normalize([0.485, 0.456, 0.406], [0.229, 0.224, 0.225]),\n",
        "        ]\n",
        "    )\n",
        "    image, _ = transform(image_pil, None)  # 3, h, w\n",
        "    return image_pil, image\n",
        "\n",
        "# Visualization\n",
        "def show_mask(mask, ax, random_color=False):\n",
        "    if random_color:\n",
        "        color = np.concatenate([np.random.random(3), np.array([0.6])], axis=0)\n",
        "    else:\n",
        "        color = np.array([30/255, 144/255, 255/255, 0.6])\n",
        "    h, w = mask.shape[-2:]\n",
        "    mask_image = mask.reshape(h, w, 1) * color.reshape(1, 1, -1)\n",
        "    ax.imshow(mask_image)\n",
        "\n",
        "\n",
        "def show_box(box, ax, label):\n",
        "    x0, y0 = box[0], box[1]\n",
        "    w, h = box[2] - box[0], box[3] - box[1]\n",
        "    ax.add_patch(plt.Rectangle((x0, y0), w, h, edgecolor='green', facecolor=(0,0,0,0), lw=2))\n",
        "    ax.text(x0, y0, label)\n",
        "\n",
        "\n",
        "# GroundingDINO bbox cleaning\n",
        "def get_grounding_output(model, image, caption, box_threshold, text_threshold,device=\"cpu\"):\n",
        "    caption = caption.lower()\n",
        "    caption = caption.strip()\n",
        "    if not caption.endswith(\".\"):\n",
        "        caption = caption + \".\"\n",
        "    model = model.to(device)\n",
        "    image = image.to(device)\n",
        "    with torch.no_grad():\n",
        "        outputs = model(image[None], captions=[caption])\n",
        "    logits = outputs[\"pred_logits\"].cpu().sigmoid()[0]  # (nq, 256)\n",
        "    boxes = outputs[\"pred_boxes\"].cpu()[0]  # (nq, 4)\n",
        "    logits.shape[0]\n",
        "\n",
        "    # filter output\n",
        "    logits_filt = logits.clone()\n",
        "    boxes_filt = boxes.clone()\n",
        "    filt_mask = logits_filt.max(dim=1)[0] > box_threshold\n",
        "    logits_filt = logits_filt[filt_mask]  # num_filt, 256\n",
        "    boxes_filt = boxes_filt[filt_mask]  # num_filt, 4\n",
        "    logits_filt.shape[0]\n",
        "\n",
        "    # get phrase\n",
        "    tokenlizer = model.tokenizer\n",
        "    tokenized = tokenlizer(caption)\n",
        "    # build pred\n",
        "    pred_phrases = []\n",
        "    scores = []\n",
        "    for logit, box in zip(logits_filt, boxes_filt):\n",
        "        pred_phrase = get_phrases_from_posmap(logit > text_threshold, tokenized, tokenlizer)\n",
        "        pred_phrases.append(pred_phrase + f\"({str(logit.max().item())[:4]})\")\n",
        "        scores.append(logit.max().item())\n",
        "\n",
        "    return boxes_filt, torch.Tensor(scores), pred_phrases"
      ]
    },
    {
      "cell_type": "markdown",
      "metadata": {},
      "source": [
        "### Task 8: Run the pipeline to create the labels, bbox and segmented masks"
      ]
    },
    {
      "cell_type": "code",
      "execution_count": null,
      "metadata": {},
      "outputs": [],
      "source": [
        "# BBOX configuration\n",
        "bbox_threshold = 0.3\n",
        "text_threshold = 0.25\n",
        "iou_threshold = 0.4\n",
        "\n",
        "#Loop through the images_path\n",
        "for image_path in images_path:\n",
        "    # Step 1: Get the pil image and the image tensor using the \"load_image\" function defined above\n",
        "    image_pil, image = ...\n",
        "\n",
        "    # Step 2: Get Tags using the RAM model\n",
        "    transform = get_transform(image_size=384) # RAM model transforms\n",
        "\n",
        "    # It takes image_pil as input. You need to add a dummy dimension at the first index for the batch dimension and move the image to device\n",
        "    raw_image  = transform(...)\n",
        "\n",
        "    # This gives the tags (English at index 0 and Chinese at index 1)\n",
        "    res = inference_ram(raw_image, model_caption)\n",
        "\n",
        "    # Access the english tags and replace \"|\" with \",\"\n",
        "    tags = ...\n",
        "\n",
        "    # Step 3: Run GroundingDINO model\n",
        "\n",
        "    # Get GroundingDINO outputs\n",
        "    boxes_filt, scores, pred_phrases = get_grounding_output(\n",
        "        model_dino, image, tags, bbox_threshold, text_threshold, device=device\n",
        "    )\n",
        "\n",
        "    # adapt the returned bounding boxes to the image shape\n",
        "    size = image_pil.size\n",
        "    H, W = size[1], size[0]\n",
        "    for i in range(boxes_filt.size(0)):\n",
        "        boxes_filt[i] = boxes_filt[i] * torch.Tensor([W, H, W, H])\n",
        "        boxes_filt[i][:2] -= boxes_filt[i][2:] / 2\n",
        "        boxes_filt[i][2:] += boxes_filt[i][:2]\n",
        "    boxes_filt = boxes_filt.cpu()\n",
        "\n",
        "    # use NMS to handle overlapping boxes\n",
        "    print(f\"Before NMS: {boxes_filt.shape[0]} boxes\")\n",
        "    nms_idx = torchvision.ops.nms(boxes_filt, scores, iou_threshold).numpy().tolist()\n",
        "    boxes_filt = boxes_filt[nms_idx]\n",
        "    pred_phrases = [pred_phrases[idx] for idx in nms_idx]\n",
        "    print(f\"After NMS: {boxes_filt.shape[0]} boxes\")\n",
        "\n",
        "    # SAM only works with numpy arrays, not with PIL\n",
        "    image_sam = np.array(image_pil)\n",
        "    sam_predictor.set_image(image_sam)\n",
        "\n",
        "    # Apply the detected bounding boxes\n",
        "    transformed_boxes = sam_predictor.transform.apply_boxes_torch(boxes_filt, image_sam.shape[:2]).to(device)\n",
        "\n",
        "    # extract the segmentation masks from the SAM model\n",
        "    masks, _, _ = sam_predictor.predict_torch(\n",
        "        point_coords = None,\n",
        "        point_labels = None,\n",
        "        boxes = transformed_boxes,\n",
        "        multimask_output = False,\n",
        "    )\n",
        "\n",
        "    # draw output image\n",
        "    plt.figure(figsize=(10, 10))\n",
        "    plt.imshow(image_sam)\n",
        "\n",
        "    for mask in masks:\n",
        "        show_mask(mask.cpu().numpy(), plt.gca(), random_color=True)\n",
        "\n",
        "    for box, label in zip(boxes_filt, pred_phrases):\n",
        "        show_box(box.numpy(), plt.gca(), label)"
      ]
    }
  ],
  "metadata": {
    "colab": {
      "provenance": []
    },
    "kernelspec": {
      "display_name": "DL",
      "language": "python",
      "name": "python3"
    },
    "language_info": {
      "codemirror_mode": {
        "name": "ipython",
        "version": 3
      },
      "file_extension": ".py",
      "mimetype": "text/x-python",
      "name": "python",
      "nbconvert_exporter": "python",
      "pygments_lexer": "ipython3",
      "version": "3.8.13"
    },
    "orig_nbformat": 4
  },
  "nbformat": 4,
  "nbformat_minor": 0
}
