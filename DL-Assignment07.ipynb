{
  "cells": [
    {
      "cell_type": "markdown",
      "metadata": {
        "id": "tMQ3sIrjBfFn"
      },
      "source": [
        "# Assignment 7: Transfer Learning\n",
        "\n",
        "\n",
        "The goal of this exercise is to learn how to use pre-trained networks in transfer learning tasks.\n",
        "We will make use of networks trained on ImageNet, and apply them to related problems, i.e., the classification of $6$ categories such as buildings, forests, glaciers, mountains, seas, and streets."
      ]
    },
    {
      "cell_type": "markdown",
      "metadata": {
        "id": "ptLNDqZIBfFn"
      },
      "source": [
        "## Dataset\n",
        "\n",
        "For this exercise we use the  [Intel Image Classification](https://www.kaggle.com/datasets/puneet6060/intel-image-classification) dataset that can be downloaded from the official website [here]({https://www.kaggle.com/datasets/puneet6060/intel-image-classification}).\n",
        "The dataset contains $25000$ color images of pixels size $150\\times 150$ in $6$ classes: buildings, forests, glaciers, mountains, seas, and streets. We will be using only $17000$ of those images where $14000$ are for training and $3000$ for test."
      ]
    },
    {
      "cell_type": "markdown",
      "metadata": {
        "id": "CDa43kHOBfFn"
      },
      "source": [
        "### Test 0: Download and check if dataset is downloaded correctly"
      ]
    },
    {
      "cell_type": "markdown",
      "metadata": {
        "id": "ZDGlgSCYBfFn"
      },
      "source": [
        "#### Download the dataset by running the code below"
      ]
    },
    {
      "cell_type": "code",
      "execution_count": 1,
      "metadata": {
        "id": "_4INPBEEBfFo"
      },
      "outputs": [],
      "source": [
        "#Library for downloading datasets from Kaggle\n",
        "! pip install opendatasets --upgrade --quiet"
      ]
    },
    {
      "cell_type": "code",
      "execution_count": 2,
      "metadata": {
        "colab": {
          "base_uri": "https://localhost:8080/"
        },
        "id": "D_b5VILhBfFo",
        "outputId": "48881468-3808-412e-8c4b-d3d992c3caf1"
      },
      "outputs": [
        {
          "output_type": "stream",
          "name": "stdout",
          "text": [
            "Skipping, found downloaded files in \"./intel-image-classification\" (use force=True to force download)\n"
          ]
        }
      ],
      "source": [
        "import json\n",
        "\n",
        "# # Write kaggle.json file\n",
        "with open(\"kaggle.json\", \"w\") as file:\n",
        "    json.dump({\"username\": \"\", \"key\": \"\"}, file)\n",
        "\n",
        "import opendatasets\n",
        "\n",
        "opendatasets.download(\"https://www.kaggle.com/puneet6060/intel-image-classification\")"
      ]
    },
    {
      "cell_type": "markdown",
      "metadata": {
        "id": "pRjX5Xx_BfFo"
      },
      "source": [
        "After running the cell above, just verify that the dataset has been downloaded correctly by running the cell below."
      ]
    },
    {
      "cell_type": "code",
      "execution_count": 3,
      "metadata": {
        "colab": {
          "base_uri": "https://localhost:8080/"
        },
        "id": "pVHJ-S7bBfFo",
        "outputId": "b26251a5-360d-4db9-daed-45ef22a9cde5"
      },
      "outputs": [
        {
          "output_type": "stream",
          "name": "stdout",
          "text": [
            "Dataset is validated successfully. Test Passed\n"
          ]
        }
      ],
      "source": [
        "import os\n",
        "\n",
        "\n",
        "def count_images(directory):\n",
        "    \"\"\"Count the number of image files in the given directory and its subdirectories.\"\"\"\n",
        "    count = 0\n",
        "    for root, dirs, files in os.walk(directory):\n",
        "        count += sum(1 for file in files if file.endswith((\".jpg\", \".jpeg\", \".png\")))\n",
        "    return count\n",
        "\n",
        "\n",
        "def validate_dataset(base_path):\n",
        "    \"\"\"Validate the structure and the count of images in the dataset.\"\"\"\n",
        "    expected_structure = {\"seg_train\": 14034, \"seg_test\": 3000}\n",
        "\n",
        "    errors = []\n",
        "\n",
        "    # Check if base directory exists\n",
        "    if not os.path.exists(base_path):\n",
        "        errors.append(f\"Base directory {base_path} does not exist.\")\n",
        "        return errors\n",
        "\n",
        "    # Check each subdirectory and count images\n",
        "    for folder, expected_count in expected_structure.items():\n",
        "        folder_path = os.path.join(base_path, folder)\n",
        "        if not os.path.exists(folder_path):\n",
        "            errors.append(f\"Expected folder {folder_path} does not exist.\")\n",
        "        else:\n",
        "            image_count = count_images(folder_path)\n",
        "            if image_count != expected_count:\n",
        "                errors.append(\n",
        "                    f\"Folder {folder} has {image_count} images, expected {expected_count}.\"\n",
        "                )\n",
        "\n",
        "    return errors\n",
        "\n",
        "\n",
        "# Specify the path to the base of the dataset\n",
        "base_dataset_path = \"intel-image-classification/\"  # Change if you downloaded manually to some other path\n",
        "\n",
        "# Perform the validation\n",
        "validation_errors = validate_dataset(base_dataset_path)\n",
        "\n",
        "if not validation_errors:\n",
        "    print(\"Dataset is validated successfully. Test Passed\")\n",
        "else:\n",
        "    print(\"Errors found in dataset validation:\")\n",
        "    for error in validation_errors:\n",
        "        print(error)"
      ]
    },
    {
      "cell_type": "markdown",
      "metadata": {
        "id": "Lg7-0NDNBfFp"
      },
      "source": [
        "### Task 1: Data Transformation\n",
        "\n",
        "We need to instantiate a proper `torchvision.transform` instance to create the same input structure as used for training our network.\n",
        "We need to combine 4 transforms. The different transforms in Pytorch are available here: https://pytorch.org/vision/0.9/transforms.html.\n",
        "\n",
        "1. We need to resize the image such that the shorter side has size 256.\n",
        "2. We need to take the center crop of size $224\\times224$ from the image.\n",
        "3. We need to convert the image into a tensor (including pixel values scaling)\n",
        "4. We need to normalize the pixel values with mean $(0.485, 0.456, 0.406)$ and standard deviation $(0.229, 0.224, 0.225)$.\n",
        "\n",
        "Since we will use networks pre-trained on ImageNet, we need to perform the exact same transform as used for ImageNet testing."
      ]
    },
    {
      "cell_type": "code",
      "execution_count": 4,
      "metadata": {
        "id": "p6KBaVVRBfFp"
      },
      "outputs": [],
      "source": [
        "import torch\n",
        "import torchvision\n",
        "\n",
        "imagenet_transform = torchvision.transforms.Compose(\n",
        "    [\n",
        "        torchvision.transforms.Resize(256),\n",
        "        torchvision.transforms.CenterCrop(224),\n",
        "        torchvision.transforms.ToTensor(),\n",
        "        torchvision.transforms.Normalize(\n",
        "            mean=(0.485, 0.456, 0.406), std=(0.229, 0.224, 0.225)\n",
        "        ),\n",
        "    ]\n",
        ")"
      ]
    },
    {
      "cell_type": "markdown",
      "metadata": {
        "id": "qwHAEFjdBfFp"
      },
      "source": [
        "### Task 2: Dataset Loading\n",
        "\n",
        "We here use the [ImageFolder](https://pytorch.org/vision/main/generated/torchvision.datasets.ImageFolder.html) class from pytorch to load our training and test set respectively.\n",
        "\n",
        "This task consists of two parts:\n",
        "\n",
        "1. Create two datasets, one for the training set, one for the test set. Use the transform defined above.\n",
        "2. Once the datasets are created, create two data loaders, one for training set, one for test set. Use a proper value of the batch-size $B = 256$. Make sure the trainloader shuffle is set to True."
      ]
    },
    {
      "cell_type": "code",
      "execution_count": 5,
      "metadata": {
        "id": "2SLWLwGUBfFp"
      },
      "outputs": [],
      "source": [
        "from torchvision.datasets import ImageFolder\n",
        "\n",
        "# Path to your training and test data (If different, change the path accordingly)\n",
        "train_dir = \"./intel-image-classification/seg_train/seg_train/\"\n",
        "test_dir = \"./intel-image-classification/seg_test/seg_test/\"\n",
        "\n",
        "trainset = ImageFolder(train_dir, transform=imagenet_transform)\n",
        "\n",
        "testset = ImageFolder(test_dir, transform=imagenet_transform)"
      ]
    },
    {
      "cell_type": "code",
      "execution_count": 6,
      "metadata": {
        "id": "sR0Ij_TyBfFp"
      },
      "outputs": [],
      "source": [
        "B = 128\n",
        "trainloader = torch.utils.data.DataLoader(\n",
        "    trainset, batch_size=B, shuffle=True, num_workers=2\n",
        ")\n",
        "testloader = torch.utils.data.DataLoader(\n",
        "    testset, batch_size=B, shuffle=False, num_workers=2\n",
        ")"
      ]
    },
    {
      "cell_type": "markdown",
      "metadata": {
        "id": "CzNtD6cgBfFp"
      },
      "source": [
        "### Test 1: Data Size and Types\n",
        "\n",
        "We check that all input images are `torch.tensors` of size $3\\times224\\times224$ and of type `torch.float` and that all labels are of type `int`.\n",
        "\n",
        "Note: the sanity check is only performed on the test set."
      ]
    },
    {
      "cell_type": "code",
      "execution_count": 7,
      "metadata": {
        "id": "F_bwwjYzBfFq"
      },
      "outputs": [],
      "source": [
        "for x, t in testset:\n",
        "    assert isinstance(x, torch.Tensor)\n",
        "    assert isinstance(t, int)\n",
        "    assert x.shape == (3, 224, 224)\n",
        "    assert x.dtype == torch.float\n",
        "    assert x.max() < 3.0\n",
        "    assert x.min() > -3.0"
      ]
    },
    {
      "cell_type": "markdown",
      "metadata": {
        "id": "plrj3hxVBfFq"
      },
      "source": [
        "## Deep Feature Extraction\n",
        "\n",
        "We will use a pre-trained network available in `PyTorch`.\n",
        "Particularly, we will use a ResNet-50 architecture, but other architectures can also be tested.\n",
        "Fortunately, PyTorch provides simple interfaces to obtain pre-trained models, e.g., using the `torchvision.models.resnet50` interface function.\n",
        "\n",
        "In order to use the networks in a different dataset, we need to change their outputs.\n",
        "There are several possibilities on how to achieve that, and you have the freedom to choose.\n",
        "\n",
        "For your reference, the implementation of the `forward` function of ResNet networks (including ResNet-50) can be found here: https://github.com/pytorch/vision/blob/main/torchvision/models/resnet.py#L266\n",
        "\n",
        "You can also check if other networks perform better, for example, deeper ResNet topologies.\n",
        "Be aware that the strategy to replace the last fully-connected layer might not work the same way in other network topologies, only in residual networks."
      ]
    },
    {
      "cell_type": "markdown",
      "metadata": {
        "id": "PxXbVA9sBfFq"
      },
      "source": [
        "### Task 3: Pre-trained Network Instantiation\n",
        "\n",
        "Instantiate two pre-trained networks of type ResNet-50.\n",
        "\n",
        "1. Freeze the feature layers of the first network.\n",
        "\n",
        "Note: Make use the `old TorchVision Interface` to load your pre-trained network. Here is the link: https://pytorch.org/vision/0.12/models.html"
      ]
    },
    {
      "cell_type": "code",
      "execution_count": 8,
      "metadata": {
        "colab": {
          "base_uri": "https://localhost:8080/"
        },
        "id": "5iRkYD97BfFq",
        "outputId": "fb1722d2-9c8f-4a9a-8663-a0d5c8f1a230"
      },
      "outputs": [
        {
          "output_type": "stream",
          "name": "stderr",
          "text": [
            "/usr/local/lib/python3.10/dist-packages/torchvision/models/_utils.py:208: UserWarning: The parameter 'pretrained' is deprecated since 0.13 and may be removed in the future, please use 'weights' instead.\n",
            "  warnings.warn(\n",
            "/usr/local/lib/python3.10/dist-packages/torchvision/models/_utils.py:223: UserWarning: Arguments other than a weight enum or `None` for 'weights' are deprecated since 0.13 and may be removed in the future. The current behavior is equivalent to passing `weights=ResNet50_Weights.IMAGENET1K_V1`. You can also use `weights=ResNet50_Weights.DEFAULT` to get the most up-to-date weights.\n",
            "  warnings.warn(msg)\n"
          ]
        },
        {
          "output_type": "stream",
          "name": "stdout",
          "text": [
            "ResNet(\n",
            "  (conv1): Conv2d(3, 64, kernel_size=(7, 7), stride=(2, 2), padding=(3, 3), bias=False)\n",
            "  (bn1): BatchNorm2d(64, eps=1e-05, momentum=0.1, affine=True, track_running_stats=True)\n",
            "  (relu): ReLU(inplace=True)\n",
            "  (maxpool): MaxPool2d(kernel_size=3, stride=2, padding=1, dilation=1, ceil_mode=False)\n",
            "  (layer1): Sequential(\n",
            "    (0): Bottleneck(\n",
            "      (conv1): Conv2d(64, 64, kernel_size=(1, 1), stride=(1, 1), bias=False)\n",
            "      (bn1): BatchNorm2d(64, eps=1e-05, momentum=0.1, affine=True, track_running_stats=True)\n",
            "      (conv2): Conv2d(64, 64, kernel_size=(3, 3), stride=(1, 1), padding=(1, 1), bias=False)\n",
            "      (bn2): BatchNorm2d(64, eps=1e-05, momentum=0.1, affine=True, track_running_stats=True)\n",
            "      (conv3): Conv2d(64, 256, kernel_size=(1, 1), stride=(1, 1), bias=False)\n",
            "      (bn3): BatchNorm2d(256, eps=1e-05, momentum=0.1, affine=True, track_running_stats=True)\n",
            "      (relu): ReLU(inplace=True)\n",
            "      (downsample): Sequential(\n",
            "        (0): Conv2d(64, 256, kernel_size=(1, 1), stride=(1, 1), bias=False)\n",
            "        (1): BatchNorm2d(256, eps=1e-05, momentum=0.1, affine=True, track_running_stats=True)\n",
            "      )\n",
            "    )\n",
            "    (1): Bottleneck(\n",
            "      (conv1): Conv2d(256, 64, kernel_size=(1, 1), stride=(1, 1), bias=False)\n",
            "      (bn1): BatchNorm2d(64, eps=1e-05, momentum=0.1, affine=True, track_running_stats=True)\n",
            "      (conv2): Conv2d(64, 64, kernel_size=(3, 3), stride=(1, 1), padding=(1, 1), bias=False)\n",
            "      (bn2): BatchNorm2d(64, eps=1e-05, momentum=0.1, affine=True, track_running_stats=True)\n",
            "      (conv3): Conv2d(64, 256, kernel_size=(1, 1), stride=(1, 1), bias=False)\n",
            "      (bn3): BatchNorm2d(256, eps=1e-05, momentum=0.1, affine=True, track_running_stats=True)\n",
            "      (relu): ReLU(inplace=True)\n",
            "    )\n",
            "    (2): Bottleneck(\n",
            "      (conv1): Conv2d(256, 64, kernel_size=(1, 1), stride=(1, 1), bias=False)\n",
            "      (bn1): BatchNorm2d(64, eps=1e-05, momentum=0.1, affine=True, track_running_stats=True)\n",
            "      (conv2): Conv2d(64, 64, kernel_size=(3, 3), stride=(1, 1), padding=(1, 1), bias=False)\n",
            "      (bn2): BatchNorm2d(64, eps=1e-05, momentum=0.1, affine=True, track_running_stats=True)\n",
            "      (conv3): Conv2d(64, 256, kernel_size=(1, 1), stride=(1, 1), bias=False)\n",
            "      (bn3): BatchNorm2d(256, eps=1e-05, momentum=0.1, affine=True, track_running_stats=True)\n",
            "      (relu): ReLU(inplace=True)\n",
            "    )\n",
            "  )\n",
            "  (layer2): Sequential(\n",
            "    (0): Bottleneck(\n",
            "      (conv1): Conv2d(256, 128, kernel_size=(1, 1), stride=(1, 1), bias=False)\n",
            "      (bn1): BatchNorm2d(128, eps=1e-05, momentum=0.1, affine=True, track_running_stats=True)\n",
            "      (conv2): Conv2d(128, 128, kernel_size=(3, 3), stride=(2, 2), padding=(1, 1), bias=False)\n",
            "      (bn2): BatchNorm2d(128, eps=1e-05, momentum=0.1, affine=True, track_running_stats=True)\n",
            "      (conv3): Conv2d(128, 512, kernel_size=(1, 1), stride=(1, 1), bias=False)\n",
            "      (bn3): BatchNorm2d(512, eps=1e-05, momentum=0.1, affine=True, track_running_stats=True)\n",
            "      (relu): ReLU(inplace=True)\n",
            "      (downsample): Sequential(\n",
            "        (0): Conv2d(256, 512, kernel_size=(1, 1), stride=(2, 2), bias=False)\n",
            "        (1): BatchNorm2d(512, eps=1e-05, momentum=0.1, affine=True, track_running_stats=True)\n",
            "      )\n",
            "    )\n",
            "    (1): Bottleneck(\n",
            "      (conv1): Conv2d(512, 128, kernel_size=(1, 1), stride=(1, 1), bias=False)\n",
            "      (bn1): BatchNorm2d(128, eps=1e-05, momentum=0.1, affine=True, track_running_stats=True)\n",
            "      (conv2): Conv2d(128, 128, kernel_size=(3, 3), stride=(1, 1), padding=(1, 1), bias=False)\n",
            "      (bn2): BatchNorm2d(128, eps=1e-05, momentum=0.1, affine=True, track_running_stats=True)\n",
            "      (conv3): Conv2d(128, 512, kernel_size=(1, 1), stride=(1, 1), bias=False)\n",
            "      (bn3): BatchNorm2d(512, eps=1e-05, momentum=0.1, affine=True, track_running_stats=True)\n",
            "      (relu): ReLU(inplace=True)\n",
            "    )\n",
            "    (2): Bottleneck(\n",
            "      (conv1): Conv2d(512, 128, kernel_size=(1, 1), stride=(1, 1), bias=False)\n",
            "      (bn1): BatchNorm2d(128, eps=1e-05, momentum=0.1, affine=True, track_running_stats=True)\n",
            "      (conv2): Conv2d(128, 128, kernel_size=(3, 3), stride=(1, 1), padding=(1, 1), bias=False)\n",
            "      (bn2): BatchNorm2d(128, eps=1e-05, momentum=0.1, affine=True, track_running_stats=True)\n",
            "      (conv3): Conv2d(128, 512, kernel_size=(1, 1), stride=(1, 1), bias=False)\n",
            "      (bn3): BatchNorm2d(512, eps=1e-05, momentum=0.1, affine=True, track_running_stats=True)\n",
            "      (relu): ReLU(inplace=True)\n",
            "    )\n",
            "    (3): Bottleneck(\n",
            "      (conv1): Conv2d(512, 128, kernel_size=(1, 1), stride=(1, 1), bias=False)\n",
            "      (bn1): BatchNorm2d(128, eps=1e-05, momentum=0.1, affine=True, track_running_stats=True)\n",
            "      (conv2): Conv2d(128, 128, kernel_size=(3, 3), stride=(1, 1), padding=(1, 1), bias=False)\n",
            "      (bn2): BatchNorm2d(128, eps=1e-05, momentum=0.1, affine=True, track_running_stats=True)\n",
            "      (conv3): Conv2d(128, 512, kernel_size=(1, 1), stride=(1, 1), bias=False)\n",
            "      (bn3): BatchNorm2d(512, eps=1e-05, momentum=0.1, affine=True, track_running_stats=True)\n",
            "      (relu): ReLU(inplace=True)\n",
            "    )\n",
            "  )\n",
            "  (layer3): Sequential(\n",
            "    (0): Bottleneck(\n",
            "      (conv1): Conv2d(512, 256, kernel_size=(1, 1), stride=(1, 1), bias=False)\n",
            "      (bn1): BatchNorm2d(256, eps=1e-05, momentum=0.1, affine=True, track_running_stats=True)\n",
            "      (conv2): Conv2d(256, 256, kernel_size=(3, 3), stride=(2, 2), padding=(1, 1), bias=False)\n",
            "      (bn2): BatchNorm2d(256, eps=1e-05, momentum=0.1, affine=True, track_running_stats=True)\n",
            "      (conv3): Conv2d(256, 1024, kernel_size=(1, 1), stride=(1, 1), bias=False)\n",
            "      (bn3): BatchNorm2d(1024, eps=1e-05, momentum=0.1, affine=True, track_running_stats=True)\n",
            "      (relu): ReLU(inplace=True)\n",
            "      (downsample): Sequential(\n",
            "        (0): Conv2d(512, 1024, kernel_size=(1, 1), stride=(2, 2), bias=False)\n",
            "        (1): BatchNorm2d(1024, eps=1e-05, momentum=0.1, affine=True, track_running_stats=True)\n",
            "      )\n",
            "    )\n",
            "    (1): Bottleneck(\n",
            "      (conv1): Conv2d(1024, 256, kernel_size=(1, 1), stride=(1, 1), bias=False)\n",
            "      (bn1): BatchNorm2d(256, eps=1e-05, momentum=0.1, affine=True, track_running_stats=True)\n",
            "      (conv2): Conv2d(256, 256, kernel_size=(3, 3), stride=(1, 1), padding=(1, 1), bias=False)\n",
            "      (bn2): BatchNorm2d(256, eps=1e-05, momentum=0.1, affine=True, track_running_stats=True)\n",
            "      (conv3): Conv2d(256, 1024, kernel_size=(1, 1), stride=(1, 1), bias=False)\n",
            "      (bn3): BatchNorm2d(1024, eps=1e-05, momentum=0.1, affine=True, track_running_stats=True)\n",
            "      (relu): ReLU(inplace=True)\n",
            "    )\n",
            "    (2): Bottleneck(\n",
            "      (conv1): Conv2d(1024, 256, kernel_size=(1, 1), stride=(1, 1), bias=False)\n",
            "      (bn1): BatchNorm2d(256, eps=1e-05, momentum=0.1, affine=True, track_running_stats=True)\n",
            "      (conv2): Conv2d(256, 256, kernel_size=(3, 3), stride=(1, 1), padding=(1, 1), bias=False)\n",
            "      (bn2): BatchNorm2d(256, eps=1e-05, momentum=0.1, affine=True, track_running_stats=True)\n",
            "      (conv3): Conv2d(256, 1024, kernel_size=(1, 1), stride=(1, 1), bias=False)\n",
            "      (bn3): BatchNorm2d(1024, eps=1e-05, momentum=0.1, affine=True, track_running_stats=True)\n",
            "      (relu): ReLU(inplace=True)\n",
            "    )\n",
            "    (3): Bottleneck(\n",
            "      (conv1): Conv2d(1024, 256, kernel_size=(1, 1), stride=(1, 1), bias=False)\n",
            "      (bn1): BatchNorm2d(256, eps=1e-05, momentum=0.1, affine=True, track_running_stats=True)\n",
            "      (conv2): Conv2d(256, 256, kernel_size=(3, 3), stride=(1, 1), padding=(1, 1), bias=False)\n",
            "      (bn2): BatchNorm2d(256, eps=1e-05, momentum=0.1, affine=True, track_running_stats=True)\n",
            "      (conv3): Conv2d(256, 1024, kernel_size=(1, 1), stride=(1, 1), bias=False)\n",
            "      (bn3): BatchNorm2d(1024, eps=1e-05, momentum=0.1, affine=True, track_running_stats=True)\n",
            "      (relu): ReLU(inplace=True)\n",
            "    )\n",
            "    (4): Bottleneck(\n",
            "      (conv1): Conv2d(1024, 256, kernel_size=(1, 1), stride=(1, 1), bias=False)\n",
            "      (bn1): BatchNorm2d(256, eps=1e-05, momentum=0.1, affine=True, track_running_stats=True)\n",
            "      (conv2): Conv2d(256, 256, kernel_size=(3, 3), stride=(1, 1), padding=(1, 1), bias=False)\n",
            "      (bn2): BatchNorm2d(256, eps=1e-05, momentum=0.1, affine=True, track_running_stats=True)\n",
            "      (conv3): Conv2d(256, 1024, kernel_size=(1, 1), stride=(1, 1), bias=False)\n",
            "      (bn3): BatchNorm2d(1024, eps=1e-05, momentum=0.1, affine=True, track_running_stats=True)\n",
            "      (relu): ReLU(inplace=True)\n",
            "    )\n",
            "    (5): Bottleneck(\n",
            "      (conv1): Conv2d(1024, 256, kernel_size=(1, 1), stride=(1, 1), bias=False)\n",
            "      (bn1): BatchNorm2d(256, eps=1e-05, momentum=0.1, affine=True, track_running_stats=True)\n",
            "      (conv2): Conv2d(256, 256, kernel_size=(3, 3), stride=(1, 1), padding=(1, 1), bias=False)\n",
            "      (bn2): BatchNorm2d(256, eps=1e-05, momentum=0.1, affine=True, track_running_stats=True)\n",
            "      (conv3): Conv2d(256, 1024, kernel_size=(1, 1), stride=(1, 1), bias=False)\n",
            "      (bn3): BatchNorm2d(1024, eps=1e-05, momentum=0.1, affine=True, track_running_stats=True)\n",
            "      (relu): ReLU(inplace=True)\n",
            "    )\n",
            "  )\n",
            "  (layer4): Sequential(\n",
            "    (0): Bottleneck(\n",
            "      (conv1): Conv2d(1024, 512, kernel_size=(1, 1), stride=(1, 1), bias=False)\n",
            "      (bn1): BatchNorm2d(512, eps=1e-05, momentum=0.1, affine=True, track_running_stats=True)\n",
            "      (conv2): Conv2d(512, 512, kernel_size=(3, 3), stride=(2, 2), padding=(1, 1), bias=False)\n",
            "      (bn2): BatchNorm2d(512, eps=1e-05, momentum=0.1, affine=True, track_running_stats=True)\n",
            "      (conv3): Conv2d(512, 2048, kernel_size=(1, 1), stride=(1, 1), bias=False)\n",
            "      (bn3): BatchNorm2d(2048, eps=1e-05, momentum=0.1, affine=True, track_running_stats=True)\n",
            "      (relu): ReLU(inplace=True)\n",
            "      (downsample): Sequential(\n",
            "        (0): Conv2d(1024, 2048, kernel_size=(1, 1), stride=(2, 2), bias=False)\n",
            "        (1): BatchNorm2d(2048, eps=1e-05, momentum=0.1, affine=True, track_running_stats=True)\n",
            "      )\n",
            "    )\n",
            "    (1): Bottleneck(\n",
            "      (conv1): Conv2d(2048, 512, kernel_size=(1, 1), stride=(1, 1), bias=False)\n",
            "      (bn1): BatchNorm2d(512, eps=1e-05, momentum=0.1, affine=True, track_running_stats=True)\n",
            "      (conv2): Conv2d(512, 512, kernel_size=(3, 3), stride=(1, 1), padding=(1, 1), bias=False)\n",
            "      (bn2): BatchNorm2d(512, eps=1e-05, momentum=0.1, affine=True, track_running_stats=True)\n",
            "      (conv3): Conv2d(512, 2048, kernel_size=(1, 1), stride=(1, 1), bias=False)\n",
            "      (bn3): BatchNorm2d(2048, eps=1e-05, momentum=0.1, affine=True, track_running_stats=True)\n",
            "      (relu): ReLU(inplace=True)\n",
            "    )\n",
            "    (2): Bottleneck(\n",
            "      (conv1): Conv2d(2048, 512, kernel_size=(1, 1), stride=(1, 1), bias=False)\n",
            "      (bn1): BatchNorm2d(512, eps=1e-05, momentum=0.1, affine=True, track_running_stats=True)\n",
            "      (conv2): Conv2d(512, 512, kernel_size=(3, 3), stride=(1, 1), padding=(1, 1), bias=False)\n",
            "      (bn2): BatchNorm2d(512, eps=1e-05, momentum=0.1, affine=True, track_running_stats=True)\n",
            "      (conv3): Conv2d(512, 2048, kernel_size=(1, 1), stride=(1, 1), bias=False)\n",
            "      (bn3): BatchNorm2d(2048, eps=1e-05, momentum=0.1, affine=True, track_running_stats=True)\n",
            "      (relu): ReLU(inplace=True)\n",
            "    )\n",
            "  )\n",
            "  (avgpool): AdaptiveAvgPool2d(output_size=(1, 1))\n",
            "  (fc): Linear(in_features=2048, out_features=1000, bias=True)\n",
            ")\n"
          ]
        }
      ],
      "source": [
        "# instantiate the first pre-trained resnet 50 network\n",
        "network_1 = torchvision.models.resnet50(pretrained=True)\n",
        "print(network_1)\n",
        "# Make sure to freeze all the layers of the network.\n",
        "for parameter in network_1.parameters():\n",
        "    parameter.requires_grad = False\n",
        "\n",
        "# instantiate the second pre-trained resnet 50 network (optinally) without the freezing\n",
        "network_2 = torchvision.models.resnet50(pretrained=True)"
      ]
    },
    {
      "cell_type": "markdown",
      "metadata": {
        "id": "ZR4mkqQkBfFq"
      },
      "source": [
        "### Task 4: Network Implementation\n",
        "\n",
        "We want to modify the network such that we extract the logits for the 6 classes from the last fully-connected layer of the network.\n",
        "\n",
        "Implement a function that:\n",
        "1. Replaces the current last linear layer of the pre-trained network with a new linear layer that has $O$ units ($O$ represents the number of classes in our dataset)."
      ]
    },
    {
      "cell_type": "code",
      "execution_count": 9,
      "metadata": {
        "id": "Z1v0szF0BfFq"
      },
      "outputs": [],
      "source": [
        "def replace_last_layer(network, O=6):\n",
        "    # replace the last linear layer with the new layer\n",
        "    network.fc = torch.nn.Linear(in_features=2048, out_features=O)\n",
        "\n",
        "    return network"
      ]
    },
    {
      "cell_type": "markdown",
      "metadata": {
        "id": "9EhL4WjbBfFq"
      },
      "source": [
        "### Test 2: Last layer dimensions\n",
        "\n",
        "This test ensures that the function return a network having the correct number of input and output units in the last layer."
      ]
    },
    {
      "cell_type": "code",
      "execution_count": 10,
      "metadata": {
        "id": "XXPP2OJLBfFq"
      },
      "outputs": [],
      "source": [
        "O = 6\n",
        "for network in (network_1, network_2):\n",
        "    new_model = replace_last_layer(network, O=O)\n",
        "    assert new_model.fc.out_features == O\n",
        "    assert new_model.fc.in_features == 2048"
      ]
    },
    {
      "cell_type": "markdown",
      "metadata": {
        "id": "B7jGZyJGBfFq"
      },
      "source": [
        "## Network Training\n",
        "Implement a function that takes all necessary parameters to run a training on a given dataset.\n",
        "Select the optimizer to be `torch.optim.SGD` and `torch.nn.CrossEntropyLoss` as the loss function.\n",
        "The test set will be used as the validation set."
      ]
    },
    {
      "cell_type": "markdown",
      "metadata": {
        "id": "20N-KBVhBfFq"
      },
      "source": [
        "### Task 5: Training and Evaluation Loop\n",
        "\n",
        "Implement a training loop over a specific number of epochs (5) with a learning rate of $\\eta=0.001$ and momentum of $\\mu = 0.9$. The function should return the predictions and the labels on the validation set after 5 epochs.\n",
        "\n",
        "In each loop, compute and print the training loss, training accuracy, validation loss and validation accuracy.\n",
        "\n",
        "Make sure that you train on the training data only, and `not` on the validation data."
      ]
    },
    {
      "cell_type": "code",
      "source": [
        "device = torch.device(\"cuda\")"
      ],
      "metadata": {
        "id": "mpeclMy4CVTS"
      },
      "execution_count": 11,
      "outputs": []
    },
    {
      "cell_type": "code",
      "execution_count": 26,
      "metadata": {
        "id": "KAh1pt97BfFr"
      },
      "outputs": [],
      "source": [
        "from tqdm import tqdm\n",
        "\n",
        "\n",
        "def train_eval(network, epochs, momentum, lr):\n",
        "    optimizer = torch.optim.SGD(params=network.parameters(), lr=lr, momentum=momentum)\n",
        "    loss = torch.nn.CrossEntropyLoss()\n",
        "    network = network.to(device)\n",
        "\n",
        "    for epoch in range(epochs):\n",
        "        # training process\n",
        "        network.train() # important, don't forget\n",
        "        for x, t in tqdm(trainloader):\n",
        "            optimizer.zero_grad()\n",
        "            x, t = x.to(device), t.to(device)\n",
        "            y = network(x)\n",
        "            J = loss(y, t)\n",
        "            J.backward()\n",
        "            optimizer.step()\n",
        "\n",
        "        # testing process\n",
        "        network.eval()\n",
        "        with torch.no_grad():\n",
        "            for x, t in testloader:\n",
        "                # put data to device\n",
        "                x, t = x.to(device), t.to(device)\n",
        "                # compute validation loss\n",
        "                y = network(x)\n",
        "                J = loss(y, t)\n",
        "                correct = torch.sum(torch.argmax(y, dim=1) == t).item()\n",
        "                samples = x.size(0)\n",
        "\n",
        "        # Calculate and print accuracies and losses for current epoch\n",
        "        acc = correct / samples\n",
        "        print(\n",
        "            f\"Epoch {epoch}: validation loss = {J.item()}, validation accuracy = {acc}\"\n",
        "        )\n",
        "\n",
        "    # Save predictions and target labels of the test set after the last epoch\n",
        "    pred, target = [], []  # Store only the test results\n",
        "    with torch.no_grad():\n",
        "      for x, t in testloader:\n",
        "        x, t = x.to(device), t.to(device)\n",
        "        y = network(x)\n",
        "        pr = torch.argmax(y, dim=1).detach().cpu()\n",
        "        pred.append(pr)\n",
        "        target.append(t.detach().cpu())\n",
        "\n",
        "\n",
        "    return pred, target"
      ]
    },
    {
      "cell_type": "markdown",
      "metadata": {
        "id": "y4jWlD9EBfFr"
      },
      "source": [
        "### Task 6: Network Fine-Tuning with Frozen Layers\n",
        "\n",
        "Create a network that has feature layers frozen with $6$ output units.\n",
        "Fine-tune the created network on our Intel Image Classification data using the previous function."
      ]
    },
    {
      "cell_type": "code",
      "execution_count": 27,
      "metadata": {
        "colab": {
          "base_uri": "https://localhost:8080/"
        },
        "id": "-rxAG2_mBfFs",
        "outputId": "7a18bb98-cd49-417a-c75e-dbf3896493e4"
      },
      "outputs": [
        {
          "output_type": "stream",
          "name": "stderr",
          "text": [
            "100%|██████████| 110/110 [01:02<00:00,  1.75it/s]\n"
          ]
        },
        {
          "output_type": "stream",
          "name": "stdout",
          "text": [
            "Epoch 0: validation loss = 0.3197963237762451, validation accuracy = 0.9464285714285714\n"
          ]
        }
      ],
      "source": [
        "torch.cuda.empty_cache()\n",
        "network_with_frozen_layers = replace_last_layer(network_1, O=6)\n",
        "pred_frozen, targ_frozen = train_eval(network_with_frozen_layers, epochs=1, lr=0.001, momentum=0.9)"
      ]
    },
    {
      "cell_type": "markdown",
      "metadata": {
        "id": "kKWHiOwQBfFs"
      },
      "source": [
        "### Task 7: Network Fine-Tuning without Frozen Layers\n",
        "\n",
        "Create a network from the second pre-trained network with $6$ output units. This network should not have the layers frozen.\n",
        "Fine-tune the created network on our dataset.\n",
        "\n",
        "Note:\n",
        "\n",
        "  * The fine-tuning of the network can take a long time (> 30 minutes) when the layers are not frozen."
      ]
    },
    {
      "cell_type": "code",
      "execution_count": 30,
      "metadata": {
        "colab": {
          "base_uri": "https://localhost:8080/"
        },
        "id": "WY5Y_3a1BfFs",
        "outputId": "be6e2e47-ba86-4626-d98b-3fcc91e66350"
      },
      "outputs": [
        {
          "output_type": "stream",
          "name": "stderr",
          "text": [
            "100%|██████████| 110/110 [02:13<00:00,  1.21s/it]\n"
          ]
        },
        {
          "output_type": "stream",
          "name": "stdout",
          "text": [
            "Epoch 0: validation loss = 0.19940797984600067, validation accuracy = 0.9107142857142857\n"
          ]
        }
      ],
      "source": [
        "torch.cuda.empty_cache()\n",
        "network_normal = replace_last_layer(network_2, O=6)  # Use network_2 defined above and replace the last layer\n",
        "pred_unfrozen, targ_unfrozen = train_eval(network_normal, epochs=1, lr=0.001, momentum=0.9)"
      ]
    },
    {
      "cell_type": "markdown",
      "metadata": {
        "id": "NLe5KZ3dBfFs"
      },
      "source": [
        "## Plotting\n",
        "\n",
        "Finally, we want to plot the confusion matrix of the test set.\n",
        "For this, we need use the predictions and target values we saved from the previous tasks (Task 6 and Task 7).\n",
        "Finally, we can make use of the `sklearn.metrics.confusion_matrix` to compute the confusion matrix.\n",
        "You can utilize `sklearn.metrics.ConfusionMatrixDisplay` for displaying the confusion matrix, or `pyplot.imshow` and adding the according labels.\n",
        "\n",
        "Note:\n",
        "\n",
        "  * The documentation for the confusion matrix can be found here: https://scikit-learn.org/stable/modules/generated/sklearn.metrics.confusion_matrix.html\n",
        "  * The interface and an example for the `ConfusionMatrixDisplay` can be found here: https://scikit-learn.org/stable/modules/generated/sklearn.metrics.ConfusionMatrixDisplay.html"
      ]
    },
    {
      "cell_type": "markdown",
      "metadata": {
        "id": "sD0GrIwzBfFs"
      },
      "source": [
        "### Task 8: Confusion Matrix Plotting\n",
        "\n",
        "* Plot the confusion matrix for the fine-tuned network with frozen layers.\n",
        "* Also plot the confusion matrix for the second fine-tuned network without frozen layers.\n",
        "* Compare the two"
      ]
    },
    {
      "cell_type": "code",
      "execution_count": 31,
      "metadata": {
        "colab": {
          "base_uri": "https://localhost:8080/",
          "height": 524
        },
        "id": "77CEdiyLBfFs",
        "outputId": "2654f754-c035-49a3-83d2-e5d96d3876cc"
      },
      "outputs": [
        {
          "output_type": "display_data",
          "data": {
            "text/plain": [
              "<Figure size 640x480 with 2 Axes>"
            ],
            "image/png": "[encoded data removed]"
          },
          "metadata": {}
        }
      ],
      "source": [
        "from sklearn.metrics import confusion_matrix, ConfusionMatrixDisplay\n",
        "import matplotlib.pyplot as plt\n",
        "\n",
        "# add axis labels if required\n",
        "classes = trainset.classes\n",
        "\n",
        "# compute confusion matrix\n",
        "matrix_frozen = confusion_matrix(torch.cat(targ_frozen), torch.cat(pred_frozen)) # Use predictions and target from the fine-tuned network with frozen layers\n",
        "matrix_unfrozen = confusion_matrix(torch.cat(targ_unfrozen), torch.cat(pred_unfrozen)) # Use predictions and target from the fine-tuned network without frozen layers\n",
        "\n",
        "# plot confusion matrices\n",
        "plot_conf_matrix1 = ConfusionMatrixDisplay(matrix_frozen, display_labels=classes)\n",
        "plot_conf_matrix1.plot(xticks_rotation = \"vertical\")\n",
        "plt.title('Confusion Matrix - Frozen Layers')\n",
        "plt.show()"
      ]
    },
    {
      "cell_type": "code",
      "execution_count": 32,
      "metadata": {
        "colab": {
          "base_uri": "https://localhost:8080/",
          "height": 524
        },
        "id": "B8hPsl5sBfFs",
        "outputId": "4338398e-d411-4260-d561-3b266288faeb"
      },
      "outputs": [
        {
          "output_type": "display_data",
          "data": {
            "text/plain": [
              "<Figure size 640x480 with 2 Axes>"
            ],
            "image/png": "[encoded data removed]"
          },
          "metadata": {}
        }
      ],
      "source": [
        "plot_conf_matrix2 = ConfusionMatrixDisplay(matrix_unfrozen, display_labels=classes)\n",
        "plot_conf_matrix2.plot(xticks_rotation = \"vertical\")\n",
        "plt.title('Confusion Matrix - Unfrozen Layers')\n",
        "plt.show()"
      ]
    },
    {
      "cell_type": "markdown",
      "source": [
        "As we can see, the unfrozen network seems to perform better accuracy wise."
      ],
      "metadata": {
        "id": "Q9dq81sfRx-I"
      }
    }
  ],
  "metadata": {
    "interpreter": {
      "hash": "2dd53f8ad749bca69f7250ce75eb4f0def59db5cf79075a9716322ffc58e8a2e"
    },
    "kernelspec": {
      "display_name": "Python 3",
      "name": "python3"
    },
    "language_info": {
      "codemirror_mode": {
        "name": "ipython",
        "version": 3
      },
      "file_extension": ".py",
      "mimetype": "text/x-python",
      "name": "python",
      "nbconvert_exporter": "python",
      "pygments_lexer": "ipython3",
      "version": "3.12.2"
    },
    "orig_nbformat": 4,
    "colab": {
      "provenance": [],
      "gpuType": "T4"
    },
    "accelerator": "GPU"
  },
  "nbformat": 4,
  "nbformat_minor": 0
}